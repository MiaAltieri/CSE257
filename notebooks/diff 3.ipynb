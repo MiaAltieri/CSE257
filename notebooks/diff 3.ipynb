{
 "cells": [
  {
   "cell_type": "code",
   "execution_count": 1,
   "id": "a5a7ce28",
   "metadata": {},
   "outputs": [],
   "source": [
    "# Import dependencies"
   ]
  },
  {
   "cell_type": "code",
   "execution_count": 2,
   "id": "06137f0b",
   "metadata": {},
   "outputs": [],
   "source": [
    "# Reload modules whenever underlying code changes\n",
    "%load_ext autoreload\n",
    "%autoreload 2"
   ]
  },
  {
   "cell_type": "code",
   "execution_count": 3,
   "id": "907ef809",
   "metadata": {},
   "outputs": [
    {
     "name": "stderr",
     "output_type": "stream",
     "text": [
      "\n",
      "Bad key savefig.frameon in file /home/mgaltier200/anaconda3/lib/python3.7/site-packages/matplotlib/mpl-data/stylelib/_classic_test.mplstyle, line 421 ('savefig.frameon : True')\n",
      "You probably need to get an updated matplotlibrc file from\n",
      "https://github.com/matplotlib/matplotlib/blob/v3.4.2/matplotlibrc.template\n",
      "or from the matplotlib source distribution\n",
      "\n",
      "Bad key verbose.level in file /home/mgaltier200/anaconda3/lib/python3.7/site-packages/matplotlib/mpl-data/stylelib/_classic_test.mplstyle, line 472 ('verbose.level  : silent      # one of silent, helpful, debug, debug-annoying')\n",
      "You probably need to get an updated matplotlibrc file from\n",
      "https://github.com/matplotlib/matplotlib/blob/v3.4.2/matplotlibrc.template\n",
      "or from the matplotlib source distribution\n",
      "\n",
      "Bad key verbose.fileo in file /home/mgaltier200/anaconda3/lib/python3.7/site-packages/matplotlib/mpl-data/stylelib/_classic_test.mplstyle, line 473 ('verbose.fileo  : sys.stdout  # a log filename, sys.stdout or sys.stderr')\n",
      "You probably need to get an updated matplotlibrc file from\n",
      "https://github.com/matplotlib/matplotlib/blob/v3.4.2/matplotlibrc.template\n",
      "or from the matplotlib source distribution\n",
      "In /home/mgaltier200/anaconda3/lib/python3.7/site-packages/matplotlib/mpl-data/stylelib/_classic_test.mplstyle: \n",
      "The text.latex.preview rcparam was deprecated in Matplotlib 3.3 and will be removed two minor releases later.\n",
      "In /home/mgaltier200/anaconda3/lib/python3.7/site-packages/matplotlib/mpl-data/stylelib/_classic_test.mplstyle: \n",
      "The mathtext.fallback_to_cm rcparam was deprecated in Matplotlib 3.3 and will be removed two minor releases later.\n",
      "In /home/mgaltier200/anaconda3/lib/python3.7/site-packages/matplotlib/mpl-data/stylelib/_classic_test.mplstyle: Support for setting the 'mathtext.fallback_to_cm' rcParam is deprecated since 3.3 and will be removed two minor releases later; use 'mathtext.fallback : 'cm' instead.\n",
      "In /home/mgaltier200/anaconda3/lib/python3.7/site-packages/matplotlib/mpl-data/stylelib/_classic_test.mplstyle: \n",
      "The validate_bool_maybe_none function was deprecated in Matplotlib 3.3 and will be removed two minor releases later.\n",
      "In /home/mgaltier200/anaconda3/lib/python3.7/site-packages/matplotlib/mpl-data/stylelib/_classic_test.mplstyle: \n",
      "The savefig.jpeg_quality rcparam was deprecated in Matplotlib 3.3 and will be removed two minor releases later.\n",
      "In /home/mgaltier200/anaconda3/lib/python3.7/site-packages/matplotlib/mpl-data/stylelib/_classic_test.mplstyle: \n",
      "The keymap.all_axes rcparam was deprecated in Matplotlib 3.3 and will be removed two minor releases later.\n",
      "In /home/mgaltier200/anaconda3/lib/python3.7/site-packages/matplotlib/mpl-data/stylelib/_classic_test.mplstyle: \n",
      "The animation.avconv_path rcparam was deprecated in Matplotlib 3.3 and will be removed two minor releases later.\n",
      "In /home/mgaltier200/anaconda3/lib/python3.7/site-packages/matplotlib/mpl-data/stylelib/_classic_test.mplstyle: \n",
      "The animation.avconv_args rcparam was deprecated in Matplotlib 3.3 and will be removed two minor releases later.\n",
      "/home/mgaltier200/anaconda3/lib/python3.7/site-packages/dask/dataframe/utils.py:13: FutureWarning: pandas.util.testing is deprecated. Use the functions in the public API at pandas.testing instead.\n",
      "  import pandas.util.testing as tm\n"
     ]
    }
   ],
   "source": [
    "%matplotlib inline\n",
    "from sgm.dependencies import *"
   ]
  },
  {
   "cell_type": "code",
   "execution_count": 4,
   "id": "62dd1a5b",
   "metadata": {},
   "outputs": [],
   "source": [
    "from sgm.envs import env_load_fn\n",
    "from sgm.agent import UvfAgent\n",
    "from sgm.trainer import train_eval\n",
    "from sgm.envs import *\n",
    "from scipy.spatial import distance\n",
    "from sgm.evaluation import cleanup_and_eval\n",
    "from sgm.planner import SoRBSearchPolicy\n",
    "    \n",
    "def generalized_difficulty(resize_factor):\n",
    "    tf.reset_default_graph()\n",
    "\n",
    "    # If you change the environment parameters below, make sure to run\n",
    "    # tf.reset_default_graph() in the cell above before training.\n",
    "    max_episode_steps = 20\n",
    "    env_name = 'FourRooms'  # Choose one of the environments shown above. \n",
    "    resize_factor = resize_factor  # Inflate the environment to increase the difficulty.\n",
    "    thin = True # If True, resize by expanding open space, not walls, to make walls thin\n",
    "    desc_name = \"thinned_\" + env_name.lower() if thin else env_name.lower()\n",
    "\n",
    "    base_dir = os.path.join(os.getcwd(), os.pardir, \"agents\")\n",
    "    model_dir = os.path.join(base_dir, desc_name)\n",
    "\n",
    "    tf_env = env_load_fn(env_name, max_episode_steps,\n",
    "                         resize_factor=resize_factor,\n",
    "                         terminate_on_timeout=False,\n",
    "                         thin=thin)\n",
    "    eval_tf_env = env_load_fn(env_name, max_episode_steps,\n",
    "                              resize_factor=resize_factor,\n",
    "                              terminate_on_timeout=True,\n",
    "                              thin=thin)\n",
    "\n",
    "    agent = UvfAgent(\n",
    "        tf_env.time_step_spec(),\n",
    "        tf_env.action_spec(),\n",
    "        max_episode_steps=max_episode_steps,\n",
    "        use_distributional_rl=True,\n",
    "        ensemble_size=3)\n",
    "\n",
    "\n",
    "\n",
    "    train_eval(agent,\n",
    "              tf_env,\n",
    "              eval_tf_env,\n",
    "              initial_collect_steps=1000,\n",
    "              eval_interval=1000,\n",
    "              num_eval_episodes=10,\n",
    "              num_iterations=30000,\n",
    "              save_model_dir=model_dir,\n",
    "              experiment_name=f\"{resize_factor}_{env_name}_coordinate_{max_episode_steps}steps\")\n",
    "\n",
    "    filename = str(resize_factor)+\"_FourRooms_coordinate_20steps-Dec-05-2019-12-58-28-PM/ckpt/\"\n",
    "    checkpoint_file = os.path.join(model_dir, filename)\n",
    "\n",
    "    ckpt = tf.train.Checkpoint(step=tf.Variable(1), net=agent)\n",
    "    manager = tf.train.CheckpointManager(ckpt, checkpoint_file, max_to_keep=3)\n",
    "    ckpt.restore(manager.latest_checkpoint)\n",
    "\n",
    "    #@title Fill the replay buffer with random data  {vertical-output: true, run: \"auto\" }\n",
    "    replay_buffer_size = 2000 #@param {min:100, max: 1000, step: 100, type:\"slider\"}\n",
    "\n",
    "    eval_tf_env.pyenv.envs[0].gym.set_sample_goal_args(\n",
    "        prob_constraint=0.0,\n",
    "        min_dist=0,\n",
    "        max_dist=np.inf)\n",
    "    rb_vec = []\n",
    "    for it in range(replay_buffer_size):\n",
    "        ts = eval_tf_env.reset()\n",
    "        rb_vec.append(ts.observation['observation'].numpy()[0])\n",
    "    rb_vec = np.array(rb_vec)\n",
    "\n",
    "\n",
    "    plt.figure(figsize=(6, 6))\n",
    "    plt.scatter(*rb_vec.T)\n",
    "    plot_walls(eval_tf_env.pyenv.envs[0].env.walls)\n",
    "    plt.show()\n",
    "\n",
    "    pdist = agent._get_pairwise_dist(rb_vec, aggregate=None).numpy()\n",
    "\n",
    "    plt.figure(figsize=(6, 3))\n",
    "    plt.hist(pdist.flatten(), bins=range(20))\n",
    "    plt.xlabel('predicted distance')\n",
    "    plt.ylabel('number of (s, g) pairs')\n",
    "    plt.show()\n",
    "\n",
    "    euclidean_dists = distance.pdist(rb_vec)\n",
    "\n",
    "    plt.figure(figsize=(6, 3))\n",
    "    plt.hist(euclidean_dists.flatten())\n",
    "    plt.xlabel('Euclidean distance')\n",
    "    plt.ylabel('number of pairwise distances')\n",
    "    plt.show()\n",
    "\n",
    "    search_policy_type = \"SoRB\"\n",
    "    agent.initialize_search(rb_vec, max_search_steps=6)\n",
    "    search_policy = SoRBSearchPolicy(agent, pdist, rb_vec)\n",
    "\n",
    "\n",
    "    logdir = os.path.join(os.getcwd(), os.pardir, \"logs\")\n",
    "    eval_difficulty = 0.95\n",
    "    k_nearest = 5\n",
    "    eval_trials = 20\n",
    "    total_cleanup_steps = 50000\n",
    "    eval_period = 5000\n",
    "\n",
    "    logfolder = cleanup_and_eval(search_policy,\n",
    "                                 search_policy_type,\n",
    "                                 desc_name,\n",
    "                                 eval_tf_env,\n",
    "                                 logdir,\n",
    "                                 eval_difficulty=eval_difficulty,\n",
    "                                 k_nearest=k_nearest,\n",
    "                                 eval_trials=eval_trials,\n",
    "                                 total_cleanup_steps=total_cleanup_steps,\n",
    "                                 eval_period=eval_period)"
   ]
  },
  {
   "cell_type": "code",
   "execution_count": 5,
   "id": "764288e5",
   "metadata": {},
   "outputs": [
    {
     "name": "stderr",
     "output_type": "stream",
     "text": [
      "/home/mgaltier200/anaconda3/lib/python3.7/site-packages/gym/logger.py:30: UserWarning: \u001b[33mWARN: Box bound precision lowered by casting to float32\u001b[0m\n",
      "  warnings.warn(colorize('%s: %s'%('WARN', msg % args), 'yellow'))\n"
     ]
    },
    {
     "name": "stdout",
     "output_type": "stream",
     "text": [
      "WARNING:tensorflow:From /home/mgaltier200/anaconda3/lib/python3.7/site-packages/tf_agents/agents/ddpg/actor_network.py:101: The name tf.keras.initializers.RandomUniform is deprecated. Please use tf.compat.v1.keras.initializers.RandomUniform instead.\n",
      "\n",
      "INFO:tensorflow:random_seed = 0\n",
      "WARNING:tensorflow:From /home/mgaltier200/anaconda3/lib/python3.7/site-packages/tensorflow_core/python/ops/resource_variable_ops.py:1781: calling BaseResourceVariable.__init__ (from tensorflow.python.ops.resource_variable_ops) with constraint is deprecated and will be removed in a future version.\n",
      "Instructions for updating:\n",
      "If using Keras pass *_constraint arguments to layers.\n",
      "WARNING:tensorflow:From /home/mgaltier200/anaconda3/lib/python3.7/site-packages/tf_agents/replay_buffers/tf_uniform_replay_buffer.py:545: where (from tensorflow.python.ops.array_ops) is deprecated and will be removed in a future version.\n",
      "Instructions for updating:\n",
      "Use tf.where in 2.0, which has the same broadcast rule as np.where\n",
      "INFO:tensorflow:Saving checkpoints to directory /home/mgaltier200/sgm/notebooks/../agents/thinned_fourrooms/3_FourRooms_coordinate_20steps-May-17-2021-09-07-50-PM/ckpt\n",
      "INFO:tensorflow:Creating tensorboard summary writer with directory /home/mgaltier200/sgm/notebooks/../agents/thinned_fourrooms/3_FourRooms_coordinate_20steps-May-17-2021-09-07-50-PM\n",
      "WARNING:tensorflow:\n",
      "The TensorFlow contrib module will not be included in TensorFlow 2.0.\n",
      "For more information, please see:\n",
      "  * https://github.com/tensorflow/community/blob/master/rfcs/20180907-contrib-sunset.md\n",
      "  * https://github.com/tensorflow/addons\n",
      "  * https://github.com/tensorflow/io (for I/O related ops)\n",
      "If you depend on functionality not listed there, please file an issue.\n",
      "\n"
     ]
    },
    {
     "name": "stderr",
     "output_type": "stream",
     "text": [
      "  3%|▎         | 995/30000 [00:19<07:58, 60.62it/s] "
     ]
    },
    {
     "name": "stdout",
     "output_type": "stream",
     "text": [
      "Saved checkpoint for step 1000: /home/mgaltier200/sgm/notebooks/../agents/thinned_fourrooms/3_FourRooms_coordinate_20steps-May-17-2021-09-07-50-PM/ckpt/ckpt-1\n",
      "INFO:tensorflow:step = 1000, loss = 2.328518\n",
      "INFO:tensorflow:54.478 steps/sec\n",
      "INFO:tensorflow:step = 1000\n",
      "INFO:tensorflow:\t set goal dist = 2\n",
      "INFO:tensorflow:\t\t AverageReturn (eval distance=2.000000) -16.40\n",
      "INFO:tensorflow:\t\t predicted_dist = 14.2 (0.6)\n",
      "INFO:tensorflow:\t set goal dist = 5\n",
      "INFO:tensorflow:\t\t AverageReturn (eval distance=5.000000) -17.80\n",
      "INFO:tensorflow:\t\t predicted_dist = 15.2 (0.3)\n",
      "INFO:tensorflow:\t set goal dist = 10\n",
      "INFO:tensorflow:\t\t AverageReturn (eval distance=10.000000) -19.70\n",
      "INFO:tensorflow:\t\t predicted_dist = 15.7 (0.3)\n",
      "INFO:tensorflow:\t eval_time = 3.98\n"
     ]
    },
    {
     "name": "stderr",
     "output_type": "stream",
     "text": [
      "  7%|▋         | 1999/30000 [00:39<08:34, 54.48it/s]  "
     ]
    },
    {
     "name": "stdout",
     "output_type": "stream",
     "text": [
      "Saved checkpoint for step 2000: /home/mgaltier200/sgm/notebooks/../agents/thinned_fourrooms/3_FourRooms_coordinate_20steps-May-17-2021-09-07-50-PM/ckpt/ckpt-2\n",
      "INFO:tensorflow:step = 2000, loss = 1.612936\n",
      "INFO:tensorflow:66.423 steps/sec\n",
      "INFO:tensorflow:step = 2000\n",
      "INFO:tensorflow:\t set goal dist = 2\n",
      "INFO:tensorflow:\t\t AverageReturn (eval distance=2.000000) -14.50\n",
      "INFO:tensorflow:\t\t predicted_dist = 13.7 (2.9)\n",
      "INFO:tensorflow:\t set goal dist = 5\n",
      "INFO:tensorflow:\t\t AverageReturn (eval distance=5.000000) -19.20\n",
      "INFO:tensorflow:\t\t predicted_dist = 16.6 (1.0)\n",
      "INFO:tensorflow:\t set goal dist = 10\n",
      "INFO:tensorflow:\t\t AverageReturn (eval distance=10.000000) -19.90\n",
      "INFO:tensorflow:\t\t predicted_dist = 18.2 (0.5)\n",
      "INFO:tensorflow:\t eval_time = 2.82\n"
     ]
    },
    {
     "name": "stderr",
     "output_type": "stream",
     "text": [
      " 10%|▉         | 2998/30000 [00:58<07:55, 56.84it/s]  "
     ]
    },
    {
     "name": "stdout",
     "output_type": "stream",
     "text": [
      "Saved checkpoint for step 3000: /home/mgaltier200/sgm/notebooks/../agents/thinned_fourrooms/3_FourRooms_coordinate_20steps-May-17-2021-09-07-50-PM/ckpt/ckpt-3\n",
      "INFO:tensorflow:step = 3000, loss = 1.242445\n",
      "INFO:tensorflow:65.975 steps/sec\n",
      "INFO:tensorflow:step = 3000\n",
      "INFO:tensorflow:\t set goal dist = 2\n",
      "INFO:tensorflow:\t\t AverageReturn (eval distance=2.000000) -9.90\n",
      "INFO:tensorflow:\t\t predicted_dist = 16.3 (1.2)\n",
      "INFO:tensorflow:\t set goal dist = 5\n",
      "INFO:tensorflow:\t\t AverageReturn (eval distance=5.000000) -15.10\n",
      "INFO:tensorflow:\t\t predicted_dist = 17.4 (1.2)\n",
      "INFO:tensorflow:\t set goal dist = 10\n",
      "INFO:tensorflow:\t\t AverageReturn (eval distance=10.000000) -20.00\n",
      "INFO:tensorflow:\t\t predicted_dist = 18.1 (0.4)\n",
      "INFO:tensorflow:\t eval_time = 2.62\n"
     ]
    },
    {
     "name": "stderr",
     "output_type": "stream",
     "text": [
      " 13%|█▎        | 3997/30000 [01:18<07:43, 56.08it/s]  "
     ]
    },
    {
     "name": "stdout",
     "output_type": "stream",
     "text": [
      "Saved checkpoint for step 4000: /home/mgaltier200/sgm/notebooks/../agents/thinned_fourrooms/3_FourRooms_coordinate_20steps-May-17-2021-09-07-50-PM/ckpt/ckpt-4\n",
      "INFO:tensorflow:step = 4000, loss = 1.121920\n",
      "INFO:tensorflow:62.493 steps/sec\n",
      "INFO:tensorflow:step = 4000\n",
      "INFO:tensorflow:\t set goal dist = 2\n",
      "INFO:tensorflow:\t\t AverageReturn (eval distance=2.000000) -13.90\n",
      "INFO:tensorflow:\t\t predicted_dist = 15.9 (3.0)\n",
      "INFO:tensorflow:\t set goal dist = 5\n",
      "INFO:tensorflow:\t\t AverageReturn (eval distance=5.000000) -16.30\n",
      "INFO:tensorflow:\t\t predicted_dist = 17.8 (1.3)\n",
      "INFO:tensorflow:\t set goal dist = 10\n",
      "INFO:tensorflow:\t\t AverageReturn (eval distance=10.000000) -19.30\n",
      "INFO:tensorflow:\t\t predicted_dist = 18.5 (0.6)\n",
      "INFO:tensorflow:\t eval_time = 2.95\n"
     ]
    },
    {
     "name": "stderr",
     "output_type": "stream",
     "text": [
      " 17%|█▋        | 4996/30000 [01:39<07:38, 54.51it/s]  "
     ]
    },
    {
     "name": "stdout",
     "output_type": "stream",
     "text": [
      "Saved checkpoint for step 5000: /home/mgaltier200/sgm/notebooks/../agents/thinned_fourrooms/3_FourRooms_coordinate_20steps-May-17-2021-09-07-50-PM/ckpt/ckpt-5\n",
      "INFO:tensorflow:step = 5000, loss = 1.289339\n",
      "INFO:tensorflow:62.109 steps/sec\n",
      "INFO:tensorflow:step = 5000\n",
      "INFO:tensorflow:\t set goal dist = 2\n",
      "INFO:tensorflow:\t\t AverageReturn (eval distance=2.000000) -10.10\n",
      "INFO:tensorflow:\t\t predicted_dist = 14.9 (3.0)\n",
      "INFO:tensorflow:\t set goal dist = 5\n",
      "INFO:tensorflow:\t\t AverageReturn (eval distance=5.000000) -17.50\n",
      "INFO:tensorflow:\t\t predicted_dist = 16.9 (0.9)\n",
      "INFO:tensorflow:\t set goal dist = 10\n",
      "INFO:tensorflow:\t\t AverageReturn (eval distance=10.000000) -18.30\n",
      "INFO:tensorflow:\t\t predicted_dist = 18.5 (0.2)\n",
      "INFO:tensorflow:\t eval_time = 2.79\n"
     ]
    },
    {
     "name": "stderr",
     "output_type": "stream",
     "text": [
      " 20%|█▉        | 5999/30000 [02:00<08:41, 46.01it/s]  "
     ]
    },
    {
     "name": "stdout",
     "output_type": "stream",
     "text": [
      "Saved checkpoint for step 6000: /home/mgaltier200/sgm/notebooks/../agents/thinned_fourrooms/3_FourRooms_coordinate_20steps-May-17-2021-09-07-50-PM/ckpt/ckpt-6\n",
      "INFO:tensorflow:step = 6000, loss = 1.876246\n",
      "INFO:tensorflow:59.456 steps/sec\n",
      "INFO:tensorflow:step = 6000\n",
      "INFO:tensorflow:\t set goal dist = 2\n",
      "INFO:tensorflow:\t\t AverageReturn (eval distance=2.000000) -6.90\n",
      "INFO:tensorflow:\t\t predicted_dist = 13.4 (1.5)\n",
      "INFO:tensorflow:\t set goal dist = 5\n",
      "INFO:tensorflow:\t\t AverageReturn (eval distance=5.000000) -12.40\n",
      "INFO:tensorflow:\t\t predicted_dist = 15.7 (1.0)\n",
      "INFO:tensorflow:\t set goal dist = 10\n",
      "INFO:tensorflow:\t\t AverageReturn (eval distance=10.000000) -18.50\n",
      "INFO:tensorflow:\t\t predicted_dist = 17.1 (0.9)\n",
      "INFO:tensorflow:\t eval_time = 3.05\n"
     ]
    },
    {
     "name": "stderr",
     "output_type": "stream",
     "text": [
      " 23%|██▎       | 6996/30000 [02:21<06:53, 55.58it/s]  "
     ]
    },
    {
     "name": "stdout",
     "output_type": "stream",
     "text": [
      "Saved checkpoint for step 7000: /home/mgaltier200/sgm/notebooks/../agents/thinned_fourrooms/3_FourRooms_coordinate_20steps-May-17-2021-09-07-50-PM/ckpt/ckpt-7\n",
      "INFO:tensorflow:step = 7000, loss = 2.251732\n",
      "INFO:tensorflow:59.975 steps/sec\n",
      "INFO:tensorflow:step = 7000\n",
      "INFO:tensorflow:\t set goal dist = 2\n",
      "INFO:tensorflow:\t\t AverageReturn (eval distance=2.000000) -6.40\n",
      "INFO:tensorflow:\t\t predicted_dist = 11.3 (2.5)\n",
      "INFO:tensorflow:\t set goal dist = 5\n",
      "INFO:tensorflow:\t\t AverageReturn (eval distance=5.000000) -7.90\n",
      "INFO:tensorflow:\t\t predicted_dist = 14.8 (1.2)\n",
      "INFO:tensorflow:\t set goal dist = 10\n",
      "INFO:tensorflow:\t\t AverageReturn (eval distance=10.000000) -18.20\n",
      "INFO:tensorflow:\t\t predicted_dist = 17.1 (0.8)\n",
      "INFO:tensorflow:\t eval_time = 2.78\n"
     ]
    },
    {
     "name": "stderr",
     "output_type": "stream",
     "text": [
      " 27%|██▋       | 7997/30000 [02:42<06:58, 52.53it/s]  "
     ]
    },
    {
     "name": "stdout",
     "output_type": "stream",
     "text": [
      "Saved checkpoint for step 8000: /home/mgaltier200/sgm/notebooks/../agents/thinned_fourrooms/3_FourRooms_coordinate_20steps-May-17-2021-09-07-50-PM/ckpt/ckpt-8\n",
      "INFO:tensorflow:step = 8000, loss = 2.617954\n",
      "INFO:tensorflow:60.750 steps/sec\n",
      "INFO:tensorflow:step = 8000\n",
      "INFO:tensorflow:\t set goal dist = 2\n",
      "INFO:tensorflow:\t\t AverageReturn (eval distance=2.000000) -5.00\n",
      "INFO:tensorflow:\t\t predicted_dist = 9.0 (1.9)\n",
      "INFO:tensorflow:\t set goal dist = 5\n",
      "INFO:tensorflow:\t\t AverageReturn (eval distance=5.000000) -10.90\n",
      "INFO:tensorflow:\t\t predicted_dist = 12.8 (1.3)\n",
      "INFO:tensorflow:\t set goal dist = 10\n",
      "INFO:tensorflow:\t\t AverageReturn (eval distance=10.000000) -17.40\n",
      "INFO:tensorflow:\t\t predicted_dist = 15.2 (1.2)\n",
      "INFO:tensorflow:\t eval_time = 2.63\n"
     ]
    },
    {
     "name": "stderr",
     "output_type": "stream",
     "text": [
      " 30%|██▉       | 8996/30000 [03:02<06:20, 55.16it/s]"
     ]
    },
    {
     "name": "stdout",
     "output_type": "stream",
     "text": [
      "Saved checkpoint for step 9000: /home/mgaltier200/sgm/notebooks/../agents/thinned_fourrooms/3_FourRooms_coordinate_20steps-May-17-2021-09-07-50-PM/ckpt/ckpt-9\n",
      "INFO:tensorflow:step = 9000, loss = 2.741106\n",
      "INFO:tensorflow:60.013 steps/sec\n",
      "INFO:tensorflow:step = 9000\n",
      "INFO:tensorflow:\t set goal dist = 2\n",
      "INFO:tensorflow:\t\t AverageReturn (eval distance=2.000000) -5.00\n",
      "INFO:tensorflow:\t\t predicted_dist = 7.4 (1.2)\n",
      "INFO:tensorflow:\t set goal dist = 5\n",
      "INFO:tensorflow:\t\t AverageReturn (eval distance=5.000000) -11.40\n",
      "INFO:tensorflow:\t\t predicted_dist = 11.6 (1.0)\n",
      "INFO:tensorflow:\t set goal dist = 10\n",
      "INFO:tensorflow:\t\t AverageReturn (eval distance=10.000000) -16.30\n",
      "INFO:tensorflow:\t\t predicted_dist = 14.9 (0.8)\n",
      "INFO:tensorflow:\t eval_time = 2.62\n"
     ]
    },
    {
     "name": "stderr",
     "output_type": "stream",
     "text": [
      " 33%|███▎      | 9994/30000 [03:23<05:51, 56.90it/s]"
     ]
    },
    {
     "name": "stdout",
     "output_type": "stream",
     "text": [
      "Saved checkpoint for step 10000: /home/mgaltier200/sgm/notebooks/../agents/thinned_fourrooms/3_FourRooms_coordinate_20steps-May-17-2021-09-07-50-PM/ckpt/ckpt-10\n",
      "INFO:tensorflow:step = 10000, loss = 2.943827\n",
      "INFO:tensorflow:60.327 steps/sec\n",
      "INFO:tensorflow:step = 10000\n",
      "INFO:tensorflow:\t set goal dist = 2\n",
      "INFO:tensorflow:\t\t AverageReturn (eval distance=2.000000) -3.80\n",
      "INFO:tensorflow:\t\t predicted_dist = 6.1 (2.1)\n",
      "INFO:tensorflow:\t set goal dist = 5\n",
      "INFO:tensorflow:\t\t AverageReturn (eval distance=5.000000) -8.40\n",
      "INFO:tensorflow:\t\t predicted_dist = 10.2 (0.9)\n",
      "INFO:tensorflow:\t set goal dist = 10\n",
      "INFO:tensorflow:\t\t AverageReturn (eval distance=10.000000) -15.90\n",
      "INFO:tensorflow:\t\t predicted_dist = 14.2 (1.4)\n",
      "INFO:tensorflow:\t eval_time = 2.31\n"
     ]
    },
    {
     "name": "stderr",
     "output_type": "stream",
     "text": [
      " 37%|███▋      | 10999/30000 [03:43<06:33, 48.30it/s]"
     ]
    },
    {
     "name": "stdout",
     "output_type": "stream",
     "text": [
      "Saved checkpoint for step 11000: /home/mgaltier200/sgm/notebooks/../agents/thinned_fourrooms/3_FourRooms_coordinate_20steps-May-17-2021-09-07-50-PM/ckpt/ckpt-11\n",
      "INFO:tensorflow:step = 11000, loss = 3.107904\n",
      "INFO:tensorflow:60.691 steps/sec\n",
      "INFO:tensorflow:step = 11000\n",
      "INFO:tensorflow:\t set goal dist = 2\n",
      "INFO:tensorflow:\t\t AverageReturn (eval distance=2.000000) -4.70\n",
      "INFO:tensorflow:\t\t predicted_dist = 6.9 (1.3)\n",
      "INFO:tensorflow:\t set goal dist = 5\n",
      "INFO:tensorflow:\t\t AverageReturn (eval distance=5.000000) -9.50\n",
      "INFO:tensorflow:\t\t predicted_dist = 10.3 (1.4)\n",
      "INFO:tensorflow:\t set goal dist = 10\n",
      "INFO:tensorflow:\t\t AverageReturn (eval distance=10.000000) -13.50\n",
      "INFO:tensorflow:\t\t predicted_dist = 12.7 (1.3)\n",
      "INFO:tensorflow:\t eval_time = 2.36\n"
     ]
    },
    {
     "name": "stderr",
     "output_type": "stream",
     "text": [
      " 40%|███▉      | 11994/30000 [04:04<05:31, 54.39it/s]"
     ]
    },
    {
     "name": "stdout",
     "output_type": "stream",
     "text": [
      "Saved checkpoint for step 12000: /home/mgaltier200/sgm/notebooks/../agents/thinned_fourrooms/3_FourRooms_coordinate_20steps-May-17-2021-09-07-50-PM/ckpt/ckpt-12\n",
      "INFO:tensorflow:step = 12000, loss = 3.285975\n",
      "INFO:tensorflow:60.431 steps/sec\n",
      "INFO:tensorflow:step = 12000\n",
      "INFO:tensorflow:\t set goal dist = 2\n",
      "INFO:tensorflow:\t\t AverageReturn (eval distance=2.000000) -4.90\n",
      "INFO:tensorflow:\t\t predicted_dist = 5.8 (2.1)\n",
      "INFO:tensorflow:\t set goal dist = 5\n",
      "INFO:tensorflow:\t\t AverageReturn (eval distance=5.000000) -7.70\n",
      "INFO:tensorflow:\t\t predicted_dist = 9.0 (1.6)\n",
      "INFO:tensorflow:\t set goal dist = 10\n",
      "INFO:tensorflow:\t\t AverageReturn (eval distance=10.000000) -15.30\n",
      "INFO:tensorflow:\t\t predicted_dist = 12.5 (1.7)\n",
      "INFO:tensorflow:\t eval_time = 2.44\n"
     ]
    },
    {
     "name": "stderr",
     "output_type": "stream",
     "text": [
      " 43%|████▎     | 12999/30000 [04:24<06:06, 46.38it/s]"
     ]
    },
    {
     "name": "stdout",
     "output_type": "stream",
     "text": [
      "Saved checkpoint for step 13000: /home/mgaltier200/sgm/notebooks/../agents/thinned_fourrooms/3_FourRooms_coordinate_20steps-May-17-2021-09-07-50-PM/ckpt/ckpt-13\n",
      "INFO:tensorflow:step = 13000, loss = 3.189516\n",
      "INFO:tensorflow:60.865 steps/sec\n",
      "INFO:tensorflow:step = 13000\n",
      "INFO:tensorflow:\t set goal dist = 2\n",
      "INFO:tensorflow:\t\t AverageReturn (eval distance=2.000000) -3.10\n",
      "INFO:tensorflow:\t\t predicted_dist = 4.5 (1.9)\n",
      "INFO:tensorflow:\t set goal dist = 5\n",
      "INFO:tensorflow:\t\t AverageReturn (eval distance=5.000000) -8.20\n",
      "INFO:tensorflow:\t\t predicted_dist = 9.1 (1.2)\n",
      "INFO:tensorflow:\t set goal dist = 10\n",
      "INFO:tensorflow:\t\t AverageReturn (eval distance=10.000000) -16.20\n",
      "INFO:tensorflow:\t\t predicted_dist = 11.9 (1.6)\n",
      "INFO:tensorflow:\t eval_time = 2.23\n"
     ]
    },
    {
     "name": "stderr",
     "output_type": "stream",
     "text": [
      " 47%|████▋     | 13999/30000 [04:44<06:06, 43.62it/s]"
     ]
    },
    {
     "name": "stdout",
     "output_type": "stream",
     "text": [
      "Saved checkpoint for step 14000: /home/mgaltier200/sgm/notebooks/../agents/thinned_fourrooms/3_FourRooms_coordinate_20steps-May-17-2021-09-07-50-PM/ckpt/ckpt-14\n",
      "INFO:tensorflow:step = 14000, loss = 3.818351\n",
      "INFO:tensorflow:60.397 steps/sec\n",
      "INFO:tensorflow:step = 14000\n",
      "INFO:tensorflow:\t set goal dist = 2\n",
      "INFO:tensorflow:\t\t AverageReturn (eval distance=2.000000) -2.20\n",
      "INFO:tensorflow:\t\t predicted_dist = 3.9 (1.6)\n",
      "INFO:tensorflow:\t set goal dist = 5\n",
      "INFO:tensorflow:\t\t AverageReturn (eval distance=5.000000) -8.20\n",
      "INFO:tensorflow:\t\t predicted_dist = 8.9 (1.2)\n",
      "INFO:tensorflow:\t set goal dist = 10\n",
      "INFO:tensorflow:\t\t AverageReturn (eval distance=10.000000) -14.10\n",
      "INFO:tensorflow:\t\t predicted_dist = 11.2 (1.7)\n",
      "INFO:tensorflow:\t eval_time = 2.47\n"
     ]
    },
    {
     "name": "stderr",
     "output_type": "stream",
     "text": [
      " 50%|████▉     | 14995/30000 [05:06<04:32, 55.14it/s]"
     ]
    },
    {
     "name": "stdout",
     "output_type": "stream",
     "text": [
      "Saved checkpoint for step 15000: /home/mgaltier200/sgm/notebooks/../agents/thinned_fourrooms/3_FourRooms_coordinate_20steps-May-17-2021-09-07-50-PM/ckpt/ckpt-15\n",
      "INFO:tensorflow:step = 15000, loss = 3.372180\n",
      "INFO:tensorflow:57.322 steps/sec\n",
      "INFO:tensorflow:step = 15000\n",
      "INFO:tensorflow:\t set goal dist = 2\n",
      "INFO:tensorflow:\t\t AverageReturn (eval distance=2.000000) -3.00\n",
      "INFO:tensorflow:\t\t predicted_dist = 5.6 (1.2)\n",
      "INFO:tensorflow:\t set goal dist = 5\n",
      "INFO:tensorflow:\t\t AverageReturn (eval distance=5.000000) -10.40\n",
      "INFO:tensorflow:\t\t predicted_dist = 8.0 (0.8)\n",
      "INFO:tensorflow:\t set goal dist = 10\n",
      "INFO:tensorflow:\t\t AverageReturn (eval distance=10.000000) -13.30\n",
      "INFO:tensorflow:\t\t predicted_dist = 10.2 (1.3)\n",
      "INFO:tensorflow:\t eval_time = 2.49\n"
     ]
    },
    {
     "name": "stderr",
     "output_type": "stream",
     "text": [
      " 53%|█████▎    | 15995/30000 [05:27<04:14, 55.08it/s]"
     ]
    },
    {
     "name": "stdout",
     "output_type": "stream",
     "text": [
      "Saved checkpoint for step 16000: /home/mgaltier200/sgm/notebooks/../agents/thinned_fourrooms/3_FourRooms_coordinate_20steps-May-17-2021-09-07-50-PM/ckpt/ckpt-16\n",
      "INFO:tensorflow:step = 16000, loss = 2.977075\n",
      "INFO:tensorflow:57.312 steps/sec\n",
      "INFO:tensorflow:step = 16000\n",
      "INFO:tensorflow:\t set goal dist = 2\n",
      "INFO:tensorflow:\t\t AverageReturn (eval distance=2.000000) -3.40\n",
      "INFO:tensorflow:\t\t predicted_dist = 4.6 (1.3)\n",
      "INFO:tensorflow:\t set goal dist = 5\n",
      "INFO:tensorflow:\t\t AverageReturn (eval distance=5.000000) -10.40\n",
      "INFO:tensorflow:\t\t predicted_dist = 8.4 (1.0)\n",
      "INFO:tensorflow:\t set goal dist = 10\n",
      "INFO:tensorflow:\t\t AverageReturn (eval distance=10.000000) -17.10\n",
      "INFO:tensorflow:\t\t predicted_dist = 10.6 (1.1)\n",
      "INFO:tensorflow:\t eval_time = 2.62\n"
     ]
    },
    {
     "name": "stderr",
     "output_type": "stream",
     "text": [
      " 57%|█████▋    | 16994/30000 [05:49<03:48, 57.00it/s]"
     ]
    },
    {
     "name": "stdout",
     "output_type": "stream",
     "text": [
      "Saved checkpoint for step 17000: /home/mgaltier200/sgm/notebooks/../agents/thinned_fourrooms/3_FourRooms_coordinate_20steps-May-17-2021-09-07-50-PM/ckpt/ckpt-17\n",
      "INFO:tensorflow:step = 17000, loss = 3.105785\n",
      "INFO:tensorflow:56.140 steps/sec\n",
      "INFO:tensorflow:step = 17000\n",
      "INFO:tensorflow:\t set goal dist = 2\n",
      "INFO:tensorflow:\t\t AverageReturn (eval distance=2.000000) -3.50\n",
      "INFO:tensorflow:\t\t predicted_dist = 6.0 (1.5)\n",
      "INFO:tensorflow:\t set goal dist = 5\n",
      "INFO:tensorflow:\t\t AverageReturn (eval distance=5.000000) -8.40\n",
      "INFO:tensorflow:\t\t predicted_dist = 8.5 (1.4)\n",
      "INFO:tensorflow:\t set goal dist = 10\n",
      "INFO:tensorflow:\t\t AverageReturn (eval distance=10.000000) -16.50\n",
      "INFO:tensorflow:\t\t predicted_dist = 12.4 (1.4)\n",
      "INFO:tensorflow:\t eval_time = 2.75\n"
     ]
    },
    {
     "name": "stderr",
     "output_type": "stream",
     "text": [
      " 60%|█████▉    | 17995/30000 [06:11<03:44, 53.52it/s]"
     ]
    },
    {
     "name": "stdout",
     "output_type": "stream",
     "text": [
      "Saved checkpoint for step 18000: /home/mgaltier200/sgm/notebooks/../agents/thinned_fourrooms/3_FourRooms_coordinate_20steps-May-17-2021-09-07-50-PM/ckpt/ckpt-18\n",
      "INFO:tensorflow:step = 18000, loss = 3.312252\n",
      "INFO:tensorflow:56.600 steps/sec\n",
      "INFO:tensorflow:step = 18000\n",
      "INFO:tensorflow:\t set goal dist = 2\n",
      "INFO:tensorflow:\t\t AverageReturn (eval distance=2.000000) -4.40\n",
      "INFO:tensorflow:\t\t predicted_dist = 6.3 (1.8)\n",
      "INFO:tensorflow:\t set goal dist = 5\n",
      "INFO:tensorflow:\t\t AverageReturn (eval distance=5.000000) -10.00\n",
      "INFO:tensorflow:\t\t predicted_dist = 9.7 (0.8)\n",
      "INFO:tensorflow:\t set goal dist = 10\n",
      "INFO:tensorflow:\t\t AverageReturn (eval distance=10.000000) -17.20\n",
      "INFO:tensorflow:\t\t predicted_dist = 12.5 (1.7)\n",
      "INFO:tensorflow:\t eval_time = 2.58\n"
     ]
    },
    {
     "name": "stderr",
     "output_type": "stream",
     "text": [
      " 63%|██████▎   | 18998/30000 [06:33<03:22, 54.33it/s]"
     ]
    },
    {
     "name": "stdout",
     "output_type": "stream",
     "text": [
      "Saved checkpoint for step 19000: /home/mgaltier200/sgm/notebooks/../agents/thinned_fourrooms/3_FourRooms_coordinate_20steps-May-17-2021-09-07-50-PM/ckpt/ckpt-19\n",
      "INFO:tensorflow:step = 19000, loss = 3.327999\n",
      "INFO:tensorflow:55.553 steps/sec\n",
      "INFO:tensorflow:step = 19000\n",
      "INFO:tensorflow:\t set goal dist = 2\n",
      "INFO:tensorflow:\t\t AverageReturn (eval distance=2.000000) -2.90\n",
      "INFO:tensorflow:\t\t predicted_dist = 5.5 (1.9)\n",
      "INFO:tensorflow:\t set goal dist = 5\n",
      "INFO:tensorflow:\t\t AverageReturn (eval distance=5.000000) -7.40\n",
      "INFO:tensorflow:\t\t predicted_dist = 8.5 (1.3)\n",
      "INFO:tensorflow:\t set goal dist = 10\n",
      "INFO:tensorflow:\t\t AverageReturn (eval distance=10.000000) -16.30\n",
      "INFO:tensorflow:\t\t predicted_dist = 12.6 (1.2)\n",
      "INFO:tensorflow:\t eval_time = 2.10\n"
     ]
    },
    {
     "name": "stderr",
     "output_type": "stream",
     "text": [
      " 67%|██████▋   | 19996/30000 [06:55<02:57, 56.37it/s]"
     ]
    },
    {
     "name": "stdout",
     "output_type": "stream",
     "text": [
      "Saved checkpoint for step 20000: /home/mgaltier200/sgm/notebooks/../agents/thinned_fourrooms/3_FourRooms_coordinate_20steps-May-17-2021-09-07-50-PM/ckpt/ckpt-20\n",
      "INFO:tensorflow:step = 20000, loss = 3.658300\n",
      "INFO:tensorflow:56.742 steps/sec\n",
      "INFO:tensorflow:step = 20000\n",
      "INFO:tensorflow:\t set goal dist = 2\n",
      "INFO:tensorflow:\t\t AverageReturn (eval distance=2.000000) -2.10\n",
      "INFO:tensorflow:\t\t predicted_dist = 5.2 (1.6)\n",
      "INFO:tensorflow:\t set goal dist = 5\n",
      "INFO:tensorflow:\t\t AverageReturn (eval distance=5.000000) -9.20\n",
      "INFO:tensorflow:\t\t predicted_dist = 8.9 (0.9)\n",
      "INFO:tensorflow:\t set goal dist = 10\n",
      "INFO:tensorflow:\t\t AverageReturn (eval distance=10.000000) -15.90\n",
      "INFO:tensorflow:\t\t predicted_dist = 13.1 (1.6)\n",
      "INFO:tensorflow:\t eval_time = 2.25\n"
     ]
    },
    {
     "name": "stderr",
     "output_type": "stream",
     "text": [
      " 70%|██████▉   | 20999/30000 [07:17<03:14, 46.39it/s]"
     ]
    },
    {
     "name": "stdout",
     "output_type": "stream",
     "text": [
      "Saved checkpoint for step 21000: /home/mgaltier200/sgm/notebooks/../agents/thinned_fourrooms/3_FourRooms_coordinate_20steps-May-17-2021-09-07-50-PM/ckpt/ckpt-21\n",
      "INFO:tensorflow:step = 21000, loss = 3.318485\n",
      "INFO:tensorflow:56.053 steps/sec\n",
      "INFO:tensorflow:step = 21000\n",
      "INFO:tensorflow:\t set goal dist = 2\n",
      "INFO:tensorflow:\t\t AverageReturn (eval distance=2.000000) -2.30\n",
      "INFO:tensorflow:\t\t predicted_dist = 4.8 (1.5)\n",
      "INFO:tensorflow:\t set goal dist = 5\n",
      "INFO:tensorflow:\t\t AverageReturn (eval distance=5.000000) -10.30\n",
      "INFO:tensorflow:\t\t predicted_dist = 8.6 (0.8)\n",
      "INFO:tensorflow:\t set goal dist = 10\n",
      "INFO:tensorflow:\t\t AverageReturn (eval distance=10.000000) -16.40\n",
      "INFO:tensorflow:\t\t predicted_dist = 9.7 (2.2)\n",
      "INFO:tensorflow:\t eval_time = 2.24\n"
     ]
    },
    {
     "name": "stderr",
     "output_type": "stream",
     "text": [
      " 73%|███████▎  | 21994/30000 [07:38<02:26, 54.77it/s]"
     ]
    },
    {
     "name": "stdout",
     "output_type": "stream",
     "text": [
      "Saved checkpoint for step 22000: /home/mgaltier200/sgm/notebooks/../agents/thinned_fourrooms/3_FourRooms_coordinate_20steps-May-17-2021-09-07-50-PM/ckpt/ckpt-22\n",
      "INFO:tensorflow:step = 22000, loss = 3.383037\n",
      "INFO:tensorflow:56.392 steps/sec\n",
      "INFO:tensorflow:step = 22000\n",
      "INFO:tensorflow:\t set goal dist = 2\n",
      "INFO:tensorflow:\t\t AverageReturn (eval distance=2.000000) -2.70\n",
      "INFO:tensorflow:\t\t predicted_dist = 4.9 (1.8)\n",
      "INFO:tensorflow:\t set goal dist = 5\n",
      "INFO:tensorflow:\t\t AverageReturn (eval distance=5.000000) -8.60\n",
      "INFO:tensorflow:\t\t predicted_dist = 8.3 (0.8)\n",
      "INFO:tensorflow:\t set goal dist = 10\n",
      "INFO:tensorflow:\t\t AverageReturn (eval distance=10.000000) -15.50\n",
      "INFO:tensorflow:\t\t predicted_dist = 12.2 (1.9)\n",
      "INFO:tensorflow:\t eval_time = 1.94\n"
     ]
    },
    {
     "name": "stderr",
     "output_type": "stream",
     "text": [
      " 77%|███████▋  | 22994/30000 [08:00<02:06, 55.58it/s]"
     ]
    },
    {
     "name": "stdout",
     "output_type": "stream",
     "text": [
      "Saved checkpoint for step 23000: /home/mgaltier200/sgm/notebooks/../agents/thinned_fourrooms/3_FourRooms_coordinate_20steps-May-17-2021-09-07-50-PM/ckpt/ckpt-23\n",
      "INFO:tensorflow:step = 23000, loss = 3.537915\n",
      "INFO:tensorflow:54.991 steps/sec\n",
      "INFO:tensorflow:step = 23000\n",
      "INFO:tensorflow:\t set goal dist = 2\n",
      "INFO:tensorflow:\t\t AverageReturn (eval distance=2.000000) -4.50\n",
      "INFO:tensorflow:\t\t predicted_dist = 5.5 (1.5)\n",
      "INFO:tensorflow:\t set goal dist = 5\n",
      "INFO:tensorflow:\t\t AverageReturn (eval distance=5.000000) -7.10\n",
      "INFO:tensorflow:\t\t predicted_dist = 8.5 (1.1)\n",
      "INFO:tensorflow:\t set goal dist = 10\n",
      "INFO:tensorflow:\t\t AverageReturn (eval distance=10.000000) -15.70\n",
      "INFO:tensorflow:\t\t predicted_dist = 10.7 (1.3)\n",
      "INFO:tensorflow:\t eval_time = 2.00\n"
     ]
    },
    {
     "name": "stderr",
     "output_type": "stream",
     "text": [
      " 80%|███████▉  | 23996/30000 [08:22<01:51, 53.73it/s]"
     ]
    },
    {
     "name": "stdout",
     "output_type": "stream",
     "text": [
      "Saved checkpoint for step 24000: /home/mgaltier200/sgm/notebooks/../agents/thinned_fourrooms/3_FourRooms_coordinate_20steps-May-17-2021-09-07-50-PM/ckpt/ckpt-24\n",
      "INFO:tensorflow:step = 24000, loss = 3.144258\n",
      "INFO:tensorflow:54.961 steps/sec\n",
      "INFO:tensorflow:step = 24000\n",
      "INFO:tensorflow:\t set goal dist = 2\n",
      "INFO:tensorflow:\t\t AverageReturn (eval distance=2.000000) -4.10\n",
      "INFO:tensorflow:\t\t predicted_dist = 5.6 (1.6)\n",
      "INFO:tensorflow:\t set goal dist = 5\n",
      "INFO:tensorflow:\t\t AverageReturn (eval distance=5.000000) -6.90\n",
      "INFO:tensorflow:\t\t predicted_dist = 9.0 (0.8)\n",
      "INFO:tensorflow:\t set goal dist = 10\n",
      "INFO:tensorflow:\t\t AverageReturn (eval distance=10.000000) -16.70\n",
      "INFO:tensorflow:\t\t predicted_dist = 11.8 (0.8)\n",
      "INFO:tensorflow:\t eval_time = 2.63\n"
     ]
    },
    {
     "name": "stderr",
     "output_type": "stream",
     "text": [
      " 83%|████████▎ | 24998/30000 [08:44<01:33, 53.66it/s]"
     ]
    },
    {
     "name": "stdout",
     "output_type": "stream",
     "text": [
      "Saved checkpoint for step 25000: /home/mgaltier200/sgm/notebooks/../agents/thinned_fourrooms/3_FourRooms_coordinate_20steps-May-17-2021-09-07-50-PM/ckpt/ckpt-25\n",
      "INFO:tensorflow:step = 25000, loss = 3.135751\n",
      "INFO:tensorflow:55.356 steps/sec\n",
      "INFO:tensorflow:step = 25000\n",
      "INFO:tensorflow:\t set goal dist = 2\n",
      "INFO:tensorflow:\t\t AverageReturn (eval distance=2.000000) -3.10\n",
      "INFO:tensorflow:\t\t predicted_dist = 4.4 (1.7)\n",
      "INFO:tensorflow:\t set goal dist = 5\n",
      "INFO:tensorflow:\t\t AverageReturn (eval distance=5.000000) -8.70\n",
      "INFO:tensorflow:\t\t predicted_dist = 8.8 (1.0)\n",
      "INFO:tensorflow:\t set goal dist = 10\n",
      "INFO:tensorflow:\t\t AverageReturn (eval distance=10.000000) -16.90\n",
      "INFO:tensorflow:\t\t predicted_dist = 11.9 (1.2)\n",
      "INFO:tensorflow:\t eval_time = 1.92\n"
     ]
    },
    {
     "name": "stderr",
     "output_type": "stream",
     "text": [
      " 87%|████████▋ | 25996/30000 [09:06<01:17, 51.49it/s]"
     ]
    },
    {
     "name": "stdout",
     "output_type": "stream",
     "text": [
      "Saved checkpoint for step 26000: /home/mgaltier200/sgm/notebooks/../agents/thinned_fourrooms/3_FourRooms_coordinate_20steps-May-17-2021-09-07-50-PM/ckpt/ckpt-26\n",
      "INFO:tensorflow:step = 26000, loss = 2.903501\n",
      "INFO:tensorflow:55.374 steps/sec\n",
      "INFO:tensorflow:step = 26000\n",
      "INFO:tensorflow:\t set goal dist = 2\n",
      "INFO:tensorflow:\t\t AverageReturn (eval distance=2.000000) -3.60\n",
      "INFO:tensorflow:\t\t predicted_dist = 4.4 (1.5)\n",
      "INFO:tensorflow:\t set goal dist = 5\n",
      "INFO:tensorflow:\t\t AverageReturn (eval distance=5.000000) -10.70\n",
      "INFO:tensorflow:\t\t predicted_dist = 8.4 (1.3)\n",
      "INFO:tensorflow:\t set goal dist = 10\n",
      "INFO:tensorflow:\t\t AverageReturn (eval distance=10.000000) -14.80\n",
      "INFO:tensorflow:\t\t predicted_dist = 12.4 (2.0)\n",
      "INFO:tensorflow:\t eval_time = 2.20\n"
     ]
    },
    {
     "name": "stderr",
     "output_type": "stream",
     "text": [
      " 90%|████████▉ | 26998/30000 [09:28<00:57, 51.77it/s]"
     ]
    },
    {
     "name": "stdout",
     "output_type": "stream",
     "text": [
      "Saved checkpoint for step 27000: /home/mgaltier200/sgm/notebooks/../agents/thinned_fourrooms/3_FourRooms_coordinate_20steps-May-17-2021-09-07-50-PM/ckpt/ckpt-27\n",
      "INFO:tensorflow:step = 27000, loss = 3.384498\n",
      "INFO:tensorflow:56.050 steps/sec\n",
      "INFO:tensorflow:step = 27000\n",
      "INFO:tensorflow:\t set goal dist = 2\n",
      "INFO:tensorflow:\t\t AverageReturn (eval distance=2.000000) -4.20\n",
      "INFO:tensorflow:\t\t predicted_dist = 5.2 (1.8)\n",
      "INFO:tensorflow:\t set goal dist = 5\n",
      "INFO:tensorflow:\t\t AverageReturn (eval distance=5.000000) -9.20\n",
      "INFO:tensorflow:\t\t predicted_dist = 9.2 (1.5)\n",
      "INFO:tensorflow:\t set goal dist = 10\n",
      "INFO:tensorflow:\t\t AverageReturn (eval distance=10.000000) -16.30\n",
      "INFO:tensorflow:\t\t predicted_dist = 12.2 (1.7)\n",
      "INFO:tensorflow:\t eval_time = 2.11\n"
     ]
    },
    {
     "name": "stderr",
     "output_type": "stream",
     "text": [
      " 93%|█████████▎| 27995/30000 [09:49<00:33, 59.01it/s]"
     ]
    },
    {
     "name": "stdout",
     "output_type": "stream",
     "text": [
      "Saved checkpoint for step 28000: /home/mgaltier200/sgm/notebooks/../agents/thinned_fourrooms/3_FourRooms_coordinate_20steps-May-17-2021-09-07-50-PM/ckpt/ckpt-28\n",
      "INFO:tensorflow:step = 28000, loss = 3.157752\n",
      "INFO:tensorflow:55.747 steps/sec\n",
      "INFO:tensorflow:step = 28000\n",
      "INFO:tensorflow:\t set goal dist = 2\n",
      "INFO:tensorflow:\t\t AverageReturn (eval distance=2.000000) -2.80\n",
      "INFO:tensorflow:\t\t predicted_dist = 3.9 (1.5)\n",
      "INFO:tensorflow:\t set goal dist = 5\n",
      "INFO:tensorflow:\t\t AverageReturn (eval distance=5.000000) -8.70\n",
      "INFO:tensorflow:\t\t predicted_dist = 8.0 (1.3)\n",
      "INFO:tensorflow:\t set goal dist = 10\n",
      "INFO:tensorflow:\t\t AverageReturn (eval distance=10.000000) -16.20\n",
      "INFO:tensorflow:\t\t predicted_dist = 12.0 (1.6)\n",
      "INFO:tensorflow:\t eval_time = 2.30\n"
     ]
    },
    {
     "name": "stderr",
     "output_type": "stream",
     "text": [
      " 97%|█████████▋| 28996/30000 [10:11<00:16, 60.62it/s]"
     ]
    },
    {
     "name": "stdout",
     "output_type": "stream",
     "text": [
      "Saved checkpoint for step 29000: /home/mgaltier200/sgm/notebooks/../agents/thinned_fourrooms/3_FourRooms_coordinate_20steps-May-17-2021-09-07-50-PM/ckpt/ckpt-29\n",
      "INFO:tensorflow:step = 29000, loss = 2.950235\n",
      "INFO:tensorflow:55.619 steps/sec\n",
      "INFO:tensorflow:step = 29000\n",
      "INFO:tensorflow:\t set goal dist = 2\n",
      "INFO:tensorflow:\t\t AverageReturn (eval distance=2.000000) -4.50\n",
      "INFO:tensorflow:\t\t predicted_dist = 4.5 (1.5)\n",
      "INFO:tensorflow:\t set goal dist = 5\n",
      "INFO:tensorflow:\t\t AverageReturn (eval distance=5.000000) -8.00\n",
      "INFO:tensorflow:\t\t predicted_dist = 6.8 (1.1)\n",
      "INFO:tensorflow:\t set goal dist = 10\n",
      "INFO:tensorflow:\t\t AverageReturn (eval distance=10.000000) -13.90\n",
      "INFO:tensorflow:\t\t predicted_dist = 11.9 (1.4)\n",
      "INFO:tensorflow:\t eval_time = 2.12\n"
     ]
    },
    {
     "name": "stderr",
     "output_type": "stream",
     "text": [
      "100%|█████████▉| 29999/30000 [10:33<00:00, 48.46it/s]"
     ]
    },
    {
     "name": "stdout",
     "output_type": "stream",
     "text": [
      "Saved checkpoint for step 30000: /home/mgaltier200/sgm/notebooks/../agents/thinned_fourrooms/3_FourRooms_coordinate_20steps-May-17-2021-09-07-50-PM/ckpt/ckpt-30\n",
      "INFO:tensorflow:step = 30000, loss = 2.923357\n",
      "INFO:tensorflow:57.130 steps/sec\n",
      "INFO:tensorflow:step = 30000\n",
      "INFO:tensorflow:\t set goal dist = 2\n",
      "INFO:tensorflow:\t\t AverageReturn (eval distance=2.000000) -3.30\n",
      "INFO:tensorflow:\t\t predicted_dist = 4.6 (1.4)\n",
      "INFO:tensorflow:\t set goal dist = 5\n",
      "INFO:tensorflow:\t\t AverageReturn (eval distance=5.000000) -9.70\n",
      "INFO:tensorflow:\t\t predicted_dist = 8.2 (1.2)\n",
      "INFO:tensorflow:\t set goal dist = 10\n",
      "INFO:tensorflow:\t\t AverageReturn (eval distance=10.000000) -18.00\n",
      "INFO:tensorflow:\t\t predicted_dist = 13.1 (1.2)\n",
      "INFO:tensorflow:\t eval_time = 2.22\n"
     ]
    },
    {
     "name": "stderr",
     "output_type": "stream",
     "text": [
      "100%|██████████| 30000/30000 [10:35<00:00, 47.21it/s]\n"
     ]
    },
    {
     "data": {
      "image/png": "[encoded data removed]",
      "text/plain": [
       "<Figure size 432x432 with 1 Axes>"
      ]
     },
     "metadata": {},
     "output_type": "display_data"
    },
    {
     "data": {
      "image/png": "[encoded data removed]",
      "text/plain": [
       "<Figure size 432x216 with 1 Axes>"
      ]
     },
     "metadata": {
      "needs_background": "light"
     },
     "output_type": "display_data"
    },
    {
     "data": {
      "image/png": "[encoded data removed]",
      "text/plain": [
       "<Figure size 432x216 with 1 Axes>"
      ]
     },
     "metadata": {
      "needs_background": "light"
     },
     "output_type": "display_data"
    },
    {
     "name": "stdout",
     "output_type": "stream",
     "text": [
      "SoRB has initial success rate 0.05\n",
      "Evaluated initial SoRB success rate in 816.02 seconds\n",
      "After filtering and 0 cleanup steps, SoRB has success rate 0.20\n",
      "Took 5000 cleanup steps and evaluated SoRB success rate in 6556.23 seconds\n",
      "After filtering and 5000 cleanup steps, SoRB has success rate 0.00\n",
      "Took 5000 cleanup steps and evaluated SoRB success rate in 7344.65 seconds\n",
      "After filtering and 10000 cleanup steps, SoRB has success rate 0.40\n",
      "Took 5000 cleanup steps and evaluated SoRB success rate in 8467.16 seconds\n",
      "After filtering and 15000 cleanup steps, SoRB has success rate 0.20\n",
      "Took 5000 cleanup steps and evaluated SoRB success rate in 8194.88 seconds\n",
      "After filtering and 20000 cleanup steps, SoRB has success rate 0.70\n",
      "Took 5000 cleanup steps and evaluated SoRB success rate in 7716.80 seconds\n",
      "After filtering and 25000 cleanup steps, SoRB has success rate 0.45\n",
      "Took 5000 cleanup steps and evaluated SoRB success rate in 7698.29 seconds\n",
      "After filtering and 30000 cleanup steps, SoRB has success rate 0.60\n",
      "Took 5000 cleanup steps and evaluated SoRB success rate in 6578.02 seconds\n",
      "After filtering and 35000 cleanup steps, SoRB has success rate 0.35\n",
      "Took 5000 cleanup steps and evaluated SoRB success rate in 5989.61 seconds\n",
      "After filtering and 40000 cleanup steps, SoRB has success rate 0.60\n",
      "Took 5000 cleanup steps and evaluated SoRB success rate in 6958.38 seconds\n",
      "After filtering and 45000 cleanup steps, SoRB has success rate 0.30\n",
      "Took 5000 cleanup steps and evaluated SoRB success rate in 6655.75 seconds\n",
      "After filtering and 50000 cleanup steps, SoRB has success rate 0.40\n"
     ]
    }
   ],
   "source": [
    "generalized_difficulty(3)"
   ]
  }
 ],
 "metadata": {
  "kernelspec": {
   "display_name": "Python 3",
   "language": "python",
   "name": "python3"
  },
  "language_info": {
   "codemirror_mode": {
    "name": "ipython",
    "version": 3
   },
   "file_extension": ".py",
   "mimetype": "text/x-python",
   "name": "python",
   "nbconvert_exporter": "python",
   "pygments_lexer": "ipython3",
   "version": "3.7.1"
  }
 },
 "nbformat": 4,
 "nbformat_minor": 5
}
