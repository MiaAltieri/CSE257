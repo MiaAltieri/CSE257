{
 "cells": [
  {
   "cell_type": "code",
   "execution_count": 1,
   "id": "7d529f2e",
   "metadata": {},
   "outputs": [],
   "source": [
    "# Import dependencies"
   ]
  },
  {
   "cell_type": "code",
   "execution_count": 2,
   "id": "8157d036",
   "metadata": {},
   "outputs": [],
   "source": [
    "# Reload modules whenever underlying code changes\n",
    "%load_ext autoreload\n",
    "%autoreload 2"
   ]
  },
  {
   "cell_type": "code",
   "execution_count": 3,
   "id": "9a8bfc6c",
   "metadata": {},
   "outputs": [
    {
     "name": "stderr",
     "output_type": "stream",
     "text": [
      "\n",
      "Bad key savefig.frameon in file /home/mgaltier200/anaconda3/lib/python3.7/site-packages/matplotlib/mpl-data/stylelib/_classic_test.mplstyle, line 421 ('savefig.frameon : True')\n",
      "You probably need to get an updated matplotlibrc file from\n",
      "https://github.com/matplotlib/matplotlib/blob/v3.4.2/matplotlibrc.template\n",
      "or from the matplotlib source distribution\n",
      "\n",
      "Bad key verbose.level in file /home/mgaltier200/anaconda3/lib/python3.7/site-packages/matplotlib/mpl-data/stylelib/_classic_test.mplstyle, line 472 ('verbose.level  : silent      # one of silent, helpful, debug, debug-annoying')\n",
      "You probably need to get an updated matplotlibrc file from\n",
      "https://github.com/matplotlib/matplotlib/blob/v3.4.2/matplotlibrc.template\n",
      "or from the matplotlib source distribution\n",
      "\n",
      "Bad key verbose.fileo in file /home/mgaltier200/anaconda3/lib/python3.7/site-packages/matplotlib/mpl-data/stylelib/_classic_test.mplstyle, line 473 ('verbose.fileo  : sys.stdout  # a log filename, sys.stdout or sys.stderr')\n",
      "You probably need to get an updated matplotlibrc file from\n",
      "https://github.com/matplotlib/matplotlib/blob/v3.4.2/matplotlibrc.template\n",
      "or from the matplotlib source distribution\n",
      "In /home/mgaltier200/anaconda3/lib/python3.7/site-packages/matplotlib/mpl-data/stylelib/_classic_test.mplstyle: \n",
      "The text.latex.preview rcparam was deprecated in Matplotlib 3.3 and will be removed two minor releases later.\n",
      "In /home/mgaltier200/anaconda3/lib/python3.7/site-packages/matplotlib/mpl-data/stylelib/_classic_test.mplstyle: \n",
      "The mathtext.fallback_to_cm rcparam was deprecated in Matplotlib 3.3 and will be removed two minor releases later.\n",
      "In /home/mgaltier200/anaconda3/lib/python3.7/site-packages/matplotlib/mpl-data/stylelib/_classic_test.mplstyle: Support for setting the 'mathtext.fallback_to_cm' rcParam is deprecated since 3.3 and will be removed two minor releases later; use 'mathtext.fallback : 'cm' instead.\n",
      "In /home/mgaltier200/anaconda3/lib/python3.7/site-packages/matplotlib/mpl-data/stylelib/_classic_test.mplstyle: \n",
      "The validate_bool_maybe_none function was deprecated in Matplotlib 3.3 and will be removed two minor releases later.\n",
      "In /home/mgaltier200/anaconda3/lib/python3.7/site-packages/matplotlib/mpl-data/stylelib/_classic_test.mplstyle: \n",
      "The savefig.jpeg_quality rcparam was deprecated in Matplotlib 3.3 and will be removed two minor releases later.\n",
      "In /home/mgaltier200/anaconda3/lib/python3.7/site-packages/matplotlib/mpl-data/stylelib/_classic_test.mplstyle: \n",
      "The keymap.all_axes rcparam was deprecated in Matplotlib 3.3 and will be removed two minor releases later.\n",
      "In /home/mgaltier200/anaconda3/lib/python3.7/site-packages/matplotlib/mpl-data/stylelib/_classic_test.mplstyle: \n",
      "The animation.avconv_path rcparam was deprecated in Matplotlib 3.3 and will be removed two minor releases later.\n",
      "In /home/mgaltier200/anaconda3/lib/python3.7/site-packages/matplotlib/mpl-data/stylelib/_classic_test.mplstyle: \n",
      "The animation.avconv_args rcparam was deprecated in Matplotlib 3.3 and will be removed two minor releases later.\n",
      "/home/mgaltier200/anaconda3/lib/python3.7/site-packages/dask/dataframe/utils.py:13: FutureWarning: pandas.util.testing is deprecated. Use the functions in the public API at pandas.testing instead.\n",
      "  import pandas.util.testing as tm\n"
     ]
    }
   ],
   "source": [
    "%matplotlib inline\n",
    "from sgm.dependencies import *"
   ]
  },
  {
   "cell_type": "code",
   "execution_count": 4,
   "id": "932ace88",
   "metadata": {},
   "outputs": [],
   "source": [
    "# generalized"
   ]
  },
  {
   "cell_type": "code",
   "execution_count": 5,
   "id": "df6cec7d",
   "metadata": {},
   "outputs": [],
   "source": [
    "from sgm.envs import env_load_fn\n",
    "from sgm.agent import UvfAgent\n",
    "from sgm.trainer import train_eval\n",
    "from sgm.envs import *\n",
    "from scipy.spatial import distance\n",
    "from sgm.evaluation import cleanup_and_eval\n",
    "from sgm.planner import SoRBSearchPolicy\n",
    "    \n",
    "def generalized_difficulty(resize_factor):\n",
    "    tf.reset_default_graph()\n",
    "\n",
    "    # If you change the environment parameters below, make sure to run\n",
    "    # tf.reset_default_graph() in the cell above before training.\n",
    "    max_episode_steps = 20\n",
    "    env_name = 'FourRooms'  # Choose one of the environments shown above. \n",
    "    resize_factor = resize_factor  # Inflate the environment to increase the difficulty.\n",
    "    thin = True # If True, resize by expanding open space, not walls, to make walls thin\n",
    "    desc_name = \"thinned_\" + env_name.lower() if thin else env_name.lower()\n",
    "\n",
    "    base_dir = os.path.join(os.getcwd(), os.pardir, \"agents\")\n",
    "    model_dir = os.path.join(base_dir, desc_name)\n",
    "\n",
    "    tf_env = env_load_fn(env_name, max_episode_steps,\n",
    "                         resize_factor=resize_factor,\n",
    "                         terminate_on_timeout=False,\n",
    "                         thin=thin)\n",
    "    eval_tf_env = env_load_fn(env_name, max_episode_steps,\n",
    "                              resize_factor=resize_factor,\n",
    "                              terminate_on_timeout=True,\n",
    "                              thin=thin)\n",
    "\n",
    "    agent = UvfAgent(\n",
    "        tf_env.time_step_spec(),\n",
    "        tf_env.action_spec(),\n",
    "        max_episode_steps=max_episode_steps,\n",
    "        use_distributional_rl=True,\n",
    "        ensemble_size=3)\n",
    "\n",
    "\n",
    "\n",
    "    train_eval(agent,\n",
    "              tf_env,\n",
    "              eval_tf_env,\n",
    "              initial_collect_steps=1000,\n",
    "              eval_interval=1000,\n",
    "              num_eval_episodes=10,\n",
    "              num_iterations=30000,\n",
    "              save_model_dir=model_dir,\n",
    "              experiment_name=f\"{resize_factor}_{env_name}_coordinate_{max_episode_steps}steps\")\n",
    "\n",
    "    filename = str(resize_factor)+\"_FourRooms_coordinate_20steps-Dec-05-2019-12-58-28-PM/ckpt/\"\n",
    "    checkpoint_file = os.path.join(model_dir, filename)\n",
    "\n",
    "    ckpt = tf.train.Checkpoint(step=tf.Variable(1), net=agent)\n",
    "    manager = tf.train.CheckpointManager(ckpt, checkpoint_file, max_to_keep=3)\n",
    "    ckpt.restore(manager.latest_checkpoint)\n",
    "\n",
    "    #@title Fill the replay buffer with random data  {vertical-output: true, run: \"auto\" }\n",
    "    replay_buffer_size = 2000 #@param {min:100, max: 1000, step: 100, type:\"slider\"}\n",
    "\n",
    "    eval_tf_env.pyenv.envs[0].gym.set_sample_goal_args(\n",
    "        prob_constraint=0.0,\n",
    "        min_dist=0,\n",
    "        max_dist=np.inf)\n",
    "    rb_vec = []\n",
    "    for it in range(replay_buffer_size):\n",
    "        ts = eval_tf_env.reset()\n",
    "        rb_vec.append(ts.observation['observation'].numpy()[0])\n",
    "    rb_vec = np.array(rb_vec)\n",
    "\n",
    "\n",
    "    plt.figure(figsize=(6, 6))\n",
    "    plt.scatter(*rb_vec.T)\n",
    "    plot_walls(eval_tf_env.pyenv.envs[0].env.walls)\n",
    "    plt.show()\n",
    "\n",
    "    pdist = agent._get_pairwise_dist(rb_vec, aggregate=None).numpy()\n",
    "\n",
    "    plt.figure(figsize=(6, 3))\n",
    "    plt.hist(pdist.flatten(), bins=range(20))\n",
    "    plt.xlabel('predicted distance')\n",
    "    plt.ylabel('number of (s, g) pairs')\n",
    "    plt.show()\n",
    "\n",
    "    euclidean_dists = distance.pdist(rb_vec)\n",
    "\n",
    "    plt.figure(figsize=(6, 3))\n",
    "    plt.hist(euclidean_dists.flatten())\n",
    "    plt.xlabel('Euclidean distance')\n",
    "    plt.ylabel('number of pairwise distances')\n",
    "    plt.show()\n",
    "\n",
    "    search_policy_type = \"SoRB\"\n",
    "    agent.initialize_search(rb_vec, max_search_steps=6)\n",
    "    search_policy = SoRBSearchPolicy(agent, pdist, rb_vec)\n",
    "\n",
    "\n",
    "    logdir = os.path.join(os.getcwd(), os.pardir, \"logs\")\n",
    "    eval_difficulty = 0.95\n",
    "    k_nearest = 5\n",
    "    eval_trials = 20\n",
    "    total_cleanup_steps = 50000\n",
    "    eval_period = 5000\n",
    "\n",
    "    logfolder = cleanup_and_eval(search_policy,\n",
    "                                 search_policy_type,\n",
    "                                 desc_name,\n",
    "                                 eval_tf_env,\n",
    "                                 logdir,\n",
    "                                 eval_difficulty=eval_difficulty,\n",
    "                                 k_nearest=k_nearest,\n",
    "                                 eval_trials=eval_trials,\n",
    "                                 total_cleanup_steps=total_cleanup_steps,\n",
    "                                 eval_period=eval_period)"
   ]
  },
  {
   "cell_type": "code",
   "execution_count": null,
   "id": "d2a45b51",
   "metadata": {},
   "outputs": [
    {
     "name": "stdout",
     "output_type": "stream",
     "text": [
      "WARNING:tensorflow:From /home/mgaltier200/anaconda3/lib/python3.7/site-packages/tf_agents/agents/ddpg/actor_network.py:101: The name tf.keras.initializers.RandomUniform is deprecated. Please use tf.compat.v1.keras.initializers.RandomUniform instead.\n",
      "\n"
     ]
    },
    {
     "name": "stderr",
     "output_type": "stream",
     "text": [
      "/home/mgaltier200/anaconda3/lib/python3.7/site-packages/gym/logger.py:30: UserWarning: \u001b[33mWARN: Box bound precision lowered by casting to float32\u001b[0m\n",
      "  warnings.warn(colorize('%s: %s'%('WARN', msg % args), 'yellow'))\n"
     ]
    },
    {
     "name": "stdout",
     "output_type": "stream",
     "text": [
      "INFO:tensorflow:random_seed = 0\n",
      "WARNING:tensorflow:From /home/mgaltier200/anaconda3/lib/python3.7/site-packages/tensorflow_core/python/ops/resource_variable_ops.py:1781: calling BaseResourceVariable.__init__ (from tensorflow.python.ops.resource_variable_ops) with constraint is deprecated and will be removed in a future version.\n",
      "Instructions for updating:\n",
      "If using Keras pass *_constraint arguments to layers.\n",
      "WARNING:tensorflow:From /home/mgaltier200/anaconda3/lib/python3.7/site-packages/tf_agents/replay_buffers/tf_uniform_replay_buffer.py:545: where (from tensorflow.python.ops.array_ops) is deprecated and will be removed in a future version.\n",
      "Instructions for updating:\n",
      "Use tf.where in 2.0, which has the same broadcast rule as np.where\n",
      "INFO:tensorflow:Saving checkpoints to directory /home/mgaltier200/sgm/notebooks/../agents/thinned_fourrooms/1_FourRooms_coordinate_20steps-May-17-2021-09-07-42-PM/ckpt\n",
      "INFO:tensorflow:Creating tensorboard summary writer with directory /home/mgaltier200/sgm/notebooks/../agents/thinned_fourrooms/1_FourRooms_coordinate_20steps-May-17-2021-09-07-42-PM\n",
      "WARNING:tensorflow:\n",
      "The TensorFlow contrib module will not be included in TensorFlow 2.0.\n",
      "For more information, please see:\n",
      "  * https://github.com/tensorflow/community/blob/master/rfcs/20180907-contrib-sunset.md\n",
      "  * https://github.com/tensorflow/addons\n",
      "  * https://github.com/tensorflow/io (for I/O related ops)\n",
      "If you depend on functionality not listed there, please file an issue.\n",
      "\n"
     ]
    },
    {
     "name": "stderr",
     "output_type": "stream",
     "text": [
      "  3%|▎         | 998/30000 [00:17<07:39, 63.10it/s] "
     ]
    },
    {
     "name": "stdout",
     "output_type": "stream",
     "text": [
      "Saved checkpoint for step 1000: /home/mgaltier200/sgm/notebooks/../agents/thinned_fourrooms/1_FourRooms_coordinate_20steps-May-17-2021-09-07-42-PM/ckpt/ckpt-1\n",
      "INFO:tensorflow:step = 1000, loss = 2.216101\n",
      "INFO:tensorflow:61.456 steps/sec\n",
      "INFO:tensorflow:step = 1000\n",
      "INFO:tensorflow:\t set goal dist = 2\n",
      "INFO:tensorflow:\t\t AverageReturn (eval distance=2.000000) -18.10\n",
      "INFO:tensorflow:\t\t predicted_dist = 13.6 (1.3)\n",
      "INFO:tensorflow:\t set goal dist = 5\n",
      "INFO:tensorflow:\t\t AverageReturn (eval distance=5.000000) -18.80\n",
      "INFO:tensorflow:\t\t predicted_dist = 16.2 (0.5)\n",
      "INFO:tensorflow:\t set goal dist = 10\n",
      "INFO:tensorflow:\t\t AverageReturn (eval distance=10.000000) -20.00\n",
      "INFO:tensorflow:\t\t predicted_dist = 17.5 (0.4)\n",
      "INFO:tensorflow:\t eval_time = 3.57\n"
     ]
    },
    {
     "name": "stderr",
     "output_type": "stream",
     "text": [
      "  7%|▋         | 1998/30000 [00:36<07:54, 59.03it/s]  "
     ]
    },
    {
     "name": "stdout",
     "output_type": "stream",
     "text": [
      "Saved checkpoint for step 2000: /home/mgaltier200/sgm/notebooks/../agents/thinned_fourrooms/1_FourRooms_coordinate_20steps-May-17-2021-09-07-42-PM/ckpt/ckpt-2\n",
      "INFO:tensorflow:step = 2000, loss = 1.458927\n",
      "INFO:tensorflow:68.717 steps/sec\n",
      "INFO:tensorflow:step = 2000\n",
      "INFO:tensorflow:\t set goal dist = 2\n",
      "INFO:tensorflow:\t\t AverageReturn (eval distance=2.000000) -13.10\n",
      "INFO:tensorflow:\t\t predicted_dist = 14.9 (1.8)\n",
      "INFO:tensorflow:\t set goal dist = 5\n",
      "INFO:tensorflow:\t\t AverageReturn (eval distance=5.000000) -19.50\n",
      "INFO:tensorflow:\t\t predicted_dist = 17.9 (0.3)\n",
      "INFO:tensorflow:\t set goal dist = 10\n",
      "INFO:tensorflow:\t\t AverageReturn (eval distance=10.000000) -19.10\n",
      "INFO:tensorflow:\t\t predicted_dist = 18.9 (0.2)\n",
      "INFO:tensorflow:\t eval_time = 2.56\n"
     ]
    },
    {
     "name": "stderr",
     "output_type": "stream",
     "text": [
      " 10%|▉         | 2999/30000 [00:55<07:49, 57.49it/s]  "
     ]
    },
    {
     "name": "stdout",
     "output_type": "stream",
     "text": [
      "Saved checkpoint for step 3000: /home/mgaltier200/sgm/notebooks/../agents/thinned_fourrooms/1_FourRooms_coordinate_20steps-May-17-2021-09-07-42-PM/ckpt/ckpt-3\n",
      "INFO:tensorflow:step = 3000, loss = 2.819726\n",
      "INFO:tensorflow:67.504 steps/sec\n",
      "INFO:tensorflow:step = 3000\n",
      "INFO:tensorflow:\t set goal dist = 2\n",
      "INFO:tensorflow:\t\t AverageReturn (eval distance=2.000000) -6.50\n",
      "INFO:tensorflow:\t\t predicted_dist = 9.7 (2.2)\n",
      "INFO:tensorflow:\t set goal dist = 5\n",
      "INFO:tensorflow:\t\t AverageReturn (eval distance=5.000000) -11.50\n",
      "INFO:tensorflow:\t\t predicted_dist = 13.8 (1.8)\n",
      "INFO:tensorflow:\t set goal dist = 10\n",
      "INFO:tensorflow:\t\t AverageReturn (eval distance=10.000000) -19.60\n",
      "INFO:tensorflow:\t\t predicted_dist = 17.3 (1.3)\n",
      "INFO:tensorflow:\t eval_time = 2.16\n"
     ]
    },
    {
     "name": "stderr",
     "output_type": "stream",
     "text": [
      " 13%|█▎        | 3997/30000 [01:13<07:20, 59.05it/s]"
     ]
    },
    {
     "name": "stdout",
     "output_type": "stream",
     "text": [
      "Saved checkpoint for step 4000: /home/mgaltier200/sgm/notebooks/../agents/thinned_fourrooms/1_FourRooms_coordinate_20steps-May-17-2021-09-07-42-PM/ckpt/ckpt-4\n",
      "INFO:tensorflow:step = 4000, loss = 3.272264\n",
      "INFO:tensorflow:66.256 steps/sec\n",
      "INFO:tensorflow:step = 4000\n",
      "INFO:tensorflow:\t set goal dist = 2\n",
      "INFO:tensorflow:\t\t AverageReturn (eval distance=2.000000) -4.00\n",
      "INFO:tensorflow:\t\t predicted_dist = 7.3 (2.1)\n",
      "INFO:tensorflow:\t set goal dist = 5\n",
      "INFO:tensorflow:\t\t AverageReturn (eval distance=5.000000) -12.00\n",
      "INFO:tensorflow:\t\t predicted_dist = 10.8 (0.9)\n",
      "INFO:tensorflow:\t set goal dist = 10\n",
      "INFO:tensorflow:\t\t AverageReturn (eval distance=10.000000) -20.00\n",
      "INFO:tensorflow:\t\t predicted_dist = 12.4 (1.7)\n",
      "INFO:tensorflow:\t eval_time = 2.53\n"
     ]
    },
    {
     "name": "stderr",
     "output_type": "stream",
     "text": [
      " 17%|█▋        | 4998/30000 [01:33<06:57, 59.84it/s]"
     ]
    },
    {
     "name": "stdout",
     "output_type": "stream",
     "text": [
      "Saved checkpoint for step 5000: /home/mgaltier200/sgm/notebooks/../agents/thinned_fourrooms/1_FourRooms_coordinate_20steps-May-17-2021-09-07-42-PM/ckpt/ckpt-5\n",
      "INFO:tensorflow:step = 5000, loss = 3.554925\n",
      "INFO:tensorflow:62.874 steps/sec\n",
      "INFO:tensorflow:step = 5000\n",
      "INFO:tensorflow:\t set goal dist = 2\n",
      "INFO:tensorflow:\t\t AverageReturn (eval distance=2.000000) -4.10\n",
      "INFO:tensorflow:\t\t predicted_dist = 6.1 (1.7)\n",
      "INFO:tensorflow:\t set goal dist = 5\n",
      "INFO:tensorflow:\t\t AverageReturn (eval distance=5.000000) -10.00\n",
      "INFO:tensorflow:\t\t predicted_dist = 11.3 (2.3)\n",
      "INFO:tensorflow:\t set goal dist = 10\n",
      "INFO:tensorflow:\t\t AverageReturn (eval distance=10.000000) -18.80\n",
      "INFO:tensorflow:\t\t predicted_dist = 15.2 (0.9)\n",
      "INFO:tensorflow:\t eval_time = 2.51\n"
     ]
    },
    {
     "name": "stderr",
     "output_type": "stream",
     "text": [
      " 20%|█▉        | 5998/30000 [01:53<06:52, 58.20it/s]"
     ]
    },
    {
     "name": "stdout",
     "output_type": "stream",
     "text": [
      "Saved checkpoint for step 6000: /home/mgaltier200/sgm/notebooks/../agents/thinned_fourrooms/1_FourRooms_coordinate_20steps-May-17-2021-09-07-42-PM/ckpt/ckpt-6\n",
      "INFO:tensorflow:step = 6000, loss = 3.359741\n",
      "INFO:tensorflow:61.025 steps/sec\n",
      "INFO:tensorflow:step = 6000\n",
      "INFO:tensorflow:\t set goal dist = 2\n",
      "INFO:tensorflow:\t\t AverageReturn (eval distance=2.000000) -5.00\n",
      "INFO:tensorflow:\t\t predicted_dist = 5.5 (1.6)\n",
      "INFO:tensorflow:\t set goal dist = 5\n",
      "INFO:tensorflow:\t\t AverageReturn (eval distance=5.000000) -13.00\n",
      "INFO:tensorflow:\t\t predicted_dist = 10.3 (1.5)\n",
      "INFO:tensorflow:\t set goal dist = 10\n",
      "INFO:tensorflow:\t\t AverageReturn (eval distance=10.000000) -19.70\n",
      "INFO:tensorflow:\t\t predicted_dist = 14.8 (0.9)\n",
      "INFO:tensorflow:\t eval_time = 2.54\n"
     ]
    },
    {
     "name": "stderr",
     "output_type": "stream",
     "text": [
      " 23%|██▎       | 6993/30000 [02:13<06:15, 61.32it/s]"
     ]
    },
    {
     "name": "stdout",
     "output_type": "stream",
     "text": [
      "Saved checkpoint for step 7000: /home/mgaltier200/sgm/notebooks/../agents/thinned_fourrooms/1_FourRooms_coordinate_20steps-May-17-2021-09-07-42-PM/ckpt/ckpt-7\n",
      "INFO:tensorflow:step = 7000, loss = 3.141954\n",
      "INFO:tensorflow:60.448 steps/sec\n",
      "INFO:tensorflow:step = 7000\n",
      "INFO:tensorflow:\t set goal dist = 2\n",
      "INFO:tensorflow:\t\t AverageReturn (eval distance=2.000000) -2.70\n",
      "INFO:tensorflow:\t\t predicted_dist = 4.4 (1.9)\n",
      "INFO:tensorflow:\t set goal dist = 5\n",
      "INFO:tensorflow:\t\t AverageReturn (eval distance=5.000000) -11.30\n",
      "INFO:tensorflow:\t\t predicted_dist = 10.1 (1.6)\n",
      "INFO:tensorflow:\t set goal dist = 10\n",
      "INFO:tensorflow:\t\t AverageReturn (eval distance=10.000000) -19.20\n",
      "INFO:tensorflow:\t\t predicted_dist = 15.4 (0.9)\n",
      "INFO:tensorflow:\t eval_time = 2.35\n"
     ]
    },
    {
     "name": "stderr",
     "output_type": "stream",
     "text": [
      " 27%|██▋       | 7999/30000 [02:34<07:14, 50.64it/s]"
     ]
    },
    {
     "name": "stdout",
     "output_type": "stream",
     "text": [
      "Saved checkpoint for step 8000: /home/mgaltier200/sgm/notebooks/../agents/thinned_fourrooms/1_FourRooms_coordinate_20steps-May-17-2021-09-07-42-PM/ckpt/ckpt-8\n",
      "INFO:tensorflow:step = 8000, loss = 3.235903\n",
      "INFO:tensorflow:60.879 steps/sec\n",
      "INFO:tensorflow:step = 8000\n",
      "INFO:tensorflow:\t set goal dist = 2\n",
      "INFO:tensorflow:\t\t AverageReturn (eval distance=2.000000) -3.00\n",
      "INFO:tensorflow:\t\t predicted_dist = 5.3 (1.9)\n",
      "INFO:tensorflow:\t set goal dist = 5\n",
      "INFO:tensorflow:\t\t AverageReturn (eval distance=5.000000) -9.80\n",
      "INFO:tensorflow:\t\t predicted_dist = 10.3 (1.9)\n",
      "INFO:tensorflow:\t set goal dist = 10\n",
      "INFO:tensorflow:\t\t AverageReturn (eval distance=10.000000) -17.70\n",
      "INFO:tensorflow:\t\t predicted_dist = 16.5 (1.5)\n",
      "INFO:tensorflow:\t eval_time = 2.38\n"
     ]
    },
    {
     "name": "stderr",
     "output_type": "stream",
     "text": [
      " 30%|██▉       | 8998/30000 [02:54<05:49, 60.09it/s]"
     ]
    },
    {
     "name": "stdout",
     "output_type": "stream",
     "text": [
      "Saved checkpoint for step 9000: /home/mgaltier200/sgm/notebooks/../agents/thinned_fourrooms/1_FourRooms_coordinate_20steps-May-17-2021-09-07-42-PM/ckpt/ckpt-9\n",
      "INFO:tensorflow:step = 9000, loss = 3.083435\n",
      "INFO:tensorflow:61.156 steps/sec\n",
      "INFO:tensorflow:step = 9000\n",
      "INFO:tensorflow:\t set goal dist = 2\n",
      "INFO:tensorflow:\t\t AverageReturn (eval distance=2.000000) -2.60\n",
      "INFO:tensorflow:\t\t predicted_dist = 5.0 (1.7)\n",
      "INFO:tensorflow:\t set goal dist = 5\n",
      "INFO:tensorflow:\t\t AverageReturn (eval distance=5.000000) -12.00\n",
      "INFO:tensorflow:\t\t predicted_dist = 9.3 (2.3)\n",
      "INFO:tensorflow:\t set goal dist = 10\n",
      "INFO:tensorflow:\t\t AverageReturn (eval distance=10.000000) -18.90\n",
      "INFO:tensorflow:\t\t predicted_dist = 15.8 (1.7)\n",
      "INFO:tensorflow:\t eval_time = 2.33\n"
     ]
    },
    {
     "name": "stderr",
     "output_type": "stream",
     "text": [
      " 33%|███▎      | 9996/30000 [03:14<05:35, 59.62it/s]"
     ]
    },
    {
     "name": "stdout",
     "output_type": "stream",
     "text": [
      "Saved checkpoint for step 10000: /home/mgaltier200/sgm/notebooks/../agents/thinned_fourrooms/1_FourRooms_coordinate_20steps-May-17-2021-09-07-42-PM/ckpt/ckpt-10\n",
      "INFO:tensorflow:step = 10000, loss = 3.113468\n",
      "INFO:tensorflow:61.214 steps/sec\n",
      "INFO:tensorflow:step = 10000\n",
      "INFO:tensorflow:\t set goal dist = 2\n",
      "INFO:tensorflow:\t\t AverageReturn (eval distance=2.000000) -4.20\n",
      "INFO:tensorflow:\t\t predicted_dist = 4.3 (1.6)\n",
      "INFO:tensorflow:\t set goal dist = 5\n",
      "INFO:tensorflow:\t\t AverageReturn (eval distance=5.000000) -13.30\n",
      "INFO:tensorflow:\t\t predicted_dist = 9.0 (2.0)\n",
      "INFO:tensorflow:\t set goal dist = 10\n",
      "INFO:tensorflow:\t\t AverageReturn (eval distance=10.000000) -18.30\n",
      "INFO:tensorflow:\t\t predicted_dist = 14.4 (1.5)\n",
      "INFO:tensorflow:\t eval_time = 2.12\n"
     ]
    },
    {
     "name": "stderr",
     "output_type": "stream",
     "text": [
      " 37%|███▋      | 10995/30000 [03:34<05:20, 59.24it/s]"
     ]
    },
    {
     "name": "stdout",
     "output_type": "stream",
     "text": [
      "Saved checkpoint for step 11000: /home/mgaltier200/sgm/notebooks/../agents/thinned_fourrooms/1_FourRooms_coordinate_20steps-May-17-2021-09-07-42-PM/ckpt/ckpt-11\n",
      "INFO:tensorflow:step = 11000, loss = 3.011652\n",
      "INFO:tensorflow:60.867 steps/sec\n",
      "INFO:tensorflow:step = 11000\n",
      "INFO:tensorflow:\t set goal dist = 2\n",
      "INFO:tensorflow:\t\t AverageReturn (eval distance=2.000000) -2.80\n",
      "INFO:tensorflow:\t\t predicted_dist = 4.5 (1.6)\n",
      "INFO:tensorflow:\t set goal dist = 5\n",
      "INFO:tensorflow:\t\t AverageReturn (eval distance=5.000000) -9.00\n",
      "INFO:tensorflow:\t\t predicted_dist = 9.2 (1.7)\n",
      "INFO:tensorflow:\t set goal dist = 10\n",
      "INFO:tensorflow:\t\t AverageReturn (eval distance=10.000000) -19.70\n",
      "INFO:tensorflow:\t\t predicted_dist = 14.4 (1.1)\n",
      "INFO:tensorflow:\t eval_time = 2.68\n"
     ]
    },
    {
     "name": "stderr",
     "output_type": "stream",
     "text": [
      " 40%|███▉      | 11999/30000 [03:54<05:55, 50.65it/s]"
     ]
    },
    {
     "name": "stdout",
     "output_type": "stream",
     "text": [
      "Saved checkpoint for step 12000: /home/mgaltier200/sgm/notebooks/../agents/thinned_fourrooms/1_FourRooms_coordinate_20steps-May-17-2021-09-07-42-PM/ckpt/ckpt-12\n",
      "INFO:tensorflow:step = 12000, loss = 2.682327\n",
      "INFO:tensorflow:60.745 steps/sec\n",
      "INFO:tensorflow:step = 12000\n",
      "INFO:tensorflow:\t set goal dist = 2\n",
      "INFO:tensorflow:\t\t AverageReturn (eval distance=2.000000) -2.90\n",
      "INFO:tensorflow:\t\t predicted_dist = 5.1 (1.7)\n",
      "INFO:tensorflow:\t set goal dist = 5\n",
      "INFO:tensorflow:\t\t AverageReturn (eval distance=5.000000) -12.90\n",
      "INFO:tensorflow:\t\t predicted_dist = 10.4 (1.8)\n",
      "INFO:tensorflow:\t set goal dist = 10\n",
      "INFO:tensorflow:\t\t AverageReturn (eval distance=10.000000) -20.00\n",
      "INFO:tensorflow:\t\t predicted_dist = 15.6 (1.6)\n",
      "INFO:tensorflow:\t eval_time = 2.63\n"
     ]
    },
    {
     "name": "stderr",
     "output_type": "stream",
     "text": [
      " 43%|████▎     | 12999/30000 [04:15<05:53, 48.13it/s]"
     ]
    },
    {
     "name": "stdout",
     "output_type": "stream",
     "text": [
      "Saved checkpoint for step 13000: /home/mgaltier200/sgm/notebooks/../agents/thinned_fourrooms/1_FourRooms_coordinate_20steps-May-17-2021-09-07-42-PM/ckpt/ckpt-13\n",
      "INFO:tensorflow:step = 13000, loss = 2.905596\n",
      "INFO:tensorflow:60.656 steps/sec\n",
      "INFO:tensorflow:step = 13000\n",
      "INFO:tensorflow:\t set goal dist = 2\n",
      "INFO:tensorflow:\t\t AverageReturn (eval distance=2.000000) -5.40\n",
      "INFO:tensorflow:\t\t predicted_dist = 3.9 (2.1)\n",
      "INFO:tensorflow:\t set goal dist = 5\n",
      "INFO:tensorflow:\t\t AverageReturn (eval distance=5.000000) -17.20\n",
      "INFO:tensorflow:\t\t predicted_dist = 9.8 (2.1)\n",
      "INFO:tensorflow:\t set goal dist = 10\n",
      "INFO:tensorflow:\t\t AverageReturn (eval distance=10.000000) -20.00\n",
      "INFO:tensorflow:\t\t predicted_dist = 15.0 (2.4)\n",
      "INFO:tensorflow:\t eval_time = 2.53\n"
     ]
    },
    {
     "name": "stderr",
     "output_type": "stream",
     "text": [
      " 47%|████▋     | 13998/30000 [04:35<04:56, 54.06it/s]"
     ]
    },
    {
     "name": "stdout",
     "output_type": "stream",
     "text": [
      "Saved checkpoint for step 14000: /home/mgaltier200/sgm/notebooks/../agents/thinned_fourrooms/1_FourRooms_coordinate_20steps-May-17-2021-09-07-42-PM/ckpt/ckpt-14\n",
      "INFO:tensorflow:step = 14000, loss = 2.882614\n",
      "INFO:tensorflow:61.805 steps/sec\n",
      "INFO:tensorflow:step = 14000\n",
      "INFO:tensorflow:\t set goal dist = 2\n",
      "INFO:tensorflow:\t\t AverageReturn (eval distance=2.000000) -3.10\n",
      "INFO:tensorflow:\t\t predicted_dist = 4.8 (1.8)\n",
      "INFO:tensorflow:\t set goal dist = 5\n",
      "INFO:tensorflow:\t\t AverageReturn (eval distance=5.000000) -9.80\n",
      "INFO:tensorflow:\t\t predicted_dist = 9.0 (2.0)\n",
      "INFO:tensorflow:\t set goal dist = 10\n",
      "INFO:tensorflow:\t\t AverageReturn (eval distance=10.000000) -18.30\n",
      "INFO:tensorflow:\t\t predicted_dist = 14.5 (2.3)\n",
      "INFO:tensorflow:\t eval_time = 2.16\n"
     ]
    },
    {
     "name": "stderr",
     "output_type": "stream",
     "text": [
      " 50%|████▉     | 14997/30000 [04:55<04:42, 53.02it/s]"
     ]
    },
    {
     "name": "stdout",
     "output_type": "stream",
     "text": [
      "Saved checkpoint for step 15000: /home/mgaltier200/sgm/notebooks/../agents/thinned_fourrooms/1_FourRooms_coordinate_20steps-May-17-2021-09-07-42-PM/ckpt/ckpt-15\n",
      "INFO:tensorflow:step = 15000, loss = 2.981547\n",
      "INFO:tensorflow:59.866 steps/sec\n",
      "INFO:tensorflow:step = 15000\n",
      "INFO:tensorflow:\t set goal dist = 2\n",
      "INFO:tensorflow:\t\t AverageReturn (eval distance=2.000000) -4.10\n",
      "INFO:tensorflow:\t\t predicted_dist = 5.2 (2.2)\n",
      "INFO:tensorflow:\t set goal dist = 5\n",
      "INFO:tensorflow:\t\t AverageReturn (eval distance=5.000000) -6.50\n",
      "INFO:tensorflow:\t\t predicted_dist = 10.2 (1.8)\n",
      "INFO:tensorflow:\t set goal dist = 10\n",
      "INFO:tensorflow:\t\t AverageReturn (eval distance=10.000000) -18.60\n",
      "INFO:tensorflow:\t\t predicted_dist = 15.6 (0.9)\n",
      "INFO:tensorflow:\t eval_time = 2.37\n"
     ]
    },
    {
     "name": "stderr",
     "output_type": "stream",
     "text": [
      " 53%|█████▎    | 15998/30000 [05:17<04:24, 52.88it/s]"
     ]
    },
    {
     "name": "stdout",
     "output_type": "stream",
     "text": [
      "Saved checkpoint for step 16000: /home/mgaltier200/sgm/notebooks/../agents/thinned_fourrooms/1_FourRooms_coordinate_20steps-May-17-2021-09-07-42-PM/ckpt/ckpt-16\n",
      "INFO:tensorflow:step = 16000, loss = 2.609149\n",
      "INFO:tensorflow:57.569 steps/sec\n",
      "INFO:tensorflow:step = 16000\n",
      "INFO:tensorflow:\t set goal dist = 2\n",
      "INFO:tensorflow:\t\t AverageReturn (eval distance=2.000000) -5.40\n",
      "INFO:tensorflow:\t\t predicted_dist = 5.1 (2.2)\n",
      "INFO:tensorflow:\t set goal dist = 5\n",
      "INFO:tensorflow:\t\t AverageReturn (eval distance=5.000000) -14.40\n",
      "INFO:tensorflow:\t\t predicted_dist = 10.7 (1.2)\n",
      "INFO:tensorflow:\t set goal dist = 10\n",
      "INFO:tensorflow:\t\t AverageReturn (eval distance=10.000000) -18.20\n",
      "INFO:tensorflow:\t\t predicted_dist = 16.7 (1.1)\n",
      "INFO:tensorflow:\t eval_time = 2.68\n"
     ]
    },
    {
     "name": "stderr",
     "output_type": "stream",
     "text": [
      " 57%|█████▋    | 16999/30000 [05:38<04:42, 45.95it/s]"
     ]
    },
    {
     "name": "stdout",
     "output_type": "stream",
     "text": [
      "Saved checkpoint for step 17000: /home/mgaltier200/sgm/notebooks/../agents/thinned_fourrooms/1_FourRooms_coordinate_20steps-May-17-2021-09-07-42-PM/ckpt/ckpt-17\n",
      "INFO:tensorflow:step = 17000, loss = 2.715187\n",
      "INFO:tensorflow:57.779 steps/sec\n",
      "INFO:tensorflow:step = 17000\n",
      "INFO:tensorflow:\t set goal dist = 2\n",
      "INFO:tensorflow:\t\t AverageReturn (eval distance=2.000000) -3.00\n",
      "INFO:tensorflow:\t\t predicted_dist = 3.6 (1.7)\n",
      "INFO:tensorflow:\t set goal dist = 5\n",
      "INFO:tensorflow:\t\t AverageReturn (eval distance=5.000000) -15.60\n",
      "INFO:tensorflow:\t\t predicted_dist = 9.0 (2.2)\n",
      "INFO:tensorflow:\t set goal dist = 10\n",
      "INFO:tensorflow:\t\t AverageReturn (eval distance=10.000000) -18.00\n",
      "INFO:tensorflow:\t\t predicted_dist = 16.3 (0.9)\n",
      "INFO:tensorflow:\t eval_time = 2.90\n"
     ]
    },
    {
     "name": "stderr",
     "output_type": "stream",
     "text": [
      " 60%|█████▉    | 17996/30000 [06:00<03:39, 54.64it/s]"
     ]
    },
    {
     "name": "stdout",
     "output_type": "stream",
     "text": [
      "Saved checkpoint for step 18000: /home/mgaltier200/sgm/notebooks/../agents/thinned_fourrooms/1_FourRooms_coordinate_20steps-May-17-2021-09-07-42-PM/ckpt/ckpt-18\n",
      "INFO:tensorflow:step = 18000, loss = 2.902717\n",
      "INFO:tensorflow:57.827 steps/sec\n",
      "INFO:tensorflow:step = 18000\n",
      "INFO:tensorflow:\t set goal dist = 2\n",
      "INFO:tensorflow:\t\t AverageReturn (eval distance=2.000000) -3.70\n",
      "INFO:tensorflow:\t\t predicted_dist = 3.7 (1.5)\n",
      "INFO:tensorflow:\t set goal dist = 5\n",
      "INFO:tensorflow:\t\t AverageReturn (eval distance=5.000000) -11.60\n",
      "INFO:tensorflow:\t\t predicted_dist = 10.1 (1.9)\n",
      "INFO:tensorflow:\t set goal dist = 10\n",
      "INFO:tensorflow:\t\t AverageReturn (eval distance=10.000000) -19.20\n",
      "INFO:tensorflow:\t\t predicted_dist = 15.8 (1.0)\n",
      "INFO:tensorflow:\t eval_time = 2.40\n"
     ]
    },
    {
     "name": "stderr",
     "output_type": "stream",
     "text": [
      " 63%|██████▎   | 18999/30000 [06:21<03:46, 48.66it/s]"
     ]
    },
    {
     "name": "stdout",
     "output_type": "stream",
     "text": [
      "Saved checkpoint for step 19000: /home/mgaltier200/sgm/notebooks/../agents/thinned_fourrooms/1_FourRooms_coordinate_20steps-May-17-2021-09-07-42-PM/ckpt/ckpt-19\n",
      "INFO:tensorflow:step = 19000, loss = 2.858766\n",
      "INFO:tensorflow:58.597 steps/sec\n",
      "INFO:tensorflow:step = 19000\n",
      "INFO:tensorflow:\t set goal dist = 2\n",
      "INFO:tensorflow:\t\t AverageReturn (eval distance=2.000000) -3.50\n",
      "INFO:tensorflow:\t\t predicted_dist = 3.9 (1.2)\n",
      "INFO:tensorflow:\t set goal dist = 5\n",
      "INFO:tensorflow:\t\t AverageReturn (eval distance=5.000000) -14.00\n",
      "INFO:tensorflow:\t\t predicted_dist = 7.0 (1.9)\n",
      "INFO:tensorflow:\t set goal dist = 10\n",
      "INFO:tensorflow:\t\t AverageReturn (eval distance=10.000000) -17.40\n",
      "INFO:tensorflow:\t\t predicted_dist = 14.9 (1.9)\n",
      "INFO:tensorflow:\t eval_time = 2.49\n"
     ]
    },
    {
     "name": "stderr",
     "output_type": "stream",
     "text": [
      " 67%|██████▋   | 19995/30000 [06:42<02:45, 60.38it/s]"
     ]
    },
    {
     "name": "stdout",
     "output_type": "stream",
     "text": [
      "Saved checkpoint for step 20000: /home/mgaltier200/sgm/notebooks/../agents/thinned_fourrooms/1_FourRooms_coordinate_20steps-May-17-2021-09-07-42-PM/ckpt/ckpt-20\n",
      "INFO:tensorflow:step = 20000, loss = 2.718558\n",
      "INFO:tensorflow:57.795 steps/sec\n",
      "INFO:tensorflow:step = 20000\n",
      "INFO:tensorflow:\t set goal dist = 2\n",
      "INFO:tensorflow:\t\t AverageReturn (eval distance=2.000000) -4.80\n",
      "INFO:tensorflow:\t\t predicted_dist = 4.5 (1.3)\n",
      "INFO:tensorflow:\t set goal dist = 5\n",
      "INFO:tensorflow:\t\t AverageReturn (eval distance=5.000000) -13.50\n",
      "INFO:tensorflow:\t\t predicted_dist = 8.2 (1.5)\n",
      "INFO:tensorflow:\t set goal dist = 10\n",
      "INFO:tensorflow:\t\t AverageReturn (eval distance=10.000000) -19.20\n",
      "INFO:tensorflow:\t\t predicted_dist = 14.9 (0.8)\n",
      "INFO:tensorflow:\t eval_time = 2.49\n"
     ]
    },
    {
     "name": "stderr",
     "output_type": "stream",
     "text": [
      " 70%|██████▉   | 20994/30000 [07:04<02:30, 59.95it/s]"
     ]
    },
    {
     "name": "stdout",
     "output_type": "stream",
     "text": [
      "Saved checkpoint for step 21000: /home/mgaltier200/sgm/notebooks/../agents/thinned_fourrooms/1_FourRooms_coordinate_20steps-May-17-2021-09-07-42-PM/ckpt/ckpt-21\n",
      "INFO:tensorflow:step = 21000, loss = 3.054260\n",
      "INFO:tensorflow:58.027 steps/sec\n",
      "INFO:tensorflow:step = 21000\n",
      "INFO:tensorflow:\t set goal dist = 2\n",
      "INFO:tensorflow:\t\t AverageReturn (eval distance=2.000000) -3.20\n",
      "INFO:tensorflow:\t\t predicted_dist = 4.9 (2.2)\n",
      "INFO:tensorflow:\t set goal dist = 5\n",
      "INFO:tensorflow:\t\t AverageReturn (eval distance=5.000000) -12.50\n",
      "INFO:tensorflow:\t\t predicted_dist = 10.5 (2.2)\n",
      "INFO:tensorflow:\t set goal dist = 10\n",
      "INFO:tensorflow:\t\t AverageReturn (eval distance=10.000000) -18.80\n",
      "INFO:tensorflow:\t\t predicted_dist = 15.7 (1.6)\n",
      "INFO:tensorflow:\t eval_time = 2.44\n"
     ]
    },
    {
     "name": "stderr",
     "output_type": "stream",
     "text": [
      " 73%|███████▎  | 21994/30000 [07:25<02:19, 57.26it/s]"
     ]
    },
    {
     "name": "stdout",
     "output_type": "stream",
     "text": [
      "Saved checkpoint for step 22000: /home/mgaltier200/sgm/notebooks/../agents/thinned_fourrooms/1_FourRooms_coordinate_20steps-May-17-2021-09-07-42-PM/ckpt/ckpt-22\n",
      "INFO:tensorflow:step = 22000, loss = 2.809473\n",
      "INFO:tensorflow:57.467 steps/sec\n",
      "INFO:tensorflow:step = 22000\n",
      "INFO:tensorflow:\t set goal dist = 2\n",
      "INFO:tensorflow:\t\t AverageReturn (eval distance=2.000000) -4.10\n",
      "INFO:tensorflow:\t\t predicted_dist = 4.8 (1.7)\n",
      "INFO:tensorflow:\t set goal dist = 5\n",
      "INFO:tensorflow:\t\t AverageReturn (eval distance=5.000000) -13.80\n",
      "INFO:tensorflow:\t\t predicted_dist = 9.7 (2.6)\n",
      "INFO:tensorflow:\t set goal dist = 10\n",
      "INFO:tensorflow:\t\t AverageReturn (eval distance=10.000000) -19.50\n",
      "INFO:tensorflow:\t\t predicted_dist = 16.5 (0.9)\n",
      "INFO:tensorflow:\t eval_time = 2.23\n"
     ]
    },
    {
     "name": "stderr",
     "output_type": "stream",
     "text": [
      " 77%|███████▋  | 22997/30000 [07:46<02:08, 54.51it/s]"
     ]
    },
    {
     "name": "stdout",
     "output_type": "stream",
     "text": [
      "Saved checkpoint for step 23000: /home/mgaltier200/sgm/notebooks/../agents/thinned_fourrooms/1_FourRooms_coordinate_20steps-May-17-2021-09-07-42-PM/ckpt/ckpt-23\n",
      "INFO:tensorflow:step = 23000, loss = 2.631416\n",
      "INFO:tensorflow:57.639 steps/sec\n",
      "INFO:tensorflow:step = 23000\n",
      "INFO:tensorflow:\t set goal dist = 2\n",
      "INFO:tensorflow:\t\t AverageReturn (eval distance=2.000000) -3.20\n",
      "INFO:tensorflow:\t\t predicted_dist = 4.3 (1.2)\n",
      "INFO:tensorflow:\t set goal dist = 5\n",
      "INFO:tensorflow:\t\t AverageReturn (eval distance=5.000000) -10.30\n",
      "INFO:tensorflow:\t\t predicted_dist = 10.0 (2.1)\n",
      "INFO:tensorflow:\t set goal dist = 10\n",
      "INFO:tensorflow:\t\t AverageReturn (eval distance=10.000000) -19.30\n",
      "INFO:tensorflow:\t\t predicted_dist = 15.6 (1.9)\n",
      "INFO:tensorflow:\t eval_time = 2.42\n"
     ]
    },
    {
     "name": "stderr",
     "output_type": "stream",
     "text": [
      " 80%|███████▉  | 23996/30000 [08:08<01:55, 52.10it/s]"
     ]
    },
    {
     "name": "stdout",
     "output_type": "stream",
     "text": [
      "Saved checkpoint for step 24000: /home/mgaltier200/sgm/notebooks/../agents/thinned_fourrooms/1_FourRooms_coordinate_20steps-May-17-2021-09-07-42-PM/ckpt/ckpt-24\n",
      "INFO:tensorflow:step = 24000, loss = 2.319784\n",
      "INFO:tensorflow:56.985 steps/sec\n",
      "INFO:tensorflow:step = 24000\n",
      "INFO:tensorflow:\t set goal dist = 2\n",
      "INFO:tensorflow:\t\t AverageReturn (eval distance=2.000000) -3.80\n",
      "INFO:tensorflow:\t\t predicted_dist = 4.0 (1.6)\n",
      "INFO:tensorflow:\t set goal dist = 5\n",
      "INFO:tensorflow:\t\t AverageReturn (eval distance=5.000000) -11.40\n",
      "INFO:tensorflow:\t\t predicted_dist = 9.6 (1.9)\n",
      "INFO:tensorflow:\t set goal dist = 10\n",
      "INFO:tensorflow:\t\t AverageReturn (eval distance=10.000000) -20.00\n",
      "INFO:tensorflow:\t\t predicted_dist = 16.2 (1.5)\n",
      "INFO:tensorflow:\t eval_time = 2.31\n"
     ]
    },
    {
     "name": "stderr",
     "output_type": "stream",
     "text": [
      " 83%|████████▎ | 24996/30000 [08:29<01:34, 52.86it/s]"
     ]
    },
    {
     "name": "stdout",
     "output_type": "stream",
     "text": [
      "Saved checkpoint for step 25000: /home/mgaltier200/sgm/notebooks/../agents/thinned_fourrooms/1_FourRooms_coordinate_20steps-May-17-2021-09-07-42-PM/ckpt/ckpt-25\n",
      "INFO:tensorflow:step = 25000, loss = 2.414698\n",
      "INFO:tensorflow:56.742 steps/sec\n",
      "INFO:tensorflow:step = 25000\n",
      "INFO:tensorflow:\t set goal dist = 2\n",
      "INFO:tensorflow:\t\t AverageReturn (eval distance=2.000000) -4.30\n",
      "INFO:tensorflow:\t\t predicted_dist = 4.4 (1.7)\n",
      "INFO:tensorflow:\t set goal dist = 5\n",
      "INFO:tensorflow:\t\t AverageReturn (eval distance=5.000000) -12.30\n",
      "INFO:tensorflow:\t\t predicted_dist = 7.9 (1.8)\n",
      "INFO:tensorflow:\t set goal dist = 10\n",
      "INFO:tensorflow:\t\t AverageReturn (eval distance=10.000000) -18.70\n",
      "INFO:tensorflow:\t\t predicted_dist = 15.4 (0.8)\n",
      "INFO:tensorflow:\t eval_time = 2.63\n"
     ]
    },
    {
     "name": "stderr",
     "output_type": "stream",
     "text": [
      " 87%|████████▋ | 25995/30000 [08:51<01:17, 51.89it/s]"
     ]
    },
    {
     "name": "stdout",
     "output_type": "stream",
     "text": [
      "Saved checkpoint for step 26000: /home/mgaltier200/sgm/notebooks/../agents/thinned_fourrooms/1_FourRooms_coordinate_20steps-May-17-2021-09-07-42-PM/ckpt/ckpt-26\n",
      "INFO:tensorflow:step = 26000, loss = 2.963262\n",
      "INFO:tensorflow:56.285 steps/sec\n",
      "INFO:tensorflow:step = 26000\n",
      "INFO:tensorflow:\t set goal dist = 2\n",
      "INFO:tensorflow:\t\t AverageReturn (eval distance=2.000000) -3.50\n",
      "INFO:tensorflow:\t\t predicted_dist = 4.4 (1.6)\n",
      "INFO:tensorflow:\t set goal dist = 5\n",
      "INFO:tensorflow:\t\t AverageReturn (eval distance=5.000000) -12.70\n",
      "INFO:tensorflow:\t\t predicted_dist = 10.4 (1.7)\n",
      "INFO:tensorflow:\t set goal dist = 10\n",
      "INFO:tensorflow:\t\t AverageReturn (eval distance=10.000000) -18.20\n",
      "INFO:tensorflow:\t\t predicted_dist = 16.0 (1.7)\n",
      "INFO:tensorflow:\t eval_time = 2.13\n"
     ]
    },
    {
     "name": "stderr",
     "output_type": "stream",
     "text": [
      " 90%|████████▉ | 26999/30000 [09:13<01:11, 42.15it/s]"
     ]
    },
    {
     "name": "stdout",
     "output_type": "stream",
     "text": [
      "Saved checkpoint for step 27000: /home/mgaltier200/sgm/notebooks/../agents/thinned_fourrooms/1_FourRooms_coordinate_20steps-May-17-2021-09-07-42-PM/ckpt/ckpt-27\n",
      "INFO:tensorflow:step = 27000, loss = 2.660552\n",
      "INFO:tensorflow:55.293 steps/sec\n",
      "INFO:tensorflow:step = 27000\n",
      "INFO:tensorflow:\t set goal dist = 2\n",
      "INFO:tensorflow:\t\t AverageReturn (eval distance=2.000000) -3.50\n",
      "INFO:tensorflow:\t\t predicted_dist = 4.2 (1.4)\n",
      "INFO:tensorflow:\t set goal dist = 5\n",
      "INFO:tensorflow:\t\t AverageReturn (eval distance=5.000000) -11.90\n",
      "INFO:tensorflow:\t\t predicted_dist = 9.1 (1.9)\n",
      "INFO:tensorflow:\t set goal dist = 10\n",
      "INFO:tensorflow:\t\t AverageReturn (eval distance=10.000000) -19.80\n",
      "INFO:tensorflow:\t\t predicted_dist = 16.1 (1.8)\n",
      "INFO:tensorflow:\t eval_time = 2.08\n"
     ]
    },
    {
     "name": "stderr",
     "output_type": "stream",
     "text": [
      " 93%|█████████▎| 27998/30000 [09:35<00:39, 51.15it/s]"
     ]
    },
    {
     "name": "stdout",
     "output_type": "stream",
     "text": [
      "Saved checkpoint for step 28000: /home/mgaltier200/sgm/notebooks/../agents/thinned_fourrooms/1_FourRooms_coordinate_20steps-May-17-2021-09-07-42-PM/ckpt/ckpt-28\n",
      "INFO:tensorflow:step = 28000, loss = 2.551873\n",
      "INFO:tensorflow:56.299 steps/sec\n",
      "INFO:tensorflow:step = 28000\n",
      "INFO:tensorflow:\t set goal dist = 2\n",
      "INFO:tensorflow:\t\t AverageReturn (eval distance=2.000000) -3.00\n",
      "INFO:tensorflow:\t\t predicted_dist = 4.5 (1.7)\n",
      "INFO:tensorflow:\t set goal dist = 5\n",
      "INFO:tensorflow:\t\t AverageReturn (eval distance=5.000000) -10.60\n",
      "INFO:tensorflow:\t\t predicted_dist = 9.6 (2.3)\n",
      "INFO:tensorflow:\t set goal dist = 10\n",
      "INFO:tensorflow:\t\t AverageReturn (eval distance=10.000000) -20.00\n",
      "INFO:tensorflow:\t\t predicted_dist = 13.9 (1.4)\n",
      "INFO:tensorflow:\t eval_time = 2.06\n"
     ]
    },
    {
     "name": "stderr",
     "output_type": "stream",
     "text": [
      " 97%|█████████▋| 28998/30000 [09:56<00:18, 53.23it/s]"
     ]
    },
    {
     "name": "stdout",
     "output_type": "stream",
     "text": [
      "Saved checkpoint for step 29000: /home/mgaltier200/sgm/notebooks/../agents/thinned_fourrooms/1_FourRooms_coordinate_20steps-May-17-2021-09-07-42-PM/ckpt/ckpt-29\n",
      "INFO:tensorflow:step = 29000, loss = 2.536321\n",
      "INFO:tensorflow:57.074 steps/sec\n",
      "INFO:tensorflow:step = 29000\n",
      "INFO:tensorflow:\t set goal dist = 2\n",
      "INFO:tensorflow:\t\t AverageReturn (eval distance=2.000000) -2.70\n",
      "INFO:tensorflow:\t\t predicted_dist = 3.3 (1.4)\n",
      "INFO:tensorflow:\t set goal dist = 5\n",
      "INFO:tensorflow:\t\t AverageReturn (eval distance=5.000000) -10.80\n",
      "INFO:tensorflow:\t\t predicted_dist = 9.4 (1.4)\n",
      "INFO:tensorflow:\t set goal dist = 10\n",
      "INFO:tensorflow:\t\t AverageReturn (eval distance=10.000000) -19.40\n",
      "INFO:tensorflow:\t\t predicted_dist = 13.6 (2.5)\n",
      "INFO:tensorflow:\t eval_time = 2.45\n"
     ]
    },
    {
     "name": "stderr",
     "output_type": "stream",
     "text": [
      "100%|█████████▉| 29997/30000 [10:18<00:00, 51.94it/s]"
     ]
    },
    {
     "name": "stdout",
     "output_type": "stream",
     "text": [
      "Saved checkpoint for step 30000: /home/mgaltier200/sgm/notebooks/../agents/thinned_fourrooms/1_FourRooms_coordinate_20steps-May-17-2021-09-07-42-PM/ckpt/ckpt-30\n",
      "INFO:tensorflow:step = 30000, loss = 2.921121\n",
      "INFO:tensorflow:57.326 steps/sec\n",
      "INFO:tensorflow:step = 30000\n",
      "INFO:tensorflow:\t set goal dist = 2\n",
      "INFO:tensorflow:\t\t AverageReturn (eval distance=2.000000) -3.60\n",
      "INFO:tensorflow:\t\t predicted_dist = 3.7 (1.0)\n",
      "INFO:tensorflow:\t set goal dist = 5\n",
      "INFO:tensorflow:\t\t AverageReturn (eval distance=5.000000) -12.20\n",
      "INFO:tensorflow:\t\t predicted_dist = 9.2 (2.4)\n",
      "INFO:tensorflow:\t set goal dist = 10\n",
      "INFO:tensorflow:\t\t AverageReturn (eval distance=10.000000) -17.90\n",
      "INFO:tensorflow:\t\t predicted_dist = 15.6 (1.1)\n",
      "INFO:tensorflow:\t eval_time = 2.43\n"
     ]
    },
    {
     "name": "stderr",
     "output_type": "stream",
     "text": [
      "100%|██████████| 30000/30000 [10:20<00:00, 48.34it/s]\n"
     ]
    },
    {
     "data": {
      "image/png": "[encoded data removed]",
      "text/plain": [
       "<Figure size 432x432 with 1 Axes>"
      ]
     },
     "metadata": {},
     "output_type": "display_data"
    },
    {
     "data": {
      "image/png": "[encoded data removed]",
      "text/plain": [
       "<Figure size 432x216 with 1 Axes>"
      ]
     },
     "metadata": {
      "needs_background": "light"
     },
     "output_type": "display_data"
    },
    {
     "data": {
      "image/png": "[encoded data removed]",
      "text/plain": [
       "<Figure size 432x216 with 1 Axes>"
      ]
     },
     "metadata": {
      "needs_background": "light"
     },
     "output_type": "display_data"
    },
    {
     "name": "stdout",
     "output_type": "stream",
     "text": [
      "SoRB has initial success rate 0.40\n",
      "Evaluated initial SoRB success rate in 725.19 seconds\n",
      "After filtering and 0 cleanup steps, SoRB has success rate 0.50\n"
     ]
    }
   ],
   "source": [
    "generalized_difficulty(1)"
   ]
  },
  {
   "cell_type": "code",
   "execution_count": null,
   "id": "b3a13036",
   "metadata": {},
   "outputs": [],
   "source": []
  }
 ],
 "metadata": {
  "kernelspec": {
   "display_name": "Python 3",
   "language": "python",
   "name": "python3"
  },
  "language_info": {
   "codemirror_mode": {
    "name": "ipython",
    "version": 3
   },
   "file_extension": ".py",
   "mimetype": "text/x-python",
   "name": "python",
   "nbconvert_exporter": "python",
   "pygments_lexer": "ipython3",
   "version": "3.7.1"
  }
 },
 "nbformat": 4,
 "nbformat_minor": 5
}
