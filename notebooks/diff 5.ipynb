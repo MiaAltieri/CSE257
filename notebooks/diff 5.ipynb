{
 "cells": [
  {
   "cell_type": "code",
   "execution_count": 1,
   "id": "0763b17c",
   "metadata": {},
   "outputs": [],
   "source": [
    "# Reload modules whenever underlying code changes\n",
    "%load_ext autoreload\n",
    "%autoreload 2"
   ]
  },
  {
   "cell_type": "code",
   "execution_count": 2,
   "id": "010cef62",
   "metadata": {},
   "outputs": [
    {
     "name": "stderr",
     "output_type": "stream",
     "text": [
      "\n",
      "Bad key savefig.frameon in file /home/mgaltier200/anaconda3/lib/python3.7/site-packages/matplotlib/mpl-data/stylelib/_classic_test.mplstyle, line 421 ('savefig.frameon : True')\n",
      "You probably need to get an updated matplotlibrc file from\n",
      "https://github.com/matplotlib/matplotlib/blob/v3.4.2/matplotlibrc.template\n",
      "or from the matplotlib source distribution\n",
      "\n",
      "Bad key verbose.level in file /home/mgaltier200/anaconda3/lib/python3.7/site-packages/matplotlib/mpl-data/stylelib/_classic_test.mplstyle, line 472 ('verbose.level  : silent      # one of silent, helpful, debug, debug-annoying')\n",
      "You probably need to get an updated matplotlibrc file from\n",
      "https://github.com/matplotlib/matplotlib/blob/v3.4.2/matplotlibrc.template\n",
      "or from the matplotlib source distribution\n",
      "\n",
      "Bad key verbose.fileo in file /home/mgaltier200/anaconda3/lib/python3.7/site-packages/matplotlib/mpl-data/stylelib/_classic_test.mplstyle, line 473 ('verbose.fileo  : sys.stdout  # a log filename, sys.stdout or sys.stderr')\n",
      "You probably need to get an updated matplotlibrc file from\n",
      "https://github.com/matplotlib/matplotlib/blob/v3.4.2/matplotlibrc.template\n",
      "or from the matplotlib source distribution\n",
      "In /home/mgaltier200/anaconda3/lib/python3.7/site-packages/matplotlib/mpl-data/stylelib/_classic_test.mplstyle: \n",
      "The text.latex.preview rcparam was deprecated in Matplotlib 3.3 and will be removed two minor releases later.\n",
      "In /home/mgaltier200/anaconda3/lib/python3.7/site-packages/matplotlib/mpl-data/stylelib/_classic_test.mplstyle: \n",
      "The mathtext.fallback_to_cm rcparam was deprecated in Matplotlib 3.3 and will be removed two minor releases later.\n",
      "In /home/mgaltier200/anaconda3/lib/python3.7/site-packages/matplotlib/mpl-data/stylelib/_classic_test.mplstyle: Support for setting the 'mathtext.fallback_to_cm' rcParam is deprecated since 3.3 and will be removed two minor releases later; use 'mathtext.fallback : 'cm' instead.\n",
      "In /home/mgaltier200/anaconda3/lib/python3.7/site-packages/matplotlib/mpl-data/stylelib/_classic_test.mplstyle: \n",
      "The validate_bool_maybe_none function was deprecated in Matplotlib 3.3 and will be removed two minor releases later.\n",
      "In /home/mgaltier200/anaconda3/lib/python3.7/site-packages/matplotlib/mpl-data/stylelib/_classic_test.mplstyle: \n",
      "The savefig.jpeg_quality rcparam was deprecated in Matplotlib 3.3 and will be removed two minor releases later.\n",
      "In /home/mgaltier200/anaconda3/lib/python3.7/site-packages/matplotlib/mpl-data/stylelib/_classic_test.mplstyle: \n",
      "The keymap.all_axes rcparam was deprecated in Matplotlib 3.3 and will be removed two minor releases later.\n",
      "In /home/mgaltier200/anaconda3/lib/python3.7/site-packages/matplotlib/mpl-data/stylelib/_classic_test.mplstyle: \n",
      "The animation.avconv_path rcparam was deprecated in Matplotlib 3.3 and will be removed two minor releases later.\n",
      "In /home/mgaltier200/anaconda3/lib/python3.7/site-packages/matplotlib/mpl-data/stylelib/_classic_test.mplstyle: \n",
      "The animation.avconv_args rcparam was deprecated in Matplotlib 3.3 and will be removed two minor releases later.\n",
      "/home/mgaltier200/anaconda3/lib/python3.7/site-packages/dask/dataframe/utils.py:13: FutureWarning: pandas.util.testing is deprecated. Use the functions in the public API at pandas.testing instead.\n",
      "  import pandas.util.testing as tm\n"
     ]
    }
   ],
   "source": [
    "%matplotlib inline\n",
    "from sgm.dependencies import *"
   ]
  },
  {
   "cell_type": "code",
   "execution_count": 3,
   "id": "fe3d95ee",
   "metadata": {},
   "outputs": [],
   "source": [
    "from sgm.envs import env_load_fn\n",
    "from sgm.agent import UvfAgent\n",
    "from sgm.trainer import train_eval\n",
    "from sgm.envs import *\n",
    "from scipy.spatial import distance\n",
    "from sgm.evaluation import cleanup_and_eval\n",
    "from sgm.planner import SoRBSearchPolicy\n",
    "    \n",
    "def generalized_difficulty(resize_factor):\n",
    "    tf.reset_default_graph()\n",
    "\n",
    "    # If you change the environment parameters below, make sure to run\n",
    "    # tf.reset_default_graph() in the cell above before training.\n",
    "    max_episode_steps = 20\n",
    "    env_name = 'FourRooms'  # Choose one of the environments shown above. \n",
    "    resize_factor = resize_factor  # Inflate the environment to increase the difficulty.\n",
    "    thin = True # If True, resize by expanding open space, not walls, to make walls thin\n",
    "    desc_name = \"thinned_\" + env_name.lower() if thin else env_name.lower()\n",
    "\n",
    "    base_dir = os.path.join(os.getcwd(), os.pardir, \"agents\")\n",
    "    model_dir = os.path.join(base_dir, desc_name)\n",
    "\n",
    "    tf_env = env_load_fn(env_name, max_episode_steps,\n",
    "                         resize_factor=resize_factor,\n",
    "                         terminate_on_timeout=False,\n",
    "                         thin=thin)\n",
    "    eval_tf_env = env_load_fn(env_name, max_episode_steps,\n",
    "                              resize_factor=resize_factor,\n",
    "                              terminate_on_timeout=True,\n",
    "                              thin=thin)\n",
    "\n",
    "    agent = UvfAgent(\n",
    "        tf_env.time_step_spec(),\n",
    "        tf_env.action_spec(),\n",
    "        max_episode_steps=max_episode_steps,\n",
    "        use_distributional_rl=True,\n",
    "        ensemble_size=3)\n",
    "\n",
    "\n",
    "\n",
    "    train_eval(agent,\n",
    "              tf_env,\n",
    "              eval_tf_env,\n",
    "              initial_collect_steps=1000,\n",
    "              eval_interval=1000,\n",
    "              num_eval_episodes=10,\n",
    "              num_iterations=30000,\n",
    "              save_model_dir=model_dir,\n",
    "              experiment_name=f\"{resize_factor}_{env_name}_coordinate_{max_episode_steps}steps\")\n",
    "\n",
    "    filename = str(resize_factor)+\"_FourRooms_coordinate_20steps-Dec-05-2019-12-58-28-PM/ckpt/\"\n",
    "    checkpoint_file = os.path.join(model_dir, filename)\n",
    "\n",
    "    ckpt = tf.train.Checkpoint(step=tf.Variable(1), net=agent)\n",
    "    manager = tf.train.CheckpointManager(ckpt, checkpoint_file, max_to_keep=3)\n",
    "    ckpt.restore(manager.latest_checkpoint)\n",
    "\n",
    "    #@title Fill the replay buffer with random data  {vertical-output: true, run: \"auto\" }\n",
    "    replay_buffer_size = 2000 #@param {min:100, max: 1000, step: 100, type:\"slider\"}\n",
    "\n",
    "    eval_tf_env.pyenv.envs[0].gym.set_sample_goal_args(\n",
    "        prob_constraint=0.0,\n",
    "        min_dist=0,\n",
    "        max_dist=np.inf)\n",
    "    rb_vec = []\n",
    "    for it in range(replay_buffer_size):\n",
    "        ts = eval_tf_env.reset()\n",
    "        rb_vec.append(ts.observation['observation'].numpy()[0])\n",
    "    rb_vec = np.array(rb_vec)\n",
    "\n",
    "\n",
    "    plt.figure(figsize=(6, 6))\n",
    "    plt.scatter(*rb_vec.T)\n",
    "    plot_walls(eval_tf_env.pyenv.envs[0].env.walls)\n",
    "    plt.show()\n",
    "\n",
    "    pdist = agent._get_pairwise_dist(rb_vec, aggregate=None).numpy()\n",
    "\n",
    "    plt.figure(figsize=(6, 3))\n",
    "    plt.hist(pdist.flatten(), bins=range(20))\n",
    "    plt.xlabel('predicted distance')\n",
    "    plt.ylabel('number of (s, g) pairs')\n",
    "    plt.show()\n",
    "\n",
    "    euclidean_dists = distance.pdist(rb_vec)\n",
    "\n",
    "    plt.figure(figsize=(6, 3))\n",
    "    plt.hist(euclidean_dists.flatten())\n",
    "    plt.xlabel('Euclidean distance')\n",
    "    plt.ylabel('number of pairwise distances')\n",
    "    plt.show()\n",
    "\n",
    "    search_policy_type = \"SoRB\"\n",
    "    agent.initialize_search(rb_vec, max_search_steps=6)\n",
    "    search_policy = SoRBSearchPolicy(agent, pdist, rb_vec)\n",
    "\n",
    "\n",
    "    logdir = os.path.join(os.getcwd(), os.pardir, \"logs\")\n",
    "    eval_difficulty = 0.95\n",
    "    k_nearest = 5\n",
    "    eval_trials = 20\n",
    "    total_cleanup_steps = 50000\n",
    "    eval_period = 5000\n",
    "\n",
    "    logfolder = cleanup_and_eval(search_policy,\n",
    "                                 search_policy_type,\n",
    "                                 desc_name,\n",
    "                                 eval_tf_env,\n",
    "                                 logdir,\n",
    "                                 eval_difficulty=eval_difficulty,\n",
    "                                 k_nearest=k_nearest,\n",
    "                                 eval_trials=eval_trials,\n",
    "                                 total_cleanup_steps=total_cleanup_steps,\n",
    "                                 eval_period=eval_period)"
   ]
  },
  {
   "cell_type": "code",
   "execution_count": 4,
   "id": "185565f6",
   "metadata": {},
   "outputs": [
    {
     "name": "stderr",
     "output_type": "stream",
     "text": [
      "/home/mgaltier200/anaconda3/lib/python3.7/site-packages/gym/logger.py:30: UserWarning: \u001b[33mWARN: Box bound precision lowered by casting to float32\u001b[0m\n",
      "  warnings.warn(colorize('%s: %s'%('WARN', msg % args), 'yellow'))\n"
     ]
    },
    {
     "name": "stdout",
     "output_type": "stream",
     "text": [
      "WARNING:tensorflow:From /home/mgaltier200/anaconda3/lib/python3.7/site-packages/tf_agents/agents/ddpg/actor_network.py:101: The name tf.keras.initializers.RandomUniform is deprecated. Please use tf.compat.v1.keras.initializers.RandomUniform instead.\n",
      "\n",
      "INFO:tensorflow:random_seed = 0\n",
      "WARNING:tensorflow:From /home/mgaltier200/anaconda3/lib/python3.7/site-packages/tensorflow_core/python/ops/resource_variable_ops.py:1781: calling BaseResourceVariable.__init__ (from tensorflow.python.ops.resource_variable_ops) with constraint is deprecated and will be removed in a future version.\n",
      "Instructions for updating:\n",
      "If using Keras pass *_constraint arguments to layers.\n",
      "WARNING:tensorflow:From /home/mgaltier200/anaconda3/lib/python3.7/site-packages/tf_agents/replay_buffers/tf_uniform_replay_buffer.py:545: where (from tensorflow.python.ops.array_ops) is deprecated and will be removed in a future version.\n",
      "Instructions for updating:\n",
      "Use tf.where in 2.0, which has the same broadcast rule as np.where\n",
      "INFO:tensorflow:Saving checkpoints to directory /home/mgaltier200/sgm/notebooks/../agents/thinned_fourrooms/5_FourRooms_coordinate_20steps-May-17-2021-09-08-52-PM/ckpt\n",
      "INFO:tensorflow:Creating tensorboard summary writer with directory /home/mgaltier200/sgm/notebooks/../agents/thinned_fourrooms/5_FourRooms_coordinate_20steps-May-17-2021-09-08-52-PM\n",
      "WARNING:tensorflow:\n",
      "The TensorFlow contrib module will not be included in TensorFlow 2.0.\n",
      "For more information, please see:\n",
      "  * https://github.com/tensorflow/community/blob/master/rfcs/20180907-contrib-sunset.md\n",
      "  * https://github.com/tensorflow/addons\n",
      "  * https://github.com/tensorflow/io (for I/O related ops)\n",
      "If you depend on functionality not listed there, please file an issue.\n",
      "\n"
     ]
    },
    {
     "name": "stderr",
     "output_type": "stream",
     "text": [
      "  3%|▎         | 995/30000 [00:20<08:25, 57.36it/s] "
     ]
    },
    {
     "name": "stdout",
     "output_type": "stream",
     "text": [
      "Saved checkpoint for step 1000: /home/mgaltier200/sgm/notebooks/../agents/thinned_fourrooms/5_FourRooms_coordinate_20steps-May-17-2021-09-08-52-PM/ckpt/ckpt-1\n",
      "INFO:tensorflow:step = 1000, loss = 2.215829\n",
      "INFO:tensorflow:52.915 steps/sec\n",
      "INFO:tensorflow:step = 1000\n",
      "INFO:tensorflow:\t set goal dist = 2\n",
      "INFO:tensorflow:\t\t AverageReturn (eval distance=2.000000) -18.30\n",
      "INFO:tensorflow:\t\t predicted_dist = 15.9 (0.5)\n",
      "INFO:tensorflow:\t set goal dist = 5\n",
      "INFO:tensorflow:\t\t AverageReturn (eval distance=5.000000) -18.70\n",
      "INFO:tensorflow:\t\t predicted_dist = 15.7 (0.8)\n",
      "INFO:tensorflow:\t set goal dist = 10\n",
      "INFO:tensorflow:\t\t AverageReturn (eval distance=10.000000) -19.40\n",
      "INFO:tensorflow:\t\t predicted_dist = 16.2 (0.3)\n",
      "INFO:tensorflow:\t eval_time = 3.86\n"
     ]
    },
    {
     "name": "stderr",
     "output_type": "stream",
     "text": [
      "  7%|▋         | 1996/30000 [00:41<08:31, 54.73it/s]  "
     ]
    },
    {
     "name": "stdout",
     "output_type": "stream",
     "text": [
      "Saved checkpoint for step 2000: /home/mgaltier200/sgm/notebooks/../agents/thinned_fourrooms/5_FourRooms_coordinate_20steps-May-17-2021-09-08-52-PM/ckpt/ckpt-2\n",
      "INFO:tensorflow:step = 2000, loss = 1.052865\n",
      "INFO:tensorflow:62.657 steps/sec\n",
      "INFO:tensorflow:step = 2000\n",
      "INFO:tensorflow:\t set goal dist = 2\n",
      "INFO:tensorflow:\t\t AverageReturn (eval distance=2.000000) -14.70\n",
      "INFO:tensorflow:\t\t predicted_dist = 17.9 (0.6)\n",
      "INFO:tensorflow:\t set goal dist = 5\n",
      "INFO:tensorflow:\t\t AverageReturn (eval distance=5.000000) -20.00\n",
      "INFO:tensorflow:\t\t predicted_dist = 17.8 (0.9)\n",
      "INFO:tensorflow:\t set goal dist = 10\n",
      "INFO:tensorflow:\t\t AverageReturn (eval distance=10.000000) -19.70\n",
      "INFO:tensorflow:\t\t predicted_dist = 18.8 (0.4)\n",
      "INFO:tensorflow:\t eval_time = 2.86\n"
     ]
    },
    {
     "name": "stderr",
     "output_type": "stream",
     "text": [
      " 10%|▉         | 2999/30000 [01:01<09:00, 50.00it/s]  "
     ]
    },
    {
     "name": "stdout",
     "output_type": "stream",
     "text": [
      "Saved checkpoint for step 3000: /home/mgaltier200/sgm/notebooks/../agents/thinned_fourrooms/5_FourRooms_coordinate_20steps-May-17-2021-09-08-52-PM/ckpt/ckpt-3\n",
      "INFO:tensorflow:step = 3000, loss = 1.056860\n",
      "INFO:tensorflow:61.693 steps/sec\n",
      "INFO:tensorflow:step = 3000\n",
      "INFO:tensorflow:\t set goal dist = 2\n",
      "INFO:tensorflow:\t\t AverageReturn (eval distance=2.000000) -14.90\n",
      "INFO:tensorflow:\t\t predicted_dist = 16.1 (0.4)\n",
      "INFO:tensorflow:\t set goal dist = 5\n",
      "INFO:tensorflow:\t\t AverageReturn (eval distance=5.000000) -19.40\n",
      "INFO:tensorflow:\t\t predicted_dist = 16.7 (1.5)\n",
      "INFO:tensorflow:\t set goal dist = 10\n",
      "INFO:tensorflow:\t\t AverageReturn (eval distance=10.000000) -20.00\n",
      "INFO:tensorflow:\t\t predicted_dist = 17.9 (1.0)\n",
      "INFO:tensorflow:\t eval_time = 3.15\n"
     ]
    },
    {
     "name": "stderr",
     "output_type": "stream",
     "text": [
      " 13%|█▎        | 3999/30000 [01:22<08:17, 52.25it/s]  "
     ]
    },
    {
     "name": "stdout",
     "output_type": "stream",
     "text": [
      "Saved checkpoint for step 4000: /home/mgaltier200/sgm/notebooks/../agents/thinned_fourrooms/5_FourRooms_coordinate_20steps-May-17-2021-09-08-52-PM/ckpt/ckpt-4\n",
      "INFO:tensorflow:step = 4000, loss = 1.256776\n",
      "INFO:tensorflow:62.659 steps/sec\n",
      "INFO:tensorflow:step = 4000\n",
      "INFO:tensorflow:\t set goal dist = 2\n",
      "INFO:tensorflow:\t\t AverageReturn (eval distance=2.000000) -14.80\n",
      "INFO:tensorflow:\t\t predicted_dist = 16.7 (0.4)\n",
      "INFO:tensorflow:\t set goal dist = 5\n",
      "INFO:tensorflow:\t\t AverageReturn (eval distance=5.000000) -17.40\n",
      "INFO:tensorflow:\t\t predicted_dist = 17.1 (0.9)\n",
      "INFO:tensorflow:\t set goal dist = 10\n",
      "INFO:tensorflow:\t\t AverageReturn (eval distance=10.000000) -20.00\n",
      "INFO:tensorflow:\t\t predicted_dist = 18.1 (0.5)\n",
      "INFO:tensorflow:\t eval_time = 2.84\n"
     ]
    },
    {
     "name": "stderr",
     "output_type": "stream",
     "text": [
      " 17%|█▋        | 4993/30000 [01:42<06:53, 60.43it/s]  "
     ]
    },
    {
     "name": "stdout",
     "output_type": "stream",
     "text": [
      "Saved checkpoint for step 5000: /home/mgaltier200/sgm/notebooks/../agents/thinned_fourrooms/5_FourRooms_coordinate_20steps-May-17-2021-09-08-52-PM/ckpt/ckpt-5\n",
      "INFO:tensorflow:step = 5000, loss = 1.434889\n",
      "INFO:tensorflow:60.642 steps/sec\n",
      "INFO:tensorflow:step = 5000\n",
      "INFO:tensorflow:\t set goal dist = 2\n",
      "INFO:tensorflow:\t\t AverageReturn (eval distance=2.000000) -12.50\n",
      "INFO:tensorflow:\t\t predicted_dist = 13.6 (1.7)\n",
      "INFO:tensorflow:\t set goal dist = 5\n",
      "INFO:tensorflow:\t\t AverageReturn (eval distance=5.000000) -17.90\n",
      "INFO:tensorflow:\t\t predicted_dist = 16.1 (1.2)\n",
      "INFO:tensorflow:\t set goal dist = 10\n",
      "INFO:tensorflow:\t\t AverageReturn (eval distance=10.000000) -20.00\n",
      "INFO:tensorflow:\t\t predicted_dist = 16.9 (1.3)\n",
      "INFO:tensorflow:\t eval_time = 2.64\n"
     ]
    },
    {
     "name": "stderr",
     "output_type": "stream",
     "text": [
      " 20%|█▉        | 5996/30000 [02:03<06:55, 57.73it/s]"
     ]
    },
    {
     "name": "stdout",
     "output_type": "stream",
     "text": [
      "Saved checkpoint for step 6000: /home/mgaltier200/sgm/notebooks/../agents/thinned_fourrooms/5_FourRooms_coordinate_20steps-May-17-2021-09-08-52-PM/ckpt/ckpt-6\n",
      "INFO:tensorflow:step = 6000, loss = 1.640416\n",
      "INFO:tensorflow:61.819 steps/sec\n",
      "INFO:tensorflow:step = 6000\n",
      "INFO:tensorflow:\t set goal dist = 2\n",
      "INFO:tensorflow:\t\t AverageReturn (eval distance=2.000000) -14.70\n",
      "INFO:tensorflow:\t\t predicted_dist = 16.4 (1.0)\n",
      "INFO:tensorflow:\t set goal dist = 5\n",
      "INFO:tensorflow:\t\t AverageReturn (eval distance=5.000000) -20.00\n",
      "INFO:tensorflow:\t\t predicted_dist = 17.5 (1.0)\n",
      "INFO:tensorflow:\t set goal dist = 10\n",
      "INFO:tensorflow:\t\t AverageReturn (eval distance=10.000000) -17.90\n",
      "INFO:tensorflow:\t\t predicted_dist = 18.0 (0.7)\n",
      "INFO:tensorflow:\t eval_time = 2.87\n"
     ]
    },
    {
     "name": "stderr",
     "output_type": "stream",
     "text": [
      " 23%|██▎       | 6995/30000 [02:24<06:54, 55.50it/s]  "
     ]
    },
    {
     "name": "stdout",
     "output_type": "stream",
     "text": [
      "Saved checkpoint for step 7000: /home/mgaltier200/sgm/notebooks/../agents/thinned_fourrooms/5_FourRooms_coordinate_20steps-May-17-2021-09-08-52-PM/ckpt/ckpt-7\n",
      "INFO:tensorflow:step = 7000, loss = 1.161751\n",
      "INFO:tensorflow:60.771 steps/sec\n",
      "INFO:tensorflow:step = 7000\n",
      "INFO:tensorflow:\t set goal dist = 2\n",
      "INFO:tensorflow:\t\t AverageReturn (eval distance=2.000000) -12.30\n",
      "INFO:tensorflow:\t\t predicted_dist = 13.9 (2.0)\n",
      "INFO:tensorflow:\t set goal dist = 5\n",
      "INFO:tensorflow:\t\t AverageReturn (eval distance=5.000000) -18.50\n",
      "INFO:tensorflow:\t\t predicted_dist = 17.4 (0.8)\n",
      "INFO:tensorflow:\t set goal dist = 10\n",
      "INFO:tensorflow:\t\t AverageReturn (eval distance=10.000000) -19.00\n",
      "INFO:tensorflow:\t\t predicted_dist = 18.2 (0.4)\n",
      "INFO:tensorflow:\t eval_time = 3.04\n"
     ]
    },
    {
     "name": "stderr",
     "output_type": "stream",
     "text": [
      " 27%|██▋       | 7997/30000 [02:44<06:21, 57.74it/s]  "
     ]
    },
    {
     "name": "stdout",
     "output_type": "stream",
     "text": [
      "Saved checkpoint for step 8000: /home/mgaltier200/sgm/notebooks/../agents/thinned_fourrooms/5_FourRooms_coordinate_20steps-May-17-2021-09-08-52-PM/ckpt/ckpt-8\n",
      "INFO:tensorflow:step = 8000, loss = 1.467005\n",
      "INFO:tensorflow:61.336 steps/sec\n",
      "INFO:tensorflow:step = 8000\n",
      "INFO:tensorflow:\t set goal dist = 2\n",
      "INFO:tensorflow:\t\t AverageReturn (eval distance=2.000000) -12.10\n",
      "INFO:tensorflow:\t\t predicted_dist = 15.7 (0.9)\n",
      "INFO:tensorflow:\t set goal dist = 5\n",
      "INFO:tensorflow:\t\t AverageReturn (eval distance=5.000000) -18.40\n",
      "INFO:tensorflow:\t\t predicted_dist = 16.6 (0.7)\n",
      "INFO:tensorflow:\t set goal dist = 10\n",
      "INFO:tensorflow:\t\t AverageReturn (eval distance=10.000000) -19.90\n",
      "INFO:tensorflow:\t\t predicted_dist = 17.7 (0.5)\n",
      "INFO:tensorflow:\t eval_time = 2.89\n"
     ]
    },
    {
     "name": "stderr",
     "output_type": "stream",
     "text": [
      " 30%|██▉       | 8998/30000 [03:05<06:05, 57.38it/s]"
     ]
    },
    {
     "name": "stdout",
     "output_type": "stream",
     "text": [
      "Saved checkpoint for step 9000: /home/mgaltier200/sgm/notebooks/../agents/thinned_fourrooms/5_FourRooms_coordinate_20steps-May-17-2021-09-08-52-PM/ckpt/ckpt-9\n",
      "INFO:tensorflow:step = 9000, loss = 1.406763\n",
      "INFO:tensorflow:60.895 steps/sec\n",
      "INFO:tensorflow:step = 9000\n",
      "INFO:tensorflow:\t set goal dist = 2\n",
      "INFO:tensorflow:\t\t AverageReturn (eval distance=2.000000) -16.70\n",
      "INFO:tensorflow:\t\t predicted_dist = 14.3 (2.6)\n",
      "INFO:tensorflow:\t set goal dist = 5\n",
      "INFO:tensorflow:\t\t AverageReturn (eval distance=5.000000) -16.90\n",
      "INFO:tensorflow:\t\t predicted_dist = 17.3 (1.1)\n",
      "INFO:tensorflow:\t set goal dist = 10\n",
      "INFO:tensorflow:\t\t AverageReturn (eval distance=10.000000) -19.30\n",
      "INFO:tensorflow:\t\t predicted_dist = 17.5 (1.1)\n",
      "INFO:tensorflow:\t eval_time = 3.12\n"
     ]
    },
    {
     "name": "stderr",
     "output_type": "stream",
     "text": [
      " 33%|███▎      | 9995/30000 [03:25<05:18, 62.76it/s]"
     ]
    },
    {
     "name": "stdout",
     "output_type": "stream",
     "text": [
      "Saved checkpoint for step 10000: /home/mgaltier200/sgm/notebooks/../agents/thinned_fourrooms/5_FourRooms_coordinate_20steps-May-17-2021-09-08-52-PM/ckpt/ckpt-10\n",
      "INFO:tensorflow:step = 10000, loss = 1.398670\n",
      "INFO:tensorflow:62.275 steps/sec\n",
      "INFO:tensorflow:step = 10000\n",
      "INFO:tensorflow:\t set goal dist = 2\n",
      "INFO:tensorflow:\t\t AverageReturn (eval distance=2.000000) -15.80\n",
      "INFO:tensorflow:\t\t predicted_dist = 16.3 (0.6)\n",
      "INFO:tensorflow:\t set goal dist = 5\n",
      "INFO:tensorflow:\t\t AverageReturn (eval distance=5.000000) -16.70\n",
      "INFO:tensorflow:\t\t predicted_dist = 17.3 (0.7)\n",
      "INFO:tensorflow:\t set goal dist = 10\n",
      "INFO:tensorflow:\t\t AverageReturn (eval distance=10.000000) -20.00\n",
      "INFO:tensorflow:\t\t predicted_dist = 18.1 (0.4)\n",
      "INFO:tensorflow:\t eval_time = 2.91\n"
     ]
    },
    {
     "name": "stderr",
     "output_type": "stream",
     "text": [
      " 37%|███▋      | 10998/30000 [03:47<06:12, 50.96it/s]"
     ]
    },
    {
     "name": "stdout",
     "output_type": "stream",
     "text": [
      "Saved checkpoint for step 11000: /home/mgaltier200/sgm/notebooks/../agents/thinned_fourrooms/5_FourRooms_coordinate_20steps-May-17-2021-09-08-52-PM/ckpt/ckpt-11\n",
      "INFO:tensorflow:step = 11000, loss = 1.333713\n",
      "INFO:tensorflow:59.398 steps/sec\n",
      "INFO:tensorflow:step = 11000\n",
      "INFO:tensorflow:\t set goal dist = 2\n",
      "INFO:tensorflow:\t\t AverageReturn (eval distance=2.000000) -14.70\n",
      "INFO:tensorflow:\t\t predicted_dist = 14.5 (1.9)\n",
      "INFO:tensorflow:\t set goal dist = 5\n",
      "INFO:tensorflow:\t\t AverageReturn (eval distance=5.000000) -16.70\n",
      "INFO:tensorflow:\t\t predicted_dist = 16.8 (1.0)\n",
      "INFO:tensorflow:\t set goal dist = 10\n",
      "INFO:tensorflow:\t\t AverageReturn (eval distance=10.000000) -18.70\n",
      "INFO:tensorflow:\t\t predicted_dist = 18.1 (0.8)\n",
      "INFO:tensorflow:\t eval_time = 3.09\n"
     ]
    },
    {
     "name": "stderr",
     "output_type": "stream",
     "text": [
      " 40%|███▉      | 11997/30000 [04:08<05:19, 56.40it/s]"
     ]
    },
    {
     "name": "stdout",
     "output_type": "stream",
     "text": [
      "Saved checkpoint for step 12000: /home/mgaltier200/sgm/notebooks/../agents/thinned_fourrooms/5_FourRooms_coordinate_20steps-May-17-2021-09-08-52-PM/ckpt/ckpt-12\n",
      "INFO:tensorflow:step = 12000, loss = 1.749749\n",
      "INFO:tensorflow:58.394 steps/sec\n",
      "INFO:tensorflow:step = 12000\n",
      "INFO:tensorflow:\t set goal dist = 2\n",
      "INFO:tensorflow:\t\t AverageReturn (eval distance=2.000000) -8.20\n",
      "INFO:tensorflow:\t\t predicted_dist = 12.8 (2.8)\n",
      "INFO:tensorflow:\t set goal dist = 5\n",
      "INFO:tensorflow:\t\t AverageReturn (eval distance=5.000000) -16.00\n",
      "INFO:tensorflow:\t\t predicted_dist = 15.5 (1.0)\n",
      "INFO:tensorflow:\t set goal dist = 10\n",
      "INFO:tensorflow:\t\t AverageReturn (eval distance=10.000000) -18.40\n",
      "INFO:tensorflow:\t\t predicted_dist = 16.3 (1.2)\n",
      "INFO:tensorflow:\t eval_time = 2.91\n"
     ]
    },
    {
     "name": "stderr",
     "output_type": "stream",
     "text": [
      " 43%|████▎     | 12999/30000 [04:30<06:03, 46.73it/s]"
     ]
    },
    {
     "name": "stdout",
     "output_type": "stream",
     "text": [
      "Saved checkpoint for step 13000: /home/mgaltier200/sgm/notebooks/../agents/thinned_fourrooms/5_FourRooms_coordinate_20steps-May-17-2021-09-08-52-PM/ckpt/ckpt-13\n",
      "INFO:tensorflow:step = 13000, loss = 2.200151\n",
      "INFO:tensorflow:57.811 steps/sec\n",
      "INFO:tensorflow:step = 13000\n",
      "INFO:tensorflow:\t set goal dist = 2\n",
      "INFO:tensorflow:\t\t AverageReturn (eval distance=2.000000) -12.60\n",
      "INFO:tensorflow:\t\t predicted_dist = 12.2 (1.8)\n",
      "INFO:tensorflow:\t set goal dist = 5\n",
      "INFO:tensorflow:\t\t AverageReturn (eval distance=5.000000) -15.00\n",
      "INFO:tensorflow:\t\t predicted_dist = 14.0 (1.9)\n",
      "INFO:tensorflow:\t set goal dist = 10\n",
      "INFO:tensorflow:\t\t AverageReturn (eval distance=10.000000) -17.60\n",
      "INFO:tensorflow:\t\t predicted_dist = 16.7 (0.9)\n",
      "INFO:tensorflow:\t eval_time = 3.05\n"
     ]
    },
    {
     "name": "stderr",
     "output_type": "stream",
     "text": [
      " 47%|████▋     | 13996/30000 [04:52<04:41, 56.94it/s]"
     ]
    },
    {
     "name": "stdout",
     "output_type": "stream",
     "text": [
      "Saved checkpoint for step 14000: /home/mgaltier200/sgm/notebooks/../agents/thinned_fourrooms/5_FourRooms_coordinate_20steps-May-17-2021-09-08-52-PM/ckpt/ckpt-14\n",
      "INFO:tensorflow:step = 14000, loss = 2.358073\n",
      "INFO:tensorflow:58.073 steps/sec\n",
      "INFO:tensorflow:step = 14000\n",
      "INFO:tensorflow:\t set goal dist = 2\n",
      "INFO:tensorflow:\t\t AverageReturn (eval distance=2.000000) -11.80\n",
      "INFO:tensorflow:\t\t predicted_dist = 11.1 (1.0)\n",
      "INFO:tensorflow:\t set goal dist = 5\n",
      "INFO:tensorflow:\t\t AverageReturn (eval distance=5.000000) -15.40\n",
      "INFO:tensorflow:\t\t predicted_dist = 13.9 (1.5)\n",
      "INFO:tensorflow:\t set goal dist = 10\n",
      "INFO:tensorflow:\t\t AverageReturn (eval distance=10.000000) -18.60\n",
      "INFO:tensorflow:\t\t predicted_dist = 15.2 (1.0)\n",
      "INFO:tensorflow:\t eval_time = 3.01\n"
     ]
    },
    {
     "name": "stderr",
     "output_type": "stream",
     "text": [
      " 50%|████▉     | 14995/30000 [05:14<05:03, 49.47it/s]"
     ]
    },
    {
     "name": "stdout",
     "output_type": "stream",
     "text": [
      "Saved checkpoint for step 15000: /home/mgaltier200/sgm/notebooks/../agents/thinned_fourrooms/5_FourRooms_coordinate_20steps-May-17-2021-09-08-52-PM/ckpt/ckpt-15\n",
      "INFO:tensorflow:step = 15000, loss = 2.699140\n",
      "INFO:tensorflow:57.958 steps/sec\n",
      "INFO:tensorflow:step = 15000\n",
      "INFO:tensorflow:\t set goal dist = 2\n",
      "INFO:tensorflow:\t\t AverageReturn (eval distance=2.000000) -16.40\n",
      "INFO:tensorflow:\t\t predicted_dist = 11.1 (1.7)\n",
      "INFO:tensorflow:\t set goal dist = 5\n",
      "INFO:tensorflow:\t\t AverageReturn (eval distance=5.000000) -14.40\n",
      "INFO:tensorflow:\t\t predicted_dist = 13.1 (1.1)\n",
      "INFO:tensorflow:\t set goal dist = 10\n",
      "INFO:tensorflow:\t\t AverageReturn (eval distance=10.000000) -17.10\n",
      "INFO:tensorflow:\t\t predicted_dist = 14.5 (0.6)\n",
      "INFO:tensorflow:\t eval_time = 2.78\n"
     ]
    },
    {
     "name": "stderr",
     "output_type": "stream",
     "text": [
      " 53%|█████▎    | 15995/30000 [05:35<03:59, 58.44it/s]"
     ]
    },
    {
     "name": "stdout",
     "output_type": "stream",
     "text": [
      "Saved checkpoint for step 16000: /home/mgaltier200/sgm/notebooks/../agents/thinned_fourrooms/5_FourRooms_coordinate_20steps-May-17-2021-09-08-52-PM/ckpt/ckpt-16\n",
      "INFO:tensorflow:step = 16000, loss = 2.374706\n",
      "INFO:tensorflow:59.440 steps/sec\n",
      "INFO:tensorflow:step = 16000\n",
      "INFO:tensorflow:\t set goal dist = 2\n",
      "INFO:tensorflow:\t\t AverageReturn (eval distance=2.000000) -4.80\n",
      "INFO:tensorflow:\t\t predicted_dist = 11.5 (2.1)\n",
      "INFO:tensorflow:\t set goal dist = 5\n",
      "INFO:tensorflow:\t\t AverageReturn (eval distance=5.000000) -12.60\n",
      "INFO:tensorflow:\t\t predicted_dist = 13.5 (0.9)\n",
      "INFO:tensorflow:\t set goal dist = 10\n",
      "INFO:tensorflow:\t\t AverageReturn (eval distance=10.000000) -18.30\n",
      "INFO:tensorflow:\t\t predicted_dist = 14.7 (1.1)\n",
      "INFO:tensorflow:\t eval_time = 2.61\n"
     ]
    },
    {
     "name": "stderr",
     "output_type": "stream",
     "text": [
      " 57%|█████▋    | 16995/30000 [05:56<04:13, 51.38it/s]"
     ]
    },
    {
     "name": "stdout",
     "output_type": "stream",
     "text": [
      "Saved checkpoint for step 17000: /home/mgaltier200/sgm/notebooks/../agents/thinned_fourrooms/5_FourRooms_coordinate_20steps-May-17-2021-09-08-52-PM/ckpt/ckpt-17\n",
      "INFO:tensorflow:step = 17000, loss = 2.643093\n",
      "INFO:tensorflow:58.525 steps/sec\n",
      "INFO:tensorflow:step = 17000\n",
      "INFO:tensorflow:\t set goal dist = 2\n",
      "INFO:tensorflow:\t\t AverageReturn (eval distance=2.000000) -7.50\n",
      "INFO:tensorflow:\t\t predicted_dist = 8.5 (3.1)\n",
      "INFO:tensorflow:\t set goal dist = 5\n",
      "INFO:tensorflow:\t\t AverageReturn (eval distance=5.000000) -11.50\n",
      "INFO:tensorflow:\t\t predicted_dist = 13.1 (1.2)\n",
      "INFO:tensorflow:\t set goal dist = 10\n",
      "INFO:tensorflow:\t\t AverageReturn (eval distance=10.000000) -16.90\n",
      "INFO:tensorflow:\t\t predicted_dist = 15.2 (0.9)\n",
      "INFO:tensorflow:\t eval_time = 2.49\n"
     ]
    },
    {
     "name": "stderr",
     "output_type": "stream",
     "text": [
      " 60%|█████▉    | 17997/30000 [06:17<03:33, 56.29it/s]"
     ]
    },
    {
     "name": "stdout",
     "output_type": "stream",
     "text": [
      "Saved checkpoint for step 18000: /home/mgaltier200/sgm/notebooks/../agents/thinned_fourrooms/5_FourRooms_coordinate_20steps-May-17-2021-09-08-52-PM/ckpt/ckpt-18\n",
      "INFO:tensorflow:step = 18000, loss = 2.580304\n",
      "INFO:tensorflow:58.758 steps/sec\n",
      "INFO:tensorflow:step = 18000\n",
      "INFO:tensorflow:\t set goal dist = 2\n",
      "INFO:tensorflow:\t\t AverageReturn (eval distance=2.000000) -3.20\n",
      "INFO:tensorflow:\t\t predicted_dist = 7.4 (1.9)\n",
      "INFO:tensorflow:\t set goal dist = 5\n",
      "INFO:tensorflow:\t\t AverageReturn (eval distance=5.000000) -12.30\n",
      "INFO:tensorflow:\t\t predicted_dist = 11.7 (1.7)\n",
      "INFO:tensorflow:\t set goal dist = 10\n",
      "INFO:tensorflow:\t\t AverageReturn (eval distance=10.000000) -17.30\n",
      "INFO:tensorflow:\t\t predicted_dist = 13.5 (0.9)\n",
      "INFO:tensorflow:\t eval_time = 2.49\n"
     ]
    },
    {
     "name": "stderr",
     "output_type": "stream",
     "text": [
      " 63%|██████▎   | 18995/30000 [06:39<03:10, 57.66it/s]"
     ]
    },
    {
     "name": "stdout",
     "output_type": "stream",
     "text": [
      "Saved checkpoint for step 19000: /home/mgaltier200/sgm/notebooks/../agents/thinned_fourrooms/5_FourRooms_coordinate_20steps-May-17-2021-09-08-52-PM/ckpt/ckpt-19\n",
      "INFO:tensorflow:step = 19000, loss = 2.565112\n",
      "INFO:tensorflow:58.497 steps/sec\n",
      "INFO:tensorflow:step = 19000\n",
      "INFO:tensorflow:\t set goal dist = 2\n",
      "INFO:tensorflow:\t\t AverageReturn (eval distance=2.000000) -4.50\n",
      "INFO:tensorflow:\t\t predicted_dist = 8.1 (1.3)\n",
      "INFO:tensorflow:\t set goal dist = 5\n",
      "INFO:tensorflow:\t\t AverageReturn (eval distance=5.000000) -10.30\n",
      "INFO:tensorflow:\t\t predicted_dist = 10.7 (0.8)\n",
      "INFO:tensorflow:\t set goal dist = 10\n",
      "INFO:tensorflow:\t\t AverageReturn (eval distance=10.000000) -16.30\n",
      "INFO:tensorflow:\t\t predicted_dist = 13.6 (1.0)\n",
      "INFO:tensorflow:\t eval_time = 2.41\n"
     ]
    },
    {
     "name": "stderr",
     "output_type": "stream",
     "text": [
      " 67%|██████▋   | 19998/30000 [07:00<02:36, 63.99it/s]"
     ]
    },
    {
     "name": "stdout",
     "output_type": "stream",
     "text": [
      "Saved checkpoint for step 20000: /home/mgaltier200/sgm/notebooks/../agents/thinned_fourrooms/5_FourRooms_coordinate_20steps-May-17-2021-09-08-52-PM/ckpt/ckpt-20\n",
      "INFO:tensorflow:step = 20000, loss = 2.430877\n",
      "INFO:tensorflow:57.666 steps/sec\n",
      "INFO:tensorflow:step = 20000\n",
      "INFO:tensorflow:\t set goal dist = 2\n",
      "INFO:tensorflow:\t\t AverageReturn (eval distance=2.000000) -4.80\n",
      "INFO:tensorflow:\t\t predicted_dist = 7.8 (1.9)\n",
      "INFO:tensorflow:\t set goal dist = 5\n",
      "INFO:tensorflow:\t\t AverageReturn (eval distance=5.000000) -12.10\n",
      "INFO:tensorflow:\t\t predicted_dist = 10.9 (1.1)\n",
      "INFO:tensorflow:\t set goal dist = 10\n",
      "INFO:tensorflow:\t\t AverageReturn (eval distance=10.000000) -16.90\n",
      "INFO:tensorflow:\t\t predicted_dist = 12.6 (1.0)\n",
      "INFO:tensorflow:\t eval_time = 2.33\n"
     ]
    },
    {
     "name": "stderr",
     "output_type": "stream",
     "text": [
      " 70%|██████▉   | 20994/30000 [07:21<02:13, 67.70it/s]"
     ]
    },
    {
     "name": "stdout",
     "output_type": "stream",
     "text": [
      "Saved checkpoint for step 21000: /home/mgaltier200/sgm/notebooks/../agents/thinned_fourrooms/5_FourRooms_coordinate_20steps-May-17-2021-09-08-52-PM/ckpt/ckpt-21\n",
      "INFO:tensorflow:step = 21000, loss = 2.960889\n",
      "INFO:tensorflow:58.072 steps/sec\n",
      "INFO:tensorflow:step = 21000\n",
      "INFO:tensorflow:\t set goal dist = 2\n",
      "INFO:tensorflow:\t\t AverageReturn (eval distance=2.000000) -3.90\n",
      "INFO:tensorflow:\t\t predicted_dist = 7.2 (1.5)\n",
      "INFO:tensorflow:\t set goal dist = 5\n",
      "INFO:tensorflow:\t\t AverageReturn (eval distance=5.000000) -7.60\n",
      "INFO:tensorflow:\t\t predicted_dist = 9.2 (1.0)\n",
      "INFO:tensorflow:\t set goal dist = 10\n",
      "INFO:tensorflow:\t\t AverageReturn (eval distance=10.000000) -15.20\n",
      "INFO:tensorflow:\t\t predicted_dist = 12.5 (0.9)\n",
      "INFO:tensorflow:\t eval_time = 2.03\n"
     ]
    },
    {
     "name": "stderr",
     "output_type": "stream",
     "text": [
      " 73%|███████▎  | 21996/30000 [07:42<02:08, 62.12it/s]"
     ]
    },
    {
     "name": "stdout",
     "output_type": "stream",
     "text": [
      "Saved checkpoint for step 22000: /home/mgaltier200/sgm/notebooks/../agents/thinned_fourrooms/5_FourRooms_coordinate_20steps-May-17-2021-09-08-52-PM/ckpt/ckpt-22\n",
      "INFO:tensorflow:step = 22000, loss = 2.691512\n",
      "INFO:tensorflow:56.601 steps/sec\n",
      "INFO:tensorflow:step = 22000\n",
      "INFO:tensorflow:\t set goal dist = 2\n",
      "INFO:tensorflow:\t\t AverageReturn (eval distance=2.000000) -3.80\n",
      "INFO:tensorflow:\t\t predicted_dist = 7.7 (0.8)\n",
      "INFO:tensorflow:\t set goal dist = 5\n",
      "INFO:tensorflow:\t\t AverageReturn (eval distance=5.000000) -7.00\n",
      "INFO:tensorflow:\t\t predicted_dist = 10.6 (0.9)\n",
      "INFO:tensorflow:\t set goal dist = 10\n",
      "INFO:tensorflow:\t\t AverageReturn (eval distance=10.000000) -17.30\n",
      "INFO:tensorflow:\t\t predicted_dist = 11.4 (1.2)\n",
      "INFO:tensorflow:\t eval_time = 2.45\n"
     ]
    },
    {
     "name": "stderr",
     "output_type": "stream",
     "text": [
      " 77%|███████▋  | 22997/30000 [08:04<01:52, 62.21it/s]"
     ]
    },
    {
     "name": "stdout",
     "output_type": "stream",
     "text": [
      "Saved checkpoint for step 23000: /home/mgaltier200/sgm/notebooks/../agents/thinned_fourrooms/5_FourRooms_coordinate_20steps-May-17-2021-09-08-52-PM/ckpt/ckpt-23\n",
      "INFO:tensorflow:step = 23000, loss = 3.015880\n",
      "INFO:tensorflow:56.762 steps/sec\n",
      "INFO:tensorflow:step = 23000\n",
      "INFO:tensorflow:\t set goal dist = 2\n",
      "INFO:tensorflow:\t\t AverageReturn (eval distance=2.000000) -4.50\n",
      "INFO:tensorflow:\t\t predicted_dist = 6.7 (2.1)\n",
      "INFO:tensorflow:\t set goal dist = 5\n",
      "INFO:tensorflow:\t\t AverageReturn (eval distance=5.000000) -8.90\n",
      "INFO:tensorflow:\t\t predicted_dist = 10.1 (1.5)\n",
      "INFO:tensorflow:\t set goal dist = 10\n",
      "INFO:tensorflow:\t\t AverageReturn (eval distance=10.000000) -16.20\n",
      "INFO:tensorflow:\t\t predicted_dist = 13.1 (1.2)\n",
      "INFO:tensorflow:\t eval_time = 1.94\n"
     ]
    },
    {
     "name": "stderr",
     "output_type": "stream",
     "text": [
      " 80%|███████▉  | 23994/30000 [08:25<01:50, 54.54it/s]"
     ]
    },
    {
     "name": "stdout",
     "output_type": "stream",
     "text": [
      "Saved checkpoint for step 24000: /home/mgaltier200/sgm/notebooks/../agents/thinned_fourrooms/5_FourRooms_coordinate_20steps-May-17-2021-09-08-52-PM/ckpt/ckpt-24\n",
      "INFO:tensorflow:step = 24000, loss = 2.675823\n",
      "INFO:tensorflow:56.855 steps/sec\n",
      "INFO:tensorflow:step = 24000\n",
      "INFO:tensorflow:\t set goal dist = 2\n",
      "INFO:tensorflow:\t\t AverageReturn (eval distance=2.000000) -3.50\n",
      "INFO:tensorflow:\t\t predicted_dist = 6.3 (1.8)\n",
      "INFO:tensorflow:\t set goal dist = 5\n",
      "INFO:tensorflow:\t\t AverageReturn (eval distance=5.000000) -8.00\n",
      "INFO:tensorflow:\t\t predicted_dist = 9.3 (1.6)\n",
      "INFO:tensorflow:\t set goal dist = 10\n",
      "INFO:tensorflow:\t\t AverageReturn (eval distance=10.000000) -16.20\n",
      "INFO:tensorflow:\t\t predicted_dist = 12.1 (1.0)\n",
      "INFO:tensorflow:\t eval_time = 2.15\n"
     ]
    },
    {
     "name": "stderr",
     "output_type": "stream",
     "text": [
      " 83%|████████▎ | 24995/30000 [08:47<01:30, 55.61it/s]"
     ]
    },
    {
     "name": "stdout",
     "output_type": "stream",
     "text": [
      "Saved checkpoint for step 25000: /home/mgaltier200/sgm/notebooks/../agents/thinned_fourrooms/5_FourRooms_coordinate_20steps-May-17-2021-09-08-52-PM/ckpt/ckpt-25\n",
      "INFO:tensorflow:step = 25000, loss = 3.019652\n",
      "INFO:tensorflow:57.202 steps/sec\n",
      "INFO:tensorflow:step = 25000\n",
      "INFO:tensorflow:\t set goal dist = 2\n",
      "INFO:tensorflow:\t\t AverageReturn (eval distance=2.000000) -3.40\n",
      "INFO:tensorflow:\t\t predicted_dist = 5.9 (1.5)\n",
      "INFO:tensorflow:\t set goal dist = 5\n",
      "INFO:tensorflow:\t\t AverageReturn (eval distance=5.000000) -7.10\n",
      "INFO:tensorflow:\t\t predicted_dist = 9.8 (1.0)\n",
      "INFO:tensorflow:\t set goal dist = 10\n",
      "INFO:tensorflow:\t\t AverageReturn (eval distance=10.000000) -14.20\n",
      "INFO:tensorflow:\t\t predicted_dist = 12.8 (1.1)\n",
      "INFO:tensorflow:\t eval_time = 1.99\n"
     ]
    },
    {
     "name": "stderr",
     "output_type": "stream",
     "text": [
      " 87%|████████▋ | 25994/30000 [09:08<01:10, 57.01it/s]"
     ]
    },
    {
     "name": "stdout",
     "output_type": "stream",
     "text": [
      "Saved checkpoint for step 26000: /home/mgaltier200/sgm/notebooks/../agents/thinned_fourrooms/5_FourRooms_coordinate_20steps-May-17-2021-09-08-52-PM/ckpt/ckpt-26\n",
      "INFO:tensorflow:step = 26000, loss = 2.751535\n",
      "INFO:tensorflow:57.038 steps/sec\n",
      "INFO:tensorflow:step = 26000\n",
      "INFO:tensorflow:\t set goal dist = 2\n",
      "INFO:tensorflow:\t\t AverageReturn (eval distance=2.000000) -2.50\n",
      "INFO:tensorflow:\t\t predicted_dist = 6.5 (1.9)\n",
      "INFO:tensorflow:\t set goal dist = 5\n",
      "INFO:tensorflow:\t\t AverageReturn (eval distance=5.000000) -8.50\n",
      "INFO:tensorflow:\t\t predicted_dist = 9.4 (0.8)\n",
      "INFO:tensorflow:\t set goal dist = 10\n",
      "INFO:tensorflow:\t\t AverageReturn (eval distance=10.000000) -17.70\n",
      "INFO:tensorflow:\t\t predicted_dist = 12.1 (1.2)\n",
      "INFO:tensorflow:\t eval_time = 2.07\n"
     ]
    },
    {
     "name": "stderr",
     "output_type": "stream",
     "text": [
      " 90%|████████▉ | 26994/30000 [09:29<00:58, 51.16it/s]"
     ]
    },
    {
     "name": "stdout",
     "output_type": "stream",
     "text": [
      "Saved checkpoint for step 27000: /home/mgaltier200/sgm/notebooks/../agents/thinned_fourrooms/5_FourRooms_coordinate_20steps-May-17-2021-09-08-52-PM/ckpt/ckpt-27\n",
      "INFO:tensorflow:step = 27000, loss = 3.687920\n",
      "INFO:tensorflow:57.849 steps/sec\n",
      "INFO:tensorflow:step = 27000\n",
      "INFO:tensorflow:\t set goal dist = 2\n",
      "INFO:tensorflow:\t\t AverageReturn (eval distance=2.000000) -3.20\n",
      "INFO:tensorflow:\t\t predicted_dist = 5.4 (1.8)\n",
      "INFO:tensorflow:\t set goal dist = 5\n",
      "INFO:tensorflow:\t\t AverageReturn (eval distance=5.000000) -7.80\n",
      "INFO:tensorflow:\t\t predicted_dist = 9.6 (0.8)\n",
      "INFO:tensorflow:\t set goal dist = 10\n",
      "INFO:tensorflow:\t\t AverageReturn (eval distance=10.000000) -17.40\n",
      "INFO:tensorflow:\t\t predicted_dist = 11.7 (1.3)\n",
      "INFO:tensorflow:\t eval_time = 2.51\n"
     ]
    },
    {
     "name": "stderr",
     "output_type": "stream",
     "text": [
      " 93%|█████████▎| 27994/30000 [09:50<00:36, 54.72it/s]"
     ]
    },
    {
     "name": "stdout",
     "output_type": "stream",
     "text": [
      "Saved checkpoint for step 28000: /home/mgaltier200/sgm/notebooks/../agents/thinned_fourrooms/5_FourRooms_coordinate_20steps-May-17-2021-09-08-52-PM/ckpt/ckpt-28\n",
      "INFO:tensorflow:step = 28000, loss = 3.076559\n",
      "INFO:tensorflow:59.672 steps/sec\n",
      "INFO:tensorflow:step = 28000\n",
      "INFO:tensorflow:\t set goal dist = 2\n",
      "INFO:tensorflow:\t\t AverageReturn (eval distance=2.000000) -2.80\n",
      "INFO:tensorflow:\t\t predicted_dist = 6.8 (2.4)\n",
      "INFO:tensorflow:\t set goal dist = 5\n",
      "INFO:tensorflow:\t\t AverageReturn (eval distance=5.000000) -9.90\n",
      "INFO:tensorflow:\t\t predicted_dist = 11.1 (1.3)\n",
      "INFO:tensorflow:\t set goal dist = 10\n",
      "INFO:tensorflow:\t\t AverageReturn (eval distance=10.000000) -13.90\n",
      "INFO:tensorflow:\t\t predicted_dist = 13.1 (0.7)\n",
      "INFO:tensorflow:\t eval_time = 2.55\n"
     ]
    },
    {
     "name": "stderr",
     "output_type": "stream",
     "text": [
      " 97%|█████████▋| 28996/30000 [10:11<00:17, 56.78it/s]"
     ]
    },
    {
     "name": "stdout",
     "output_type": "stream",
     "text": [
      "Saved checkpoint for step 29000: /home/mgaltier200/sgm/notebooks/../agents/thinned_fourrooms/5_FourRooms_coordinate_20steps-May-17-2021-09-08-52-PM/ckpt/ckpt-29\n",
      "INFO:tensorflow:step = 29000, loss = 2.908637\n",
      "INFO:tensorflow:57.841 steps/sec\n",
      "INFO:tensorflow:step = 29000\n",
      "INFO:tensorflow:\t set goal dist = 2\n",
      "INFO:tensorflow:\t\t AverageReturn (eval distance=2.000000) -5.10\n",
      "INFO:tensorflow:\t\t predicted_dist = 6.6 (1.6)\n",
      "INFO:tensorflow:\t set goal dist = 5\n",
      "INFO:tensorflow:\t\t AverageReturn (eval distance=5.000000) -10.10\n",
      "INFO:tensorflow:\t\t predicted_dist = 9.0 (1.5)\n",
      "INFO:tensorflow:\t set goal dist = 10\n",
      "INFO:tensorflow:\t\t AverageReturn (eval distance=10.000000) -17.70\n",
      "INFO:tensorflow:\t\t predicted_dist = 12.4 (1.7)\n",
      "INFO:tensorflow:\t eval_time = 2.24\n"
     ]
    },
    {
     "name": "stderr",
     "output_type": "stream",
     "text": [
      "100%|█████████▉| 29998/30000 [10:32<00:00, 54.76it/s]"
     ]
    },
    {
     "name": "stdout",
     "output_type": "stream",
     "text": [
      "Saved checkpoint for step 30000: /home/mgaltier200/sgm/notebooks/../agents/thinned_fourrooms/5_FourRooms_coordinate_20steps-May-17-2021-09-08-52-PM/ckpt/ckpt-30\n",
      "INFO:tensorflow:step = 30000, loss = 2.738144\n",
      "INFO:tensorflow:58.559 steps/sec\n",
      "INFO:tensorflow:step = 30000\n",
      "INFO:tensorflow:\t set goal dist = 2\n",
      "INFO:tensorflow:\t\t AverageReturn (eval distance=2.000000) -6.00\n",
      "INFO:tensorflow:\t\t predicted_dist = 6.2 (1.7)\n",
      "INFO:tensorflow:\t set goal dist = 5\n",
      "INFO:tensorflow:\t\t AverageReturn (eval distance=5.000000) -8.20\n",
      "INFO:tensorflow:\t\t predicted_dist = 8.3 (1.4)\n",
      "INFO:tensorflow:\t set goal dist = 10\n",
      "INFO:tensorflow:\t\t AverageReturn (eval distance=10.000000) -15.10\n",
      "INFO:tensorflow:\t\t predicted_dist = 12.1 (1.1)\n",
      "INFO:tensorflow:\t eval_time = 2.13\n"
     ]
    },
    {
     "name": "stderr",
     "output_type": "stream",
     "text": [
      "100%|██████████| 30000/30000 [10:34<00:00, 47.27it/s]\n"
     ]
    },
    {
     "data": {
      "image/png": "[encoded data removed]",
      "text/plain": [
       "<Figure size 432x432 with 1 Axes>"
      ]
     },
     "metadata": {},
     "output_type": "display_data"
    },
    {
     "data": {
      "image/png": "[encoded data removed]",
      "text/plain": [
       "<Figure size 432x216 with 1 Axes>"
      ]
     },
     "metadata": {
      "needs_background": "light"
     },
     "output_type": "display_data"
    },
    {
     "data": {
      "image/png": "[encoded data removed]",
      "text/plain": [
       "<Figure size 432x216 with 1 Axes>"
      ]
     },
     "metadata": {
      "needs_background": "light"
     },
     "output_type": "display_data"
    },
    {
     "name": "stdout",
     "output_type": "stream",
     "text": [
      "SoRB has initial success rate 0.00\n",
      "Evaluated initial SoRB success rate in 681.95 seconds\n",
      "After filtering and 0 cleanup steps, SoRB has success rate 0.20\n",
      "Took 5000 cleanup steps and evaluated SoRB success rate in 5510.34 seconds\n",
      "After filtering and 5000 cleanup steps, SoRB has success rate 0.10\n",
      "Took 5000 cleanup steps and evaluated SoRB success rate in 3546.42 seconds\n",
      "After filtering and 10000 cleanup steps, SoRB has success rate 0.05\n",
      "Took 5000 cleanup steps and evaluated SoRB success rate in 4144.29 seconds\n",
      "After filtering and 15000 cleanup steps, SoRB has success rate 0.10\n",
      "Took 5000 cleanup steps and evaluated SoRB success rate in 4320.27 seconds\n",
      "After filtering and 20000 cleanup steps, SoRB has success rate 0.05\n",
      "Took 5000 cleanup steps and evaluated SoRB success rate in 4652.53 seconds\n",
      "After filtering and 25000 cleanup steps, SoRB has success rate 0.05\n",
      "Took 5000 cleanup steps and evaluated SoRB success rate in 3861.09 seconds\n",
      "After filtering and 30000 cleanup steps, SoRB has success rate 0.10\n",
      "Took 5000 cleanup steps and evaluated SoRB success rate in 4057.41 seconds\n",
      "Took 5000 cleanup steps and evaluated SoRB success rate in 4674.16 seconds\n",
      "After filtering and 40000 cleanup steps, SoRB has success rate 0.00\n",
      "Took 5000 cleanup steps and evaluated SoRB success rate in 4466.43 seconds\n",
      "After filtering and 45000 cleanup steps, SoRB has success rate 0.05\n",
      "Took 5000 cleanup steps and evaluated SoRB success rate in 4715.70 seconds\n",
      "After filtering and 50000 cleanup steps, SoRB has success rate 0.10\n"
     ]
    }
   ],
   "source": [
    "generalized_difficulty(5)"
   ]
  }
 ],
 "metadata": {
  "kernelspec": {
   "display_name": "Python 3",
   "language": "python",
   "name": "python3"
  },
  "language_info": {
   "codemirror_mode": {
    "name": "ipython",
    "version": 3
   },
   "file_extension": ".py",
   "mimetype": "text/x-python",
   "name": "python",
   "nbconvert_exporter": "python",
   "pygments_lexer": "ipython3",
   "version": "3.7.1"
  }
 },
 "nbformat": 4,
 "nbformat_minor": 5
}
