{
 "cells": [
  {
   "cell_type": "code",
   "execution_count": 1,
   "id": "0dc68160",
   "metadata": {},
   "outputs": [],
   "source": [
    "# Reload modules whenever underlying code changes\n",
    "%load_ext autoreload\n",
    "%autoreload 2"
   ]
  },
  {
   "cell_type": "code",
   "execution_count": 2,
   "id": "5b4a90c3",
   "metadata": {},
   "outputs": [
    {
     "name": "stderr",
     "output_type": "stream",
     "text": [
      "\n",
      "Bad key savefig.frameon in file /home/mgaltier200/anaconda3/lib/python3.7/site-packages/matplotlib/mpl-data/stylelib/_classic_test.mplstyle, line 421 ('savefig.frameon : True')\n",
      "You probably need to get an updated matplotlibrc file from\n",
      "https://github.com/matplotlib/matplotlib/blob/v3.4.2/matplotlibrc.template\n",
      "or from the matplotlib source distribution\n",
      "\n",
      "Bad key verbose.level in file /home/mgaltier200/anaconda3/lib/python3.7/site-packages/matplotlib/mpl-data/stylelib/_classic_test.mplstyle, line 472 ('verbose.level  : silent      # one of silent, helpful, debug, debug-annoying')\n",
      "You probably need to get an updated matplotlibrc file from\n",
      "https://github.com/matplotlib/matplotlib/blob/v3.4.2/matplotlibrc.template\n",
      "or from the matplotlib source distribution\n",
      "\n",
      "Bad key verbose.fileo in file /home/mgaltier200/anaconda3/lib/python3.7/site-packages/matplotlib/mpl-data/stylelib/_classic_test.mplstyle, line 473 ('verbose.fileo  : sys.stdout  # a log filename, sys.stdout or sys.stderr')\n",
      "You probably need to get an updated matplotlibrc file from\n",
      "https://github.com/matplotlib/matplotlib/blob/v3.4.2/matplotlibrc.template\n",
      "or from the matplotlib source distribution\n",
      "In /home/mgaltier200/anaconda3/lib/python3.7/site-packages/matplotlib/mpl-data/stylelib/_classic_test.mplstyle: \n",
      "The text.latex.preview rcparam was deprecated in Matplotlib 3.3 and will be removed two minor releases later.\n",
      "In /home/mgaltier200/anaconda3/lib/python3.7/site-packages/matplotlib/mpl-data/stylelib/_classic_test.mplstyle: \n",
      "The mathtext.fallback_to_cm rcparam was deprecated in Matplotlib 3.3 and will be removed two minor releases later.\n",
      "In /home/mgaltier200/anaconda3/lib/python3.7/site-packages/matplotlib/mpl-data/stylelib/_classic_test.mplstyle: Support for setting the 'mathtext.fallback_to_cm' rcParam is deprecated since 3.3 and will be removed two minor releases later; use 'mathtext.fallback : 'cm' instead.\n",
      "In /home/mgaltier200/anaconda3/lib/python3.7/site-packages/matplotlib/mpl-data/stylelib/_classic_test.mplstyle: \n",
      "The validate_bool_maybe_none function was deprecated in Matplotlib 3.3 and will be removed two minor releases later.\n",
      "In /home/mgaltier200/anaconda3/lib/python3.7/site-packages/matplotlib/mpl-data/stylelib/_classic_test.mplstyle: \n",
      "The savefig.jpeg_quality rcparam was deprecated in Matplotlib 3.3 and will be removed two minor releases later.\n",
      "In /home/mgaltier200/anaconda3/lib/python3.7/site-packages/matplotlib/mpl-data/stylelib/_classic_test.mplstyle: \n",
      "The keymap.all_axes rcparam was deprecated in Matplotlib 3.3 and will be removed two minor releases later.\n",
      "In /home/mgaltier200/anaconda3/lib/python3.7/site-packages/matplotlib/mpl-data/stylelib/_classic_test.mplstyle: \n",
      "The animation.avconv_path rcparam was deprecated in Matplotlib 3.3 and will be removed two minor releases later.\n",
      "In /home/mgaltier200/anaconda3/lib/python3.7/site-packages/matplotlib/mpl-data/stylelib/_classic_test.mplstyle: \n",
      "The animation.avconv_args rcparam was deprecated in Matplotlib 3.3 and will be removed two minor releases later.\n",
      "/home/mgaltier200/anaconda3/lib/python3.7/site-packages/dask/dataframe/utils.py:13: FutureWarning: pandas.util.testing is deprecated. Use the functions in the public API at pandas.testing instead.\n",
      "  import pandas.util.testing as tm\n"
     ]
    }
   ],
   "source": [
    "%matplotlib inline\n",
    "from sgm.dependencies import *"
   ]
  },
  {
   "cell_type": "code",
   "execution_count": 3,
   "id": "c99da06b",
   "metadata": {},
   "outputs": [],
   "source": [
    "from sgm.envs import env_load_fn\n",
    "from sgm.agent import UvfAgent\n",
    "from sgm.trainer import train_eval\n",
    "from sgm.envs import *\n",
    "from scipy.spatial import distance\n",
    "from sgm.evaluation import cleanup_and_eval\n",
    "from sgm.planner import SoRBSearchPolicy\n",
    "    \n",
    "def generalized_difficulty(resize_factor):\n",
    "    tf.reset_default_graph()\n",
    "\n",
    "    # If you change the environment parameters below, make sure to run\n",
    "    # tf.reset_default_graph() in the cell above before training.\n",
    "    max_episode_steps = 20\n",
    "    env_name = 'FourRooms'  # Choose one of the environments shown above. \n",
    "    resize_factor = resize_factor  # Inflate the environment to increase the difficulty.\n",
    "    thin = True # If True, resize by expanding open space, not walls, to make walls thin\n",
    "    desc_name = \"thinned_\" + env_name.lower() if thin else env_name.lower()\n",
    "\n",
    "    base_dir = os.path.join(os.getcwd(), os.pardir, \"agents\")\n",
    "    model_dir = os.path.join(base_dir, desc_name)\n",
    "\n",
    "    tf_env = env_load_fn(env_name, max_episode_steps,\n",
    "                         resize_factor=resize_factor,\n",
    "                         terminate_on_timeout=False,\n",
    "                         thin=thin)\n",
    "    eval_tf_env = env_load_fn(env_name, max_episode_steps,\n",
    "                              resize_factor=resize_factor,\n",
    "                              terminate_on_timeout=True,\n",
    "                              thin=thin)\n",
    "\n",
    "    agent = UvfAgent(\n",
    "        tf_env.time_step_spec(),\n",
    "        tf_env.action_spec(),\n",
    "        max_episode_steps=max_episode_steps,\n",
    "        use_distributional_rl=True,\n",
    "        ensemble_size=3)\n",
    "\n",
    "\n",
    "\n",
    "    train_eval(agent,\n",
    "              tf_env,\n",
    "              eval_tf_env,\n",
    "              initial_collect_steps=1000,\n",
    "              eval_interval=1000,\n",
    "              num_eval_episodes=10,\n",
    "              num_iterations=30000,\n",
    "              save_model_dir=model_dir,\n",
    "              experiment_name=f\"{resize_factor}_{env_name}_coordinate_{max_episode_steps}steps\")\n",
    "\n",
    "    filename = str(resize_factor)+\"_FourRooms_coordinate_20steps-Dec-05-2019-12-58-28-PM/ckpt/\"\n",
    "    checkpoint_file = os.path.join(model_dir, filename)\n",
    "\n",
    "    ckpt = tf.train.Checkpoint(step=tf.Variable(1), net=agent)\n",
    "    manager = tf.train.CheckpointManager(ckpt, checkpoint_file, max_to_keep=3)\n",
    "    ckpt.restore(manager.latest_checkpoint)\n",
    "\n",
    "    #@title Fill the replay buffer with random data  {vertical-output: true, run: \"auto\" }\n",
    "    replay_buffer_size = 2000 #@param {min:100, max: 1000, step: 100, type:\"slider\"}\n",
    "\n",
    "    eval_tf_env.pyenv.envs[0].gym.set_sample_goal_args(\n",
    "        prob_constraint=0.0,\n",
    "        min_dist=0,\n",
    "        max_dist=np.inf)\n",
    "    rb_vec = []\n",
    "    for it in range(replay_buffer_size):\n",
    "        ts = eval_tf_env.reset()\n",
    "        rb_vec.append(ts.observation['observation'].numpy()[0])\n",
    "    rb_vec = np.array(rb_vec)\n",
    "\n",
    "\n",
    "    plt.figure(figsize=(6, 6))\n",
    "    plt.scatter(*rb_vec.T)\n",
    "    plot_walls(eval_tf_env.pyenv.envs[0].env.walls)\n",
    "    plt.show()\n",
    "\n",
    "    pdist = agent._get_pairwise_dist(rb_vec, aggregate=None).numpy()\n",
    "\n",
    "    plt.figure(figsize=(6, 3))\n",
    "    plt.hist(pdist.flatten(), bins=range(20))\n",
    "    plt.xlabel('predicted distance')\n",
    "    plt.ylabel('number of (s, g) pairs')\n",
    "    plt.show()\n",
    "\n",
    "    euclidean_dists = distance.pdist(rb_vec)\n",
    "\n",
    "    plt.figure(figsize=(6, 3))\n",
    "    plt.hist(euclidean_dists.flatten())\n",
    "    plt.xlabel('Euclidean distance')\n",
    "    plt.ylabel('number of pairwise distances')\n",
    "    plt.show()\n",
    "\n",
    "    search_policy_type = \"SoRB\"\n",
    "    agent.initialize_search(rb_vec, max_search_steps=6)\n",
    "    search_policy = SoRBSearchPolicy(agent, pdist, rb_vec)\n",
    "\n",
    "\n",
    "    logdir = os.path.join(os.getcwd(), os.pardir, \"logs\")\n",
    "    eval_difficulty = 0.95\n",
    "    k_nearest = 5\n",
    "    eval_trials = 20\n",
    "    total_cleanup_steps = 50000\n",
    "    eval_period = 5000\n",
    "\n",
    "    logfolder = cleanup_and_eval(search_policy,\n",
    "                                 search_policy_type,\n",
    "                                 desc_name,\n",
    "                                 eval_tf_env,\n",
    "                                 logdir,\n",
    "                                 eval_difficulty=eval_difficulty,\n",
    "                                 k_nearest=k_nearest,\n",
    "                                 eval_trials=eval_trials,\n",
    "                                 total_cleanup_steps=total_cleanup_steps,\n",
    "                                 eval_period=eval_period)"
   ]
  },
  {
   "cell_type": "code",
   "execution_count": null,
   "id": "704807a4",
   "metadata": {},
   "outputs": [
    {
     "name": "stderr",
     "output_type": "stream",
     "text": [
      "/home/mgaltier200/anaconda3/lib/python3.7/site-packages/gym/logger.py:30: UserWarning: \u001b[33mWARN: Box bound precision lowered by casting to float32\u001b[0m\n",
      "  warnings.warn(colorize('%s: %s'%('WARN', msg % args), 'yellow'))\n"
     ]
    },
    {
     "name": "stdout",
     "output_type": "stream",
     "text": [
      "WARNING:tensorflow:From /home/mgaltier200/anaconda3/lib/python3.7/site-packages/tf_agents/agents/ddpg/actor_network.py:101: The name tf.keras.initializers.RandomUniform is deprecated. Please use tf.compat.v1.keras.initializers.RandomUniform instead.\n",
      "\n",
      "INFO:tensorflow:random_seed = 0\n",
      "WARNING:tensorflow:From /home/mgaltier200/anaconda3/lib/python3.7/site-packages/tensorflow_core/python/ops/resource_variable_ops.py:1781: calling BaseResourceVariable.__init__ (from tensorflow.python.ops.resource_variable_ops) with constraint is deprecated and will be removed in a future version.\n",
      "Instructions for updating:\n",
      "If using Keras pass *_constraint arguments to layers.\n",
      "WARNING:tensorflow:From /home/mgaltier200/anaconda3/lib/python3.7/site-packages/tf_agents/replay_buffers/tf_uniform_replay_buffer.py:545: where (from tensorflow.python.ops.array_ops) is deprecated and will be removed in a future version.\n",
      "Instructions for updating:\n",
      "Use tf.where in 2.0, which has the same broadcast rule as np.where\n",
      "INFO:tensorflow:Saving checkpoints to directory /home/mgaltier200/sgm/notebooks/../agents/thinned_fourrooms/7_FourRooms_coordinate_20steps-May-17-2021-09-12-30-PM/ckpt\n",
      "INFO:tensorflow:Creating tensorboard summary writer with directory /home/mgaltier200/sgm/notebooks/../agents/thinned_fourrooms/7_FourRooms_coordinate_20steps-May-17-2021-09-12-30-PM\n",
      "WARNING:tensorflow:\n",
      "The TensorFlow contrib module will not be included in TensorFlow 2.0.\n",
      "For more information, please see:\n",
      "  * https://github.com/tensorflow/community/blob/master/rfcs/20180907-contrib-sunset.md\n",
      "  * https://github.com/tensorflow/addons\n",
      "  * https://github.com/tensorflow/io (for I/O related ops)\n",
      "If you depend on functionality not listed there, please file an issue.\n",
      "\n"
     ]
    },
    {
     "name": "stderr",
     "output_type": "stream",
     "text": [
      "  3%|▎         | 998/30000 [00:22<09:30, 50.86it/s] "
     ]
    },
    {
     "name": "stdout",
     "output_type": "stream",
     "text": [
      "Saved checkpoint for step 1000: /home/mgaltier200/sgm/notebooks/../agents/thinned_fourrooms/7_FourRooms_coordinate_20steps-May-17-2021-09-12-30-PM/ckpt/ckpt-1\n",
      "INFO:tensorflow:step = 1000, loss = 2.325192\n",
      "INFO:tensorflow:47.092 steps/sec\n",
      "INFO:tensorflow:step = 1000\n",
      "INFO:tensorflow:\t set goal dist = 2\n",
      "INFO:tensorflow:\t\t AverageReturn (eval distance=2.000000) -18.10\n",
      "INFO:tensorflow:\t\t predicted_dist = 15.2 (0.2)\n",
      "INFO:tensorflow:\t set goal dist = 5\n",
      "INFO:tensorflow:\t\t AverageReturn (eval distance=5.000000) -18.40\n",
      "INFO:tensorflow:\t\t predicted_dist = 15.1 (0.2)\n",
      "INFO:tensorflow:\t set goal dist = 10\n",
      "INFO:tensorflow:\t\t AverageReturn (eval distance=10.000000) -20.00\n",
      "INFO:tensorflow:\t\t predicted_dist = 15.3 (0.3)\n",
      "INFO:tensorflow:\t eval_time = 4.44\n"
     ]
    },
    {
     "name": "stderr",
     "output_type": "stream",
     "text": [
      "  7%|▋         | 1998/30000 [00:46<08:59, 51.89it/s]  "
     ]
    },
    {
     "name": "stdout",
     "output_type": "stream",
     "text": [
      "Saved checkpoint for step 2000: /home/mgaltier200/sgm/notebooks/../agents/thinned_fourrooms/7_FourRooms_coordinate_20steps-May-17-2021-09-12-30-PM/ckpt/ckpt-2\n",
      "INFO:tensorflow:step = 2000, loss = 1.119706\n",
      "INFO:tensorflow:57.777 steps/sec\n",
      "INFO:tensorflow:step = 2000\n",
      "INFO:tensorflow:\t set goal dist = 2\n",
      "INFO:tensorflow:\t\t AverageReturn (eval distance=2.000000) -16.40\n",
      "INFO:tensorflow:\t\t predicted_dist = 17.2 (0.9)\n",
      "INFO:tensorflow:\t set goal dist = 5\n",
      "INFO:tensorflow:\t\t AverageReturn (eval distance=5.000000) -20.00\n",
      "INFO:tensorflow:\t\t predicted_dist = 16.8 (1.3)\n",
      "INFO:tensorflow:\t set goal dist = 10\n",
      "INFO:tensorflow:\t\t AverageReturn (eval distance=10.000000) -20.00\n",
      "INFO:tensorflow:\t\t predicted_dist = 17.4 (1.1)\n",
      "INFO:tensorflow:\t eval_time = 2.88\n"
     ]
    },
    {
     "name": "stderr",
     "output_type": "stream",
     "text": [
      " 10%|▉         | 2999/30000 [01:07<09:48, 45.88it/s]  "
     ]
    },
    {
     "name": "stdout",
     "output_type": "stream",
     "text": [
      "Saved checkpoint for step 3000: /home/mgaltier200/sgm/notebooks/../agents/thinned_fourrooms/7_FourRooms_coordinate_20steps-May-17-2021-09-12-30-PM/ckpt/ckpt-3\n",
      "INFO:tensorflow:step = 3000, loss = 0.758277\n",
      "INFO:tensorflow:58.182 steps/sec\n",
      "INFO:tensorflow:step = 3000\n",
      "INFO:tensorflow:\t set goal dist = 2\n",
      "INFO:tensorflow:\t\t AverageReturn (eval distance=2.000000) -20.00\n",
      "INFO:tensorflow:\t\t predicted_dist = 18.4 (0.8)\n",
      "INFO:tensorflow:\t set goal dist = 5\n",
      "INFO:tensorflow:\t\t AverageReturn (eval distance=5.000000) -18.40\n",
      "INFO:tensorflow:\t\t predicted_dist = 18.8 (0.4)\n",
      "INFO:tensorflow:\t set goal dist = 10\n",
      "INFO:tensorflow:\t\t AverageReturn (eval distance=10.000000) -20.00\n",
      "INFO:tensorflow:\t\t predicted_dist = 18.8 (0.4)\n",
      "INFO:tensorflow:\t eval_time = 2.94\n"
     ]
    },
    {
     "name": "stderr",
     "output_type": "stream",
     "text": [
      " 13%|█▎        | 3997/30000 [01:29<08:51, 48.89it/s]  "
     ]
    },
    {
     "name": "stdout",
     "output_type": "stream",
     "text": [
      "Saved checkpoint for step 4000: /home/mgaltier200/sgm/notebooks/../agents/thinned_fourrooms/7_FourRooms_coordinate_20steps-May-17-2021-09-12-30-PM/ckpt/ckpt-4\n",
      "INFO:tensorflow:step = 4000, loss = 0.703709\n",
      "INFO:tensorflow:58.078 steps/sec\n",
      "INFO:tensorflow:step = 4000\n",
      "INFO:tensorflow:\t set goal dist = 2\n",
      "INFO:tensorflow:\t\t AverageReturn (eval distance=2.000000) -13.00\n",
      "INFO:tensorflow:\t\t predicted_dist = 17.4 (1.4)\n",
      "INFO:tensorflow:\t set goal dist = 5\n",
      "INFO:tensorflow:\t\t AverageReturn (eval distance=5.000000) -18.50\n",
      "INFO:tensorflow:\t\t predicted_dist = 18.3 (0.8)\n",
      "INFO:tensorflow:\t set goal dist = 10\n",
      "INFO:tensorflow:\t\t AverageReturn (eval distance=10.000000) -19.40\n",
      "INFO:tensorflow:\t\t predicted_dist = 18.8 (0.9)\n",
      "INFO:tensorflow:\t eval_time = 3.05\n"
     ]
    },
    {
     "name": "stderr",
     "output_type": "stream",
     "text": [
      " 17%|█▋        | 4996/30000 [01:51<07:42, 54.11it/s]  "
     ]
    },
    {
     "name": "stdout",
     "output_type": "stream",
     "text": [
      "Saved checkpoint for step 5000: /home/mgaltier200/sgm/notebooks/../agents/thinned_fourrooms/7_FourRooms_coordinate_20steps-May-17-2021-09-12-30-PM/ckpt/ckpt-5\n",
      "INFO:tensorflow:step = 5000, loss = 0.650048\n",
      "INFO:tensorflow:57.571 steps/sec\n",
      "INFO:tensorflow:step = 5000\n",
      "INFO:tensorflow:\t set goal dist = 2\n",
      "INFO:tensorflow:\t\t AverageReturn (eval distance=2.000000) -14.50\n",
      "INFO:tensorflow:\t\t predicted_dist = 17.5 (1.4)\n",
      "INFO:tensorflow:\t set goal dist = 5\n",
      "INFO:tensorflow:\t\t AverageReturn (eval distance=5.000000) -20.00\n",
      "INFO:tensorflow:\t\t predicted_dist = 17.9 (1.1)\n",
      "INFO:tensorflow:\t set goal dist = 10\n",
      "INFO:tensorflow:\t\t AverageReturn (eval distance=10.000000) -20.00\n",
      "INFO:tensorflow:\t\t predicted_dist = 18.3 (1.4)\n",
      "INFO:tensorflow:\t eval_time = 3.09\n"
     ]
    },
    {
     "name": "stderr",
     "output_type": "stream",
     "text": [
      " 20%|█▉        | 5999/30000 [02:13<09:06, 43.95it/s]  "
     ]
    },
    {
     "name": "stdout",
     "output_type": "stream",
     "text": [
      "Saved checkpoint for step 6000: /home/mgaltier200/sgm/notebooks/../agents/thinned_fourrooms/7_FourRooms_coordinate_20steps-May-17-2021-09-12-30-PM/ckpt/ckpt-6\n",
      "INFO:tensorflow:step = 6000, loss = 0.779132\n",
      "INFO:tensorflow:56.898 steps/sec\n",
      "INFO:tensorflow:step = 6000\n",
      "INFO:tensorflow:\t set goal dist = 2\n",
      "INFO:tensorflow:\t\t AverageReturn (eval distance=2.000000) -20.00\n",
      "INFO:tensorflow:\t\t predicted_dist = 17.6 (1.1)\n",
      "INFO:tensorflow:\t set goal dist = 5\n",
      "INFO:tensorflow:\t\t AverageReturn (eval distance=5.000000) -18.80\n",
      "INFO:tensorflow:\t\t predicted_dist = 17.5 (1.1)\n",
      "INFO:tensorflow:\t set goal dist = 10\n",
      "INFO:tensorflow:\t\t AverageReturn (eval distance=10.000000) -20.00\n",
      "INFO:tensorflow:\t\t predicted_dist = 18.8 (1.0)\n",
      "INFO:tensorflow:\t eval_time = 3.14\n"
     ]
    },
    {
     "name": "stderr",
     "output_type": "stream",
     "text": [
      " 23%|██▎       | 6998/30000 [02:35<07:02, 54.40it/s]  "
     ]
    },
    {
     "name": "stdout",
     "output_type": "stream",
     "text": [
      "Saved checkpoint for step 7000: /home/mgaltier200/sgm/notebooks/../agents/thinned_fourrooms/7_FourRooms_coordinate_20steps-May-17-2021-09-12-30-PM/ckpt/ckpt-7\n",
      "INFO:tensorflow:step = 7000, loss = 1.012426\n",
      "INFO:tensorflow:58.017 steps/sec\n",
      "INFO:tensorflow:step = 7000\n",
      "INFO:tensorflow:\t set goal dist = 2\n",
      "INFO:tensorflow:\t\t AverageReturn (eval distance=2.000000) -11.90\n",
      "INFO:tensorflow:\t\t predicted_dist = 16.7 (1.5)\n",
      "INFO:tensorflow:\t set goal dist = 5\n",
      "INFO:tensorflow:\t\t AverageReturn (eval distance=5.000000) -19.10\n",
      "INFO:tensorflow:\t\t predicted_dist = 17.6 (1.0)\n",
      "INFO:tensorflow:\t set goal dist = 10\n",
      "INFO:tensorflow:\t\t AverageReturn (eval distance=10.000000) -20.00\n",
      "INFO:tensorflow:\t\t predicted_dist = 18.3 (0.5)\n",
      "INFO:tensorflow:\t eval_time = 2.89\n"
     ]
    },
    {
     "name": "stderr",
     "output_type": "stream",
     "text": [
      " 27%|██▋       | 7998/30000 [02:57<07:23, 49.59it/s]  "
     ]
    },
    {
     "name": "stdout",
     "output_type": "stream",
     "text": [
      "Saved checkpoint for step 8000: /home/mgaltier200/sgm/notebooks/../agents/thinned_fourrooms/7_FourRooms_coordinate_20steps-May-17-2021-09-12-30-PM/ckpt/ckpt-8\n",
      "INFO:tensorflow:step = 8000, loss = 2.434176\n",
      "INFO:tensorflow:56.928 steps/sec\n",
      "INFO:tensorflow:step = 8000\n",
      "INFO:tensorflow:\t set goal dist = 2\n",
      "INFO:tensorflow:\t\t AverageReturn (eval distance=2.000000) -15.30\n",
      "INFO:tensorflow:\t\t predicted_dist = 16.3 (1.8)\n",
      "INFO:tensorflow:\t set goal dist = 5\n",
      "INFO:tensorflow:\t\t AverageReturn (eval distance=5.000000) -18.10\n",
      "INFO:tensorflow:\t\t predicted_dist = 17.4 (0.5)\n",
      "INFO:tensorflow:\t set goal dist = 10\n",
      "INFO:tensorflow:\t\t AverageReturn (eval distance=10.000000) -20.00\n",
      "INFO:tensorflow:\t\t predicted_dist = 18.4 (0.6)\n",
      "INFO:tensorflow:\t eval_time = 2.95\n"
     ]
    },
    {
     "name": "stderr",
     "output_type": "stream",
     "text": [
      " 30%|██▉       | 8999/30000 [03:20<07:35, 46.13it/s]  "
     ]
    },
    {
     "name": "stdout",
     "output_type": "stream",
     "text": [
      "Saved checkpoint for step 9000: /home/mgaltier200/sgm/notebooks/../agents/thinned_fourrooms/7_FourRooms_coordinate_20steps-May-17-2021-09-12-30-PM/ckpt/ckpt-9\n",
      "INFO:tensorflow:step = 9000, loss = 1.478944\n",
      "INFO:tensorflow:56.305 steps/sec\n",
      "INFO:tensorflow:step = 9000\n",
      "INFO:tensorflow:\t set goal dist = 2\n",
      "INFO:tensorflow:\t\t AverageReturn (eval distance=2.000000) -16.20\n",
      "INFO:tensorflow:\t\t predicted_dist = 16.9 (1.4)\n",
      "INFO:tensorflow:\t set goal dist = 5\n",
      "INFO:tensorflow:\t\t AverageReturn (eval distance=5.000000) -18.90\n",
      "INFO:tensorflow:\t\t predicted_dist = 17.8 (0.8)\n",
      "INFO:tensorflow:\t set goal dist = 10\n",
      "INFO:tensorflow:\t\t AverageReturn (eval distance=10.000000) -20.00\n",
      "INFO:tensorflow:\t\t predicted_dist = 18.3 (0.9)\n",
      "INFO:tensorflow:\t eval_time = 2.64\n"
     ]
    },
    {
     "name": "stderr",
     "output_type": "stream",
     "text": [
      " 33%|███▎      | 9995/30000 [03:42<06:01, 55.29it/s]"
     ]
    },
    {
     "name": "stdout",
     "output_type": "stream",
     "text": [
      "Saved checkpoint for step 10000: /home/mgaltier200/sgm/notebooks/../agents/thinned_fourrooms/7_FourRooms_coordinate_20steps-May-17-2021-09-12-30-PM/ckpt/ckpt-10\n",
      "INFO:tensorflow:step = 10000, loss = 2.263114\n",
      "INFO:tensorflow:55.814 steps/sec\n",
      "INFO:tensorflow:step = 10000\n",
      "INFO:tensorflow:\t set goal dist = 2\n",
      "INFO:tensorflow:\t\t AverageReturn (eval distance=2.000000) -20.00\n",
      "INFO:tensorflow:\t\t predicted_dist = 16.4 (2.8)\n",
      "INFO:tensorflow:\t set goal dist = 5\n",
      "INFO:tensorflow:\t\t AverageReturn (eval distance=5.000000) -19.20\n",
      "INFO:tensorflow:\t\t predicted_dist = 18.0 (0.8)\n",
      "INFO:tensorflow:\t set goal dist = 10\n",
      "INFO:tensorflow:\t\t AverageReturn (eval distance=10.000000) -19.90\n",
      "INFO:tensorflow:\t\t predicted_dist = 18.2 (0.8)\n",
      "INFO:tensorflow:\t eval_time = 2.89\n"
     ]
    },
    {
     "name": "stderr",
     "output_type": "stream",
     "text": [
      " 37%|███▋      | 10995/30000 [04:04<05:44, 55.20it/s]"
     ]
    },
    {
     "name": "stdout",
     "output_type": "stream",
     "text": [
      "Saved checkpoint for step 11000: /home/mgaltier200/sgm/notebooks/../agents/thinned_fourrooms/7_FourRooms_coordinate_20steps-May-17-2021-09-12-30-PM/ckpt/ckpt-11\n",
      "INFO:tensorflow:step = 11000, loss = 1.380374\n",
      "INFO:tensorflow:57.295 steps/sec\n",
      "INFO:tensorflow:step = 11000\n",
      "INFO:tensorflow:\t set goal dist = 2\n",
      "INFO:tensorflow:\t\t AverageReturn (eval distance=2.000000) -16.20\n",
      "INFO:tensorflow:\t\t predicted_dist = 15.5 (1.5)\n",
      "INFO:tensorflow:\t set goal dist = 5\n",
      "INFO:tensorflow:\t\t AverageReturn (eval distance=5.000000) -20.00\n",
      "INFO:tensorflow:\t\t predicted_dist = 16.6 (1.3)\n",
      "INFO:tensorflow:\t set goal dist = 10\n",
      "INFO:tensorflow:\t\t AverageReturn (eval distance=10.000000) -19.40\n",
      "INFO:tensorflow:\t\t predicted_dist = 18.1 (0.6)\n",
      "INFO:tensorflow:\t eval_time = 2.85\n"
     ]
    },
    {
     "name": "stderr",
     "output_type": "stream",
     "text": [
      " 40%|███▉      | 11999/30000 [04:26<05:46, 51.99it/s]"
     ]
    },
    {
     "name": "stdout",
     "output_type": "stream",
     "text": [
      "Saved checkpoint for step 12000: /home/mgaltier200/sgm/notebooks/../agents/thinned_fourrooms/7_FourRooms_coordinate_20steps-May-17-2021-09-12-30-PM/ckpt/ckpt-12\n",
      "INFO:tensorflow:step = 12000, loss = 1.309692\n",
      "INFO:tensorflow:56.424 steps/sec\n",
      "INFO:tensorflow:step = 12000\n",
      "INFO:tensorflow:\t set goal dist = 2\n",
      "INFO:tensorflow:\t\t AverageReturn (eval distance=2.000000) -15.20\n",
      "INFO:tensorflow:\t\t predicted_dist = 16.6 (1.0)\n",
      "INFO:tensorflow:\t set goal dist = 5\n",
      "INFO:tensorflow:\t\t AverageReturn (eval distance=5.000000) -18.20\n",
      "INFO:tensorflow:\t\t predicted_dist = 16.9 (0.7)\n",
      "INFO:tensorflow:\t set goal dist = 10\n",
      "INFO:tensorflow:\t\t AverageReturn (eval distance=10.000000) -20.00\n",
      "INFO:tensorflow:\t\t predicted_dist = 17.9 (1.2)\n",
      "INFO:tensorflow:\t eval_time = 2.92\n"
     ]
    },
    {
     "name": "stderr",
     "output_type": "stream",
     "text": [
      " 43%|████▎     | 12998/30000 [04:48<04:29, 63.03it/s]"
     ]
    },
    {
     "name": "stdout",
     "output_type": "stream",
     "text": [
      "Saved checkpoint for step 13000: /home/mgaltier200/sgm/notebooks/../agents/thinned_fourrooms/7_FourRooms_coordinate_20steps-May-17-2021-09-12-30-PM/ckpt/ckpt-13\n",
      "INFO:tensorflow:step = 13000, loss = 1.317329\n",
      "INFO:tensorflow:57.294 steps/sec\n",
      "INFO:tensorflow:step = 13000\n",
      "INFO:tensorflow:\t set goal dist = 2\n",
      "INFO:tensorflow:\t\t AverageReturn (eval distance=2.000000) -13.90\n",
      "INFO:tensorflow:\t\t predicted_dist = 16.7 (1.1)\n",
      "INFO:tensorflow:\t set goal dist = 5\n",
      "INFO:tensorflow:\t\t AverageReturn (eval distance=5.000000) -18.30\n",
      "INFO:tensorflow:\t\t predicted_dist = 17.3 (0.7)\n",
      "INFO:tensorflow:\t set goal dist = 10\n",
      "INFO:tensorflow:\t\t AverageReturn (eval distance=10.000000) -19.30\n",
      "INFO:tensorflow:\t\t predicted_dist = 17.8 (1.1)\n",
      "INFO:tensorflow:\t eval_time = 2.42\n"
     ]
    },
    {
     "name": "stderr",
     "output_type": "stream",
     "text": [
      " 47%|████▋     | 13995/30000 [05:09<04:23, 60.64it/s]"
     ]
    },
    {
     "name": "stdout",
     "output_type": "stream",
     "text": [
      "Saved checkpoint for step 14000: /home/mgaltier200/sgm/notebooks/../agents/thinned_fourrooms/7_FourRooms_coordinate_20steps-May-17-2021-09-12-30-PM/ckpt/ckpt-14\n",
      "INFO:tensorflow:step = 14000, loss = 1.338726\n",
      "INFO:tensorflow:57.194 steps/sec\n",
      "INFO:tensorflow:step = 14000\n",
      "INFO:tensorflow:\t set goal dist = 2\n",
      "INFO:tensorflow:\t\t AverageReturn (eval distance=2.000000) -20.00\n",
      "INFO:tensorflow:\t\t predicted_dist = 16.6 (1.2)\n",
      "INFO:tensorflow:\t set goal dist = 5\n",
      "INFO:tensorflow:\t\t AverageReturn (eval distance=5.000000) -16.60\n",
      "INFO:tensorflow:\t\t predicted_dist = 17.2 (1.4)\n",
      "INFO:tensorflow:\t set goal dist = 10\n",
      "INFO:tensorflow:\t\t AverageReturn (eval distance=10.000000) -20.00\n",
      "INFO:tensorflow:\t\t predicted_dist = 17.6 (1.0)\n",
      "INFO:tensorflow:\t eval_time = 2.71\n"
     ]
    },
    {
     "name": "stderr",
     "output_type": "stream",
     "text": [
      " 50%|████▉     | 14994/30000 [05:31<04:07, 60.69it/s]"
     ]
    },
    {
     "name": "stdout",
     "output_type": "stream",
     "text": [
      "Saved checkpoint for step 15000: /home/mgaltier200/sgm/notebooks/../agents/thinned_fourrooms/7_FourRooms_coordinate_20steps-May-17-2021-09-12-30-PM/ckpt/ckpt-15\n",
      "INFO:tensorflow:step = 15000, loss = 1.603099\n",
      "INFO:tensorflow:57.544 steps/sec\n",
      "INFO:tensorflow:step = 15000\n",
      "INFO:tensorflow:\t set goal dist = 2\n",
      "INFO:tensorflow:\t\t AverageReturn (eval distance=2.000000) -14.40\n",
      "INFO:tensorflow:\t\t predicted_dist = 15.2 (1.6)\n",
      "INFO:tensorflow:\t set goal dist = 5\n",
      "INFO:tensorflow:\t\t AverageReturn (eval distance=5.000000) -15.40\n",
      "INFO:tensorflow:\t\t predicted_dist = 16.4 (1.0)\n",
      "INFO:tensorflow:\t set goal dist = 10\n",
      "INFO:tensorflow:\t\t AverageReturn (eval distance=10.000000) -18.60\n",
      "INFO:tensorflow:\t\t predicted_dist = 17.7 (0.6)\n",
      "INFO:tensorflow:\t eval_time = 2.33\n"
     ]
    },
    {
     "name": "stderr",
     "output_type": "stream",
     "text": [
      " 53%|█████▎    | 15995/30000 [05:52<04:07, 56.51it/s]"
     ]
    },
    {
     "name": "stdout",
     "output_type": "stream",
     "text": [
      "Saved checkpoint for step 16000: /home/mgaltier200/sgm/notebooks/../agents/thinned_fourrooms/7_FourRooms_coordinate_20steps-May-17-2021-09-12-30-PM/ckpt/ckpt-16\n",
      "INFO:tensorflow:step = 16000, loss = 1.562803\n",
      "INFO:tensorflow:57.894 steps/sec\n",
      "INFO:tensorflow:step = 16000\n",
      "INFO:tensorflow:\t set goal dist = 2\n",
      "INFO:tensorflow:\t\t AverageReturn (eval distance=2.000000) -10.50\n",
      "INFO:tensorflow:\t\t predicted_dist = 15.7 (1.6)\n",
      "INFO:tensorflow:\t set goal dist = 5\n",
      "INFO:tensorflow:\t\t AverageReturn (eval distance=5.000000) -18.40\n",
      "INFO:tensorflow:\t\t predicted_dist = 17.4 (0.7)\n",
      "INFO:tensorflow:\t set goal dist = 10\n",
      "INFO:tensorflow:\t\t AverageReturn (eval distance=10.000000) -20.00\n",
      "INFO:tensorflow:\t\t predicted_dist = 18.2 (0.6)\n",
      "INFO:tensorflow:\t eval_time = 3.49\n"
     ]
    },
    {
     "name": "stderr",
     "output_type": "stream",
     "text": [
      " 57%|█████▋    | 16996/30000 [06:14<03:53, 55.74it/s]"
     ]
    },
    {
     "name": "stdout",
     "output_type": "stream",
     "text": [
      "Saved checkpoint for step 17000: /home/mgaltier200/sgm/notebooks/../agents/thinned_fourrooms/7_FourRooms_coordinate_20steps-May-17-2021-09-12-30-PM/ckpt/ckpt-17\n",
      "INFO:tensorflow:step = 17000, loss = 1.188956\n",
      "INFO:tensorflow:59.045 steps/sec\n",
      "INFO:tensorflow:step = 17000\n",
      "INFO:tensorflow:\t set goal dist = 2\n",
      "INFO:tensorflow:\t\t AverageReturn (eval distance=2.000000) -9.90\n",
      "INFO:tensorflow:\t\t predicted_dist = 14.4 (3.1)\n",
      "INFO:tensorflow:\t set goal dist = 5\n",
      "INFO:tensorflow:\t\t AverageReturn (eval distance=5.000000) -15.60\n",
      "INFO:tensorflow:\t\t predicted_dist = 16.0 (2.1)\n",
      "INFO:tensorflow:\t set goal dist = 10\n",
      "INFO:tensorflow:\t\t AverageReturn (eval distance=10.000000) -19.30\n",
      "INFO:tensorflow:\t\t predicted_dist = 18.0 (0.6)\n",
      "INFO:tensorflow:\t eval_time = 3.37\n"
     ]
    },
    {
     "name": "stderr",
     "output_type": "stream",
     "text": [
      " 60%|█████▉    | 17994/30000 [06:36<03:47, 52.81it/s]"
     ]
    },
    {
     "name": "stdout",
     "output_type": "stream",
     "text": [
      "Saved checkpoint for step 18000: /home/mgaltier200/sgm/notebooks/../agents/thinned_fourrooms/7_FourRooms_coordinate_20steps-May-17-2021-09-12-30-PM/ckpt/ckpt-18\n",
      "INFO:tensorflow:step = 18000, loss = 1.566064\n",
      "INFO:tensorflow:58.034 steps/sec\n",
      "INFO:tensorflow:step = 18000\n",
      "INFO:tensorflow:\t set goal dist = 2\n",
      "INFO:tensorflow:\t\t AverageReturn (eval distance=2.000000) -16.60\n",
      "INFO:tensorflow:\t\t predicted_dist = 13.8 (2.3)\n",
      "INFO:tensorflow:\t set goal dist = 5\n",
      "INFO:tensorflow:\t\t AverageReturn (eval distance=5.000000) -13.30\n",
      "INFO:tensorflow:\t\t predicted_dist = 16.5 (1.3)\n",
      "INFO:tensorflow:\t set goal dist = 10\n",
      "INFO:tensorflow:\t\t AverageReturn (eval distance=10.000000) -19.60\n",
      "INFO:tensorflow:\t\t predicted_dist = 17.7 (1.1)\n",
      "INFO:tensorflow:\t eval_time = 2.70\n"
     ]
    },
    {
     "name": "stderr",
     "output_type": "stream",
     "text": [
      " 63%|██████▎   | 18996/30000 [06:57<03:20, 54.93it/s]"
     ]
    },
    {
     "name": "stdout",
     "output_type": "stream",
     "text": [
      "Saved checkpoint for step 19000: /home/mgaltier200/sgm/notebooks/../agents/thinned_fourrooms/7_FourRooms_coordinate_20steps-May-17-2021-09-12-30-PM/ckpt/ckpt-19\n",
      "INFO:tensorflow:step = 19000, loss = 1.680965\n",
      "INFO:tensorflow:58.700 steps/sec\n",
      "INFO:tensorflow:step = 19000\n",
      "INFO:tensorflow:\t set goal dist = 2\n",
      "INFO:tensorflow:\t\t AverageReturn (eval distance=2.000000) -14.80\n",
      "INFO:tensorflow:\t\t predicted_dist = 13.1 (2.1)\n",
      "INFO:tensorflow:\t set goal dist = 5\n",
      "INFO:tensorflow:\t\t AverageReturn (eval distance=5.000000) -15.00\n",
      "INFO:tensorflow:\t\t predicted_dist = 16.6 (0.6)\n",
      "INFO:tensorflow:\t set goal dist = 10\n",
      "INFO:tensorflow:\t\t AverageReturn (eval distance=10.000000) -19.20\n",
      "INFO:tensorflow:\t\t predicted_dist = 17.2 (0.6)\n",
      "INFO:tensorflow:\t eval_time = 2.82\n"
     ]
    },
    {
     "name": "stderr",
     "output_type": "stream",
     "text": [
      " 67%|██████▋   | 19996/30000 [07:19<03:01, 55.21it/s]"
     ]
    },
    {
     "name": "stdout",
     "output_type": "stream",
     "text": [
      "Saved checkpoint for step 20000: /home/mgaltier200/sgm/notebooks/../agents/thinned_fourrooms/7_FourRooms_coordinate_20steps-May-17-2021-09-12-30-PM/ckpt/ckpt-20\n",
      "INFO:tensorflow:step = 20000, loss = 1.663490\n",
      "INFO:tensorflow:59.876 steps/sec\n",
      "INFO:tensorflow:step = 20000\n",
      "INFO:tensorflow:\t set goal dist = 2\n",
      "INFO:tensorflow:\t\t AverageReturn (eval distance=2.000000) -5.30\n",
      "INFO:tensorflow:\t\t predicted_dist = 14.3 (2.6)\n",
      "INFO:tensorflow:\t set goal dist = 5\n",
      "INFO:tensorflow:\t\t AverageReturn (eval distance=5.000000) -18.40\n",
      "INFO:tensorflow:\t\t predicted_dist = 16.1 (1.1)\n",
      "INFO:tensorflow:\t set goal dist = 10\n",
      "INFO:tensorflow:\t\t AverageReturn (eval distance=10.000000) -18.50\n",
      "INFO:tensorflow:\t\t predicted_dist = 17.2 (1.4)\n",
      "INFO:tensorflow:\t eval_time = 2.89\n"
     ]
    },
    {
     "name": "stderr",
     "output_type": "stream",
     "text": [
      " 70%|██████▉   | 20995/30000 [07:40<02:51, 52.56it/s]"
     ]
    },
    {
     "name": "stdout",
     "output_type": "stream",
     "text": [
      "Saved checkpoint for step 21000: /home/mgaltier200/sgm/notebooks/../agents/thinned_fourrooms/7_FourRooms_coordinate_20steps-May-17-2021-09-12-30-PM/ckpt/ckpt-21\n",
      "INFO:tensorflow:step = 21000, loss = 1.697386\n",
      "INFO:tensorflow:58.365 steps/sec\n",
      "INFO:tensorflow:step = 21000\n",
      "INFO:tensorflow:\t set goal dist = 2\n",
      "INFO:tensorflow:\t\t AverageReturn (eval distance=2.000000) -11.40\n",
      "INFO:tensorflow:\t\t predicted_dist = 12.5 (4.1)\n",
      "INFO:tensorflow:\t set goal dist = 5\n",
      "INFO:tensorflow:\t\t AverageReturn (eval distance=5.000000) -13.10\n",
      "INFO:tensorflow:\t\t predicted_dist = 15.1 (1.9)\n",
      "INFO:tensorflow:\t set goal dist = 10\n",
      "INFO:tensorflow:\t\t AverageReturn (eval distance=10.000000) -18.60\n",
      "INFO:tensorflow:\t\t predicted_dist = 17.0 (1.3)\n",
      "INFO:tensorflow:\t eval_time = 2.80\n"
     ]
    },
    {
     "name": "stderr",
     "output_type": "stream",
     "text": [
      " 73%|███████▎  | 21997/30000 [08:02<02:42, 49.29it/s]"
     ]
    },
    {
     "name": "stdout",
     "output_type": "stream",
     "text": [
      "Saved checkpoint for step 22000: /home/mgaltier200/sgm/notebooks/../agents/thinned_fourrooms/7_FourRooms_coordinate_20steps-May-17-2021-09-12-30-PM/ckpt/ckpt-22\n",
      "INFO:tensorflow:step = 22000, loss = 1.818187\n",
      "INFO:tensorflow:56.218 steps/sec\n",
      "INFO:tensorflow:step = 22000\n",
      "INFO:tensorflow:\t set goal dist = 2\n",
      "INFO:tensorflow:\t\t AverageReturn (eval distance=2.000000) -11.20\n",
      "INFO:tensorflow:\t\t predicted_dist = 12.9 (2.6)\n",
      "INFO:tensorflow:\t set goal dist = 5\n",
      "INFO:tensorflow:\t\t AverageReturn (eval distance=5.000000) -14.10\n",
      "INFO:tensorflow:\t\t predicted_dist = 15.1 (1.7)\n",
      "INFO:tensorflow:\t set goal dist = 10\n",
      "INFO:tensorflow:\t\t AverageReturn (eval distance=10.000000) -17.80\n",
      "INFO:tensorflow:\t\t predicted_dist = 16.5 (1.0)\n",
      "INFO:tensorflow:\t eval_time = 2.82\n"
     ]
    },
    {
     "name": "stderr",
     "output_type": "stream",
     "text": [
      " 77%|███████▋  | 22998/30000 [08:24<02:15, 51.82it/s]"
     ]
    },
    {
     "name": "stdout",
     "output_type": "stream",
     "text": [
      "Saved checkpoint for step 23000: /home/mgaltier200/sgm/notebooks/../agents/thinned_fourrooms/7_FourRooms_coordinate_20steps-May-17-2021-09-12-30-PM/ckpt/ckpt-23\n",
      "INFO:tensorflow:step = 23000, loss = 2.752802\n",
      "INFO:tensorflow:57.401 steps/sec\n",
      "INFO:tensorflow:step = 23000\n",
      "INFO:tensorflow:\t set goal dist = 2\n",
      "INFO:tensorflow:\t\t AverageReturn (eval distance=2.000000) -17.90\n",
      "INFO:tensorflow:\t\t predicted_dist = 11.6 (2.5)\n",
      "INFO:tensorflow:\t set goal dist = 5\n",
      "INFO:tensorflow:\t\t AverageReturn (eval distance=5.000000) -18.60\n",
      "INFO:tensorflow:\t\t predicted_dist = 14.4 (1.6)\n",
      "INFO:tensorflow:\t set goal dist = 10\n",
      "INFO:tensorflow:\t\t AverageReturn (eval distance=10.000000) -18.80\n",
      "INFO:tensorflow:\t\t predicted_dist = 15.9 (0.9)\n",
      "INFO:tensorflow:\t eval_time = 3.38\n"
     ]
    },
    {
     "name": "stderr",
     "output_type": "stream",
     "text": [
      " 80%|███████▉  | 23994/30000 [08:47<01:52, 53.51it/s]"
     ]
    },
    {
     "name": "stdout",
     "output_type": "stream",
     "text": [
      "Saved checkpoint for step 24000: /home/mgaltier200/sgm/notebooks/../agents/thinned_fourrooms/7_FourRooms_coordinate_20steps-May-17-2021-09-12-30-PM/ckpt/ckpt-24\n",
      "INFO:tensorflow:step = 24000, loss = 2.159070\n",
      "INFO:tensorflow:56.419 steps/sec\n",
      "INFO:tensorflow:step = 24000\n",
      "INFO:tensorflow:\t set goal dist = 2\n",
      "INFO:tensorflow:\t\t AverageReturn (eval distance=2.000000) -13.40\n",
      "INFO:tensorflow:\t\t predicted_dist = 11.2 (2.7)\n",
      "INFO:tensorflow:\t set goal dist = 5\n",
      "INFO:tensorflow:\t\t AverageReturn (eval distance=5.000000) -17.50\n",
      "INFO:tensorflow:\t\t predicted_dist = 14.5 (1.2)\n",
      "INFO:tensorflow:\t set goal dist = 10\n",
      "INFO:tensorflow:\t\t AverageReturn (eval distance=10.000000) -18.90\n",
      "INFO:tensorflow:\t\t predicted_dist = 15.9 (1.1)\n",
      "INFO:tensorflow:\t eval_time = 3.18\n"
     ]
    },
    {
     "name": "stderr",
     "output_type": "stream",
     "text": [
      " 83%|████████▎ | 24999/30000 [09:10<01:48, 46.01it/s]"
     ]
    },
    {
     "name": "stdout",
     "output_type": "stream",
     "text": [
      "Saved checkpoint for step 25000: /home/mgaltier200/sgm/notebooks/../agents/thinned_fourrooms/7_FourRooms_coordinate_20steps-May-17-2021-09-12-30-PM/ckpt/ckpt-25\n",
      "INFO:tensorflow:step = 25000, loss = 2.185075\n",
      "INFO:tensorflow:56.175 steps/sec\n",
      "INFO:tensorflow:step = 25000\n",
      "INFO:tensorflow:\t set goal dist = 2\n",
      "INFO:tensorflow:\t\t AverageReturn (eval distance=2.000000) -14.10\n",
      "INFO:tensorflow:\t\t predicted_dist = 11.7 (3.6)\n",
      "INFO:tensorflow:\t set goal dist = 5\n",
      "INFO:tensorflow:\t\t AverageReturn (eval distance=5.000000) -17.80\n",
      "INFO:tensorflow:\t\t predicted_dist = 14.5 (1.7)\n",
      "INFO:tensorflow:\t set goal dist = 10\n",
      "INFO:tensorflow:\t\t AverageReturn (eval distance=10.000000) -16.70\n",
      "INFO:tensorflow:\t\t predicted_dist = 16.8 (0.8)\n",
      "INFO:tensorflow:\t eval_time = 3.36\n"
     ]
    },
    {
     "name": "stderr",
     "output_type": "stream",
     "text": [
      " 87%|████████▋ | 25996/30000 [09:32<01:18, 50.69it/s]"
     ]
    },
    {
     "name": "stdout",
     "output_type": "stream",
     "text": [
      "Saved checkpoint for step 26000: /home/mgaltier200/sgm/notebooks/../agents/thinned_fourrooms/7_FourRooms_coordinate_20steps-May-17-2021-09-12-30-PM/ckpt/ckpt-26\n",
      "INFO:tensorflow:step = 26000, loss = 2.065141\n",
      "INFO:tensorflow:57.443 steps/sec\n",
      "INFO:tensorflow:step = 26000\n",
      "INFO:tensorflow:\t set goal dist = 2\n",
      "INFO:tensorflow:\t\t AverageReturn (eval distance=2.000000) -7.40\n",
      "INFO:tensorflow:\t\t predicted_dist = 13.4 (2.1)\n",
      "INFO:tensorflow:\t set goal dist = 5\n",
      "INFO:tensorflow:\t\t AverageReturn (eval distance=5.000000) -13.20\n",
      "INFO:tensorflow:\t\t predicted_dist = 15.7 (1.0)\n",
      "INFO:tensorflow:\t set goal dist = 10\n",
      "INFO:tensorflow:\t\t AverageReturn (eval distance=10.000000) -16.90\n",
      "INFO:tensorflow:\t\t predicted_dist = 16.9 (0.7)\n",
      "INFO:tensorflow:\t eval_time = 2.97\n"
     ]
    },
    {
     "name": "stderr",
     "output_type": "stream",
     "text": [
      " 90%|████████▉ | 26999/30000 [09:54<01:00, 49.99it/s]"
     ]
    },
    {
     "name": "stdout",
     "output_type": "stream",
     "text": [
      "Saved checkpoint for step 27000: /home/mgaltier200/sgm/notebooks/../agents/thinned_fourrooms/7_FourRooms_coordinate_20steps-May-17-2021-09-12-30-PM/ckpt/ckpt-27\n",
      "INFO:tensorflow:step = 27000, loss = 2.299773\n",
      "INFO:tensorflow:59.778 steps/sec\n",
      "INFO:tensorflow:step = 27000\n",
      "INFO:tensorflow:\t set goal dist = 2\n",
      "INFO:tensorflow:\t\t AverageReturn (eval distance=2.000000) -9.70\n",
      "INFO:tensorflow:\t\t predicted_dist = 11.4 (1.1)\n",
      "INFO:tensorflow:\t set goal dist = 5\n",
      "INFO:tensorflow:\t\t AverageReturn (eval distance=5.000000) -16.40\n",
      "INFO:tensorflow:\t\t predicted_dist = 14.4 (1.2)\n",
      "INFO:tensorflow:\t set goal dist = 10\n",
      "INFO:tensorflow:\t\t AverageReturn (eval distance=10.000000) -16.20\n",
      "INFO:tensorflow:\t\t predicted_dist = 14.9 (1.1)\n",
      "INFO:tensorflow:\t eval_time = 2.65\n"
     ]
    },
    {
     "name": "stderr",
     "output_type": "stream",
     "text": [
      " 93%|█████████▎| 27999/30000 [10:14<00:39, 50.36it/s]"
     ]
    },
    {
     "name": "stdout",
     "output_type": "stream",
     "text": [
      "Saved checkpoint for step 28000: /home/mgaltier200/sgm/notebooks/../agents/thinned_fourrooms/7_FourRooms_coordinate_20steps-May-17-2021-09-12-30-PM/ckpt/ckpt-28\n",
      "INFO:tensorflow:step = 28000, loss = 2.005049\n",
      "INFO:tensorflow:60.531 steps/sec\n",
      "INFO:tensorflow:step = 28000\n",
      "INFO:tensorflow:\t set goal dist = 2\n",
      "INFO:tensorflow:\t\t AverageReturn (eval distance=2.000000) -10.50\n",
      "INFO:tensorflow:\t\t predicted_dist = 13.1 (3.2)\n",
      "INFO:tensorflow:\t set goal dist = 5\n",
      "INFO:tensorflow:\t\t AverageReturn (eval distance=5.000000) -15.90\n",
      "INFO:tensorflow:\t\t predicted_dist = 15.0 (1.2)\n",
      "INFO:tensorflow:\t set goal dist = 10\n",
      "INFO:tensorflow:\t\t AverageReturn (eval distance=10.000000) -16.40\n",
      "INFO:tensorflow:\t\t predicted_dist = 16.5 (0.7)\n",
      "INFO:tensorflow:\t eval_time = 2.76\n"
     ]
    },
    {
     "name": "stderr",
     "output_type": "stream",
     "text": [
      " 97%|█████████▋| 28998/30000 [10:37<00:19, 52.20it/s]"
     ]
    },
    {
     "name": "stdout",
     "output_type": "stream",
     "text": [
      "Saved checkpoint for step 29000: /home/mgaltier200/sgm/notebooks/../agents/thinned_fourrooms/7_FourRooms_coordinate_20steps-May-17-2021-09-12-30-PM/ckpt/ckpt-29\n",
      "INFO:tensorflow:step = 29000, loss = 2.304420\n",
      "INFO:tensorflow:56.433 steps/sec\n",
      "INFO:tensorflow:step = 29000\n",
      "INFO:tensorflow:\t set goal dist = 2\n",
      "INFO:tensorflow:\t\t AverageReturn (eval distance=2.000000) -11.60\n",
      "INFO:tensorflow:\t\t predicted_dist = 11.9 (2.3)\n",
      "INFO:tensorflow:\t set goal dist = 5\n",
      "INFO:tensorflow:\t\t AverageReturn (eval distance=5.000000) -13.00\n",
      "INFO:tensorflow:\t\t predicted_dist = 14.4 (0.8)\n",
      "INFO:tensorflow:\t set goal dist = 10\n",
      "INFO:tensorflow:\t\t AverageReturn (eval distance=10.000000) -17.80\n",
      "INFO:tensorflow:\t\t predicted_dist = 15.6 (0.9)\n",
      "INFO:tensorflow:\t eval_time = 3.12\n"
     ]
    },
    {
     "name": "stderr",
     "output_type": "stream",
     "text": [
      "100%|█████████▉| 29995/30000 [10:59<00:00, 57.82it/s]"
     ]
    },
    {
     "name": "stdout",
     "output_type": "stream",
     "text": [
      "Saved checkpoint for step 30000: /home/mgaltier200/sgm/notebooks/../agents/thinned_fourrooms/7_FourRooms_coordinate_20steps-May-17-2021-09-12-30-PM/ckpt/ckpt-30\n",
      "INFO:tensorflow:step = 30000, loss = 2.116292\n",
      "INFO:tensorflow:58.132 steps/sec\n",
      "INFO:tensorflow:step = 30000\n",
      "INFO:tensorflow:\t set goal dist = 2\n",
      "INFO:tensorflow:\t\t AverageReturn (eval distance=2.000000) -11.60\n",
      "INFO:tensorflow:\t\t predicted_dist = 11.6 (2.5)\n",
      "INFO:tensorflow:\t set goal dist = 5\n",
      "INFO:tensorflow:\t\t AverageReturn (eval distance=5.000000) -14.30\n",
      "INFO:tensorflow:\t\t predicted_dist = 14.1 (1.3)\n",
      "INFO:tensorflow:\t set goal dist = 10\n",
      "INFO:tensorflow:\t\t AverageReturn (eval distance=10.000000) -18.40\n",
      "INFO:tensorflow:\t\t predicted_dist = 15.9 (1.0)\n",
      "INFO:tensorflow:\t eval_time = 2.84\n"
     ]
    },
    {
     "name": "stderr",
     "output_type": "stream",
     "text": [
      "100%|██████████| 30000/30000 [11:02<00:00, 45.31it/s]\n"
     ]
    },
    {
     "data": {
      "image/png": "[encoded data removed]",
      "text/plain": [
       "<Figure size 432x432 with 1 Axes>"
      ]
     },
     "metadata": {},
     "output_type": "display_data"
    },
    {
     "data": {
      "image/png": "[encoded data removed]",
      "text/plain": [
       "<Figure size 432x216 with 1 Axes>"
      ]
     },
     "metadata": {
      "needs_background": "light"
     },
     "output_type": "display_data"
    },
    {
     "data": {
      "image/png": "[encoded data removed]",
      "text/plain": [
       "<Figure size 432x216 with 1 Axes>"
      ]
     },
     "metadata": {
      "needs_background": "light"
     },
     "output_type": "display_data"
    },
    {
     "name": "stdout",
     "output_type": "stream",
     "text": [
      "SoRB has initial success rate 0.00\n",
      "Evaluated initial SoRB success rate in 429.23 seconds\n",
      "After filtering and 0 cleanup steps, SoRB has success rate 0.00\n"
     ]
    }
   ],
   "source": [
    "generalized_difficulty(7)"
   ]
  }
 ],
 "metadata": {
  "kernelspec": {
   "display_name": "Python 3",
   "language": "python",
   "name": "python3"
  },
  "language_info": {
   "codemirror_mode": {
    "name": "ipython",
    "version": 3
   },
   "file_extension": ".py",
   "mimetype": "text/x-python",
   "name": "python",
   "nbconvert_exporter": "python",
   "pygments_lexer": "ipython3",
   "version": "3.7.1"
  }
 },
 "nbformat": 4,
 "nbformat_minor": 5
}
